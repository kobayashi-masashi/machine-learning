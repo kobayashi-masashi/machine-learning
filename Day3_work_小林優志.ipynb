{
 "cells": [
  {
   "cell_type": "markdown",
   "metadata": {},
   "source": [
    "## Kickstarter Projects\n",
    "課題：クラウドファンディングが成功するかを**事前に**予測するモデルの構築を目指す。"
   ]
  },
  {
   "cell_type": "markdown",
   "metadata": {},
   "source": [
    "Day1では、データをインポートして加工し、ロジスティック回帰をによるモデルを構築して評価した結果、予測の正答率は65.864%となった。  \n",
    "Day2ではデータの追加および軽量化、標準化ののちRidgeとLassoを検討したものの、正答率は63%程度と向上しなかった。  \n",
    "Day3では木モデルの利用およびニューラルネットワークの利用により予測精度の向上を目指す。"
   ]
  },
  {
   "cell_type": "markdown",
   "metadata": {},
   "source": [
    "Day1へのリンク：https://github.com/kobayashi-masashi/machine-learning/blob/master/Day1_work_小林優志.ipynb  \n",
    "Day2へのリンク：https://github.com/kobayashi-masashi/machine-learning/blob/master/Day2_work_小林優志.ipynb"
   ]
  },
  {
   "cell_type": "code",
   "execution_count": 1,
   "metadata": {},
   "outputs": [
    {
     "name": "stderr",
     "output_type": "stream",
     "text": [
      "D:\\programs\\Anaconda3\\lib\\site-packages\\ipykernel_launcher.py:25: SettingWithCopyWarning: \n",
      "A value is trying to be set on a copy of a slice from a DataFrame.\n",
      "Try using .loc[row_indexer,col_indexer] = value instead\n",
      "\n",
      "See the caveats in the documentation: https://pandas.pydata.org/pandas-docs/stable/user_guide/indexing.html#returning-a-view-versus-a-copy\n",
      "D:\\programs\\Anaconda3\\lib\\site-packages\\ipykernel_launcher.py:34: SettingWithCopyWarning: \n",
      "A value is trying to be set on a copy of a slice from a DataFrame.\n",
      "Try using .loc[row_indexer,col_indexer] = value instead\n",
      "\n",
      "See the caveats in the documentation: https://pandas.pydata.org/pandas-docs/stable/user_guide/indexing.html#returning-a-view-versus-a-copy\n"
     ]
    }
   ],
   "source": [
    "# データのインポートおよび加工など（Day1と同様）\n",
    "%matplotlib inline\n",
    "import pandas as pd\n",
    "import numpy as np\n",
    "import seaborn as sns\n",
    "import matplotlib.pyplot as plt\n",
    "\n",
    "df_ks = pd.read_csv(\"./ks-projects-201801.csv\")\n",
    "# 使えないデータの削除\n",
    "df_ks = df_ks.drop(columns=['goal', 'pledged', 'backers', 'usd pledged', 'usd_pledged_real'])\n",
    "df_ks = df_ks.query(\"state ==['failed', 'successful']\")\n",
    "# 二値化\n",
    "df_ks[\"state\"] = df_ks[\"state\"] == \"successful\" # successful=>True, failed=>False\n",
    "df_ks = df_ks.dropna()\n",
    "\n",
    "\"\"\"\n",
    "全てDay1で行ったデータの加工\n",
    "\"\"\"\n",
    "# 2100以上のデータがあるcountryのみ利用\n",
    "# データ数が2100以上のカテゴリを抜き出す\n",
    "df_country = pd.DataFrame() # 空のdataframe\n",
    "for index, value in df_ks['country'].value_counts().iteritems():\n",
    "    if value < 2100:\n",
    "        df_tmp = df_ks[(df_ks[\"country\"]==index)]\n",
    "        df_tmp[\"country\"] = \"others\"\n",
    "        df_country = pd.concat([df_country, df_tmp])\n",
    "        continue\n",
    "    df_country = pd.concat([df_country, df_ks[(df_ks[\"country\"]==index)]])\n",
    "# データ数が2100以上のカテゴリを抜き出す\n",
    "df_category = pd.DataFrame() # 空のdataframe\n",
    "for index, value in df_ks['category'].value_counts().iteritems():\n",
    "    if value < 2100:\n",
    "        df_tmp = df_ks[(df_ks[\"category\"]==index)]\n",
    "        df_tmp[\"category\"] = \"others\"\n",
    "        df_category = pd.concat([df_category, df_tmp])\n",
    "        continue\n",
    "    df_category = pd.concat([df_category, df_ks[(df_ks[\"category\"]==index)]])\n",
    "# usd_goal_realのオーダーと成功/失敗のみのデータフレームを作成する。\n",
    "df_ML = pd.DataFrame() # 煩雑になってきたので、使うものだけここに入れる。\n",
    "df_ML[\"state\"] = df_ks[\"state\"]\n",
    "# 地域\n",
    "df_ML = pd.concat([df_ML, pd.get_dummies(df_country[\"country\"], sparse=True)], axis=1)\n",
    "# sparse: メモリの削減\n",
    "df_ML = df_ML.drop(columns=\"others\") # 全て0ならothers\n",
    "# メインカテゴリ\n",
    "df_ML = pd.concat([df_ML, pd.get_dummies(df_ks[\"main_category\"], prefix=\"main_category\", sparse=True)], axis=1)\n",
    "df_ML = df_ML.drop(columns=\"main_category_Theater\") # 全て0ならTheater\n",
    "# カテゴリ\n",
    "df_ML = pd.concat([df_ML, pd.get_dummies(df_category[\"category\"], prefix=\"category\", sparse=True)], axis=1)\n",
    "df_ML = df_ML.drop(columns=\"category_others\") # 全て0ならothers\n",
    "df_ML[\"goal_band\"] = pd.cut(df_ks[\"usd_goal_real\"], [0, 1e2, 1e3, 1e4, 1e5, 1e6, 1e7, 1e9], labels=range(1,8))"
   ]
  },
  {
   "cell_type": "code",
   "execution_count": 2,
   "metadata": {},
   "outputs": [],
   "source": [
    "\"\"\"\n",
    "全てDay2で行ったデータの加工\n",
    "\"\"\"\n",
    "# 軽量化\n",
    "# カテゴリ\n",
    "c_keys = []\n",
    "# 上位\n",
    "key = df_ks.groupby(\"category\").mean()[\"state\"].sort_values().tail(5).keys()\n",
    "c_keys = c_keys + list(key)\n",
    "# 下位\n",
    "key = df_ks.groupby(\"category\").mean()[\"state\"].sort_values().head(5).keys()\n",
    "c_keys = c_keys + list(key)\n",
    "c_keys = [\"category_\" + s for s in c_keys]\n",
    "# メインカテゴリ\n",
    "mc_keys = []\n",
    "# 上位\n",
    "key = df_ks.groupby(\"main_category\").mean()[\"state\"].sort_values().tail(3).keys()\n",
    "mc_keys = mc_keys + list(key)\n",
    "# 下位\n",
    "key = df_ks.groupby(\"main_category\").mean()[\"state\"].sort_values().head(3).keys()\n",
    "mc_keys = mc_keys + list(key)\n",
    "mc_keys = [\"main_category_\" + s for s in mc_keys]\n",
    "# カテゴリに関するものを一度削除\n",
    "df_ML_wo_category = df_ML # バグ防止に仮置き\n",
    "for column_name in df_ML:\n",
    "    if 'category_' in column_name:\n",
    "        df_ML_wo_category = df_ML_wo_category.drop(columns=column_name)\n",
    "df_ML = df_ML_wo_category\n",
    "# もう一度追加\n",
    "# メインカテゴリ\n",
    "df_ML = pd.concat([df_ML, pd.get_dummies(df_ks[\"main_category\"], prefix=\"main_category\", sparse=True)], axis=1)\n",
    "# カテゴリ\n",
    "df_ML = pd.concat([df_ML, pd.get_dummies(df_ks[\"category\"], prefix=\"category\", sparse=True)], axis=1)\n",
    "# ピックアップしたもののみ残す\n",
    "keys = c_keys + mc_keys\n",
    "df_ML_edit = df_ML # バグ防止に仮置き\n",
    "for column_name in df_ML:\n",
    "    if \"category\" in column_name:\n",
    "        if column_name in keys:\n",
    "            continue\n",
    "        df_ML_edit = df_ML_edit.drop(columns=column_name)\n",
    "df_ML = df_ML_edit\n",
    "\n",
    "# 期間(period)の追加\n",
    "import datetime\n",
    "# deadlineおよびlaunchedをdatetime形式に変換する。\n",
    "l_dt = pd.to_datetime(df_ks[\"launched\"])\n",
    "d_dt = pd.to_datetime(df_ks[\"deadline\"])\n",
    "period = d_dt - l_dt # timedelta64[ns]となる\n",
    "# timedelta64[ns]から日数を抜き出し\n",
    "days = period.values.astype('timedelta64[D]')\n",
    "df_ks[\"period\"] = days / np.timedelta64(1, 'D')\n",
    "df_ks[\"period\"] = df_ks[\"period\"].astype('int64')\n",
    "df_ks[\"period\"].describe()\n",
    "df_ks[\"period_week\"] = df_ks[\"period\"] / 7\n",
    "# 追加\n",
    "df_ML[\"period\"] = df_ks[\"period\"]\n",
    "\n",
    "# 名前(name)の追加\n",
    "df_ks[\"name_!\"] = df_ks[\"name\"].str[-1] == \"!\"\n",
    "df_ks[\"name_?\"] = df_ks[\"name\"].str[-1] == \"?\"\n",
    "df_ML[\"name_!\"] = df_ks[\"name_!\"]\n",
    "df_ML[\"name_?\"] = df_ks[\"name_?\"]\n",
    "\n",
    "# 期間(period)の標準化\n",
    "from sklearn.preprocessing import StandardScaler\n",
    "stdsc = StandardScaler()\n",
    "df_ML[\"period\"] = stdsc.fit_transform(df_ML[[\"period\"]].values)\n"
   ]
  },
  {
   "cell_type": "markdown",
   "metadata": {},
   "source": [
    "# Day3"
   ]
  },
  {
   "cell_type": "code",
   "execution_count": 3,
   "metadata": {},
   "outputs": [
    {
     "data": {
      "text/html": [
       "<div>\n",
       "<style scoped>\n",
       "    .dataframe tbody tr th:only-of-type {\n",
       "        vertical-align: middle;\n",
       "    }\n",
       "\n",
       "    .dataframe tbody tr th {\n",
       "        vertical-align: top;\n",
       "    }\n",
       "\n",
       "    .dataframe thead th {\n",
       "        text-align: right;\n",
       "    }\n",
       "</style>\n",
       "<table border=\"1\" class=\"dataframe\">\n",
       "  <thead>\n",
       "    <tr style=\"text-align: right;\">\n",
       "      <th></th>\n",
       "      <th>ID</th>\n",
       "      <th>name</th>\n",
       "      <th>category</th>\n",
       "      <th>main_category</th>\n",
       "      <th>currency</th>\n",
       "      <th>deadline</th>\n",
       "      <th>launched</th>\n",
       "      <th>state</th>\n",
       "      <th>country</th>\n",
       "      <th>usd_goal_real</th>\n",
       "      <th>period</th>\n",
       "      <th>period_week</th>\n",
       "      <th>name_!</th>\n",
       "      <th>name_?</th>\n",
       "    </tr>\n",
       "  </thead>\n",
       "  <tbody>\n",
       "    <tr>\n",
       "      <th>0</th>\n",
       "      <td>1000002330</td>\n",
       "      <td>The Songs of Adelaide &amp; Abullah</td>\n",
       "      <td>Poetry</td>\n",
       "      <td>Publishing</td>\n",
       "      <td>GBP</td>\n",
       "      <td>2015-10-09</td>\n",
       "      <td>2015-08-11 12:12:28</td>\n",
       "      <td>False</td>\n",
       "      <td>GB</td>\n",
       "      <td>1533.95</td>\n",
       "      <td>58</td>\n",
       "      <td>8.285714</td>\n",
       "      <td>False</td>\n",
       "      <td>False</td>\n",
       "    </tr>\n",
       "    <tr>\n",
       "      <th>1</th>\n",
       "      <td>1000003930</td>\n",
       "      <td>Greeting From Earth: ZGAC Arts Capsule For ET</td>\n",
       "      <td>Narrative Film</td>\n",
       "      <td>Film &amp; Video</td>\n",
       "      <td>USD</td>\n",
       "      <td>2017-11-01</td>\n",
       "      <td>2017-09-02 04:43:57</td>\n",
       "      <td>False</td>\n",
       "      <td>US</td>\n",
       "      <td>30000.00</td>\n",
       "      <td>59</td>\n",
       "      <td>8.428571</td>\n",
       "      <td>False</td>\n",
       "      <td>False</td>\n",
       "    </tr>\n",
       "    <tr>\n",
       "      <th>2</th>\n",
       "      <td>1000004038</td>\n",
       "      <td>Where is Hank?</td>\n",
       "      <td>Narrative Film</td>\n",
       "      <td>Film &amp; Video</td>\n",
       "      <td>USD</td>\n",
       "      <td>2013-02-26</td>\n",
       "      <td>2013-01-12 00:20:50</td>\n",
       "      <td>False</td>\n",
       "      <td>US</td>\n",
       "      <td>45000.00</td>\n",
       "      <td>44</td>\n",
       "      <td>6.285714</td>\n",
       "      <td>False</td>\n",
       "      <td>True</td>\n",
       "    </tr>\n",
       "    <tr>\n",
       "      <th>3</th>\n",
       "      <td>1000007540</td>\n",
       "      <td>ToshiCapital Rekordz Needs Help to Complete Album</td>\n",
       "      <td>Music</td>\n",
       "      <td>Music</td>\n",
       "      <td>USD</td>\n",
       "      <td>2012-04-16</td>\n",
       "      <td>2012-03-17 03:24:11</td>\n",
       "      <td>False</td>\n",
       "      <td>US</td>\n",
       "      <td>5000.00</td>\n",
       "      <td>29</td>\n",
       "      <td>4.142857</td>\n",
       "      <td>False</td>\n",
       "      <td>False</td>\n",
       "    </tr>\n",
       "    <tr>\n",
       "      <th>5</th>\n",
       "      <td>1000014025</td>\n",
       "      <td>Monarch Espresso Bar</td>\n",
       "      <td>Restaurants</td>\n",
       "      <td>Food</td>\n",
       "      <td>USD</td>\n",
       "      <td>2016-04-01</td>\n",
       "      <td>2016-02-26 13:38:27</td>\n",
       "      <td>True</td>\n",
       "      <td>US</td>\n",
       "      <td>50000.00</td>\n",
       "      <td>34</td>\n",
       "      <td>4.857143</td>\n",
       "      <td>False</td>\n",
       "      <td>False</td>\n",
       "    </tr>\n",
       "    <tr>\n",
       "      <th>...</th>\n",
       "      <td>...</td>\n",
       "      <td>...</td>\n",
       "      <td>...</td>\n",
       "      <td>...</td>\n",
       "      <td>...</td>\n",
       "      <td>...</td>\n",
       "      <td>...</td>\n",
       "      <td>...</td>\n",
       "      <td>...</td>\n",
       "      <td>...</td>\n",
       "      <td>...</td>\n",
       "      <td>...</td>\n",
       "      <td>...</td>\n",
       "      <td>...</td>\n",
       "    </tr>\n",
       "    <tr>\n",
       "      <th>378654</th>\n",
       "      <td>999975836</td>\n",
       "      <td>Homemade fresh dog food, Cleveland OH</td>\n",
       "      <td>Small Batch</td>\n",
       "      <td>Food</td>\n",
       "      <td>USD</td>\n",
       "      <td>2017-04-19</td>\n",
       "      <td>2017-03-20 22:08:22</td>\n",
       "      <td>False</td>\n",
       "      <td>US</td>\n",
       "      <td>6500.00</td>\n",
       "      <td>29</td>\n",
       "      <td>4.142857</td>\n",
       "      <td>False</td>\n",
       "      <td>False</td>\n",
       "    </tr>\n",
       "    <tr>\n",
       "      <th>378657</th>\n",
       "      <td>999977640</td>\n",
       "      <td>The Tribe</td>\n",
       "      <td>Narrative Film</td>\n",
       "      <td>Film &amp; Video</td>\n",
       "      <td>USD</td>\n",
       "      <td>2011-07-19</td>\n",
       "      <td>2011-06-22 03:35:14</td>\n",
       "      <td>False</td>\n",
       "      <td>US</td>\n",
       "      <td>1500.00</td>\n",
       "      <td>26</td>\n",
       "      <td>3.714286</td>\n",
       "      <td>False</td>\n",
       "      <td>False</td>\n",
       "    </tr>\n",
       "    <tr>\n",
       "      <th>378658</th>\n",
       "      <td>999986353</td>\n",
       "      <td>Walls of Remedy- New lesbian Romantic Comedy f...</td>\n",
       "      <td>Narrative Film</td>\n",
       "      <td>Film &amp; Video</td>\n",
       "      <td>USD</td>\n",
       "      <td>2010-08-16</td>\n",
       "      <td>2010-07-01 19:40:30</td>\n",
       "      <td>False</td>\n",
       "      <td>US</td>\n",
       "      <td>15000.00</td>\n",
       "      <td>45</td>\n",
       "      <td>6.428571</td>\n",
       "      <td>True</td>\n",
       "      <td>False</td>\n",
       "    </tr>\n",
       "    <tr>\n",
       "      <th>378659</th>\n",
       "      <td>999987933</td>\n",
       "      <td>BioDefense Education Kit</td>\n",
       "      <td>Technology</td>\n",
       "      <td>Technology</td>\n",
       "      <td>USD</td>\n",
       "      <td>2016-02-13</td>\n",
       "      <td>2016-01-13 18:13:53</td>\n",
       "      <td>False</td>\n",
       "      <td>US</td>\n",
       "      <td>15000.00</td>\n",
       "      <td>30</td>\n",
       "      <td>4.285714</td>\n",
       "      <td>False</td>\n",
       "      <td>False</td>\n",
       "    </tr>\n",
       "    <tr>\n",
       "      <th>378660</th>\n",
       "      <td>999988282</td>\n",
       "      <td>Nou Renmen Ayiti!  We Love Haiti!</td>\n",
       "      <td>Performance Art</td>\n",
       "      <td>Art</td>\n",
       "      <td>USD</td>\n",
       "      <td>2011-08-16</td>\n",
       "      <td>2011-07-19 09:07:47</td>\n",
       "      <td>False</td>\n",
       "      <td>US</td>\n",
       "      <td>2000.00</td>\n",
       "      <td>27</td>\n",
       "      <td>3.857143</td>\n",
       "      <td>True</td>\n",
       "      <td>False</td>\n",
       "    </tr>\n",
       "  </tbody>\n",
       "</table>\n",
       "<p>331672 rows × 14 columns</p>\n",
       "</div>"
      ],
      "text/plain": [
       "                ID                                               name  \\\n",
       "0       1000002330                    The Songs of Adelaide & Abullah   \n",
       "1       1000003930      Greeting From Earth: ZGAC Arts Capsule For ET   \n",
       "2       1000004038                                     Where is Hank?   \n",
       "3       1000007540  ToshiCapital Rekordz Needs Help to Complete Album   \n",
       "5       1000014025                               Monarch Espresso Bar   \n",
       "...            ...                                                ...   \n",
       "378654   999975836              Homemade fresh dog food, Cleveland OH   \n",
       "378657   999977640                                          The Tribe   \n",
       "378658   999986353  Walls of Remedy- New lesbian Romantic Comedy f...   \n",
       "378659   999987933                           BioDefense Education Kit   \n",
       "378660   999988282                  Nou Renmen Ayiti!  We Love Haiti!   \n",
       "\n",
       "               category main_category currency    deadline  \\\n",
       "0                Poetry    Publishing      GBP  2015-10-09   \n",
       "1        Narrative Film  Film & Video      USD  2017-11-01   \n",
       "2        Narrative Film  Film & Video      USD  2013-02-26   \n",
       "3                 Music         Music      USD  2012-04-16   \n",
       "5           Restaurants          Food      USD  2016-04-01   \n",
       "...                 ...           ...      ...         ...   \n",
       "378654      Small Batch          Food      USD  2017-04-19   \n",
       "378657   Narrative Film  Film & Video      USD  2011-07-19   \n",
       "378658   Narrative Film  Film & Video      USD  2010-08-16   \n",
       "378659       Technology    Technology      USD  2016-02-13   \n",
       "378660  Performance Art           Art      USD  2011-08-16   \n",
       "\n",
       "                   launched  state country  usd_goal_real  period  \\\n",
       "0       2015-08-11 12:12:28  False      GB        1533.95      58   \n",
       "1       2017-09-02 04:43:57  False      US       30000.00      59   \n",
       "2       2013-01-12 00:20:50  False      US       45000.00      44   \n",
       "3       2012-03-17 03:24:11  False      US        5000.00      29   \n",
       "5       2016-02-26 13:38:27   True      US       50000.00      34   \n",
       "...                     ...    ...     ...            ...     ...   \n",
       "378654  2017-03-20 22:08:22  False      US        6500.00      29   \n",
       "378657  2011-06-22 03:35:14  False      US        1500.00      26   \n",
       "378658  2010-07-01 19:40:30  False      US       15000.00      45   \n",
       "378659  2016-01-13 18:13:53  False      US       15000.00      30   \n",
       "378660  2011-07-19 09:07:47  False      US        2000.00      27   \n",
       "\n",
       "        period_week  name_!  name_?  \n",
       "0          8.285714   False   False  \n",
       "1          8.428571   False   False  \n",
       "2          6.285714   False    True  \n",
       "3          4.142857   False   False  \n",
       "5          4.857143   False   False  \n",
       "...             ...     ...     ...  \n",
       "378654     4.142857   False   False  \n",
       "378657     3.714286   False   False  \n",
       "378658     6.428571    True   False  \n",
       "378659     4.285714   False   False  \n",
       "378660     3.857143    True   False  \n",
       "\n",
       "[331672 rows x 14 columns]"
      ]
     },
     "execution_count": 3,
     "metadata": {},
     "output_type": "execute_result"
    }
   ],
   "source": [
    "# データの確認\n",
    "df_ks"
   ]
  },
  {
   "cell_type": "code",
   "execution_count": 4,
   "metadata": {},
   "outputs": [
    {
     "data": {
      "text/html": [
       "<div>\n",
       "<style scoped>\n",
       "    .dataframe tbody tr th:only-of-type {\n",
       "        vertical-align: middle;\n",
       "    }\n",
       "\n",
       "    .dataframe tbody tr th {\n",
       "        vertical-align: top;\n",
       "    }\n",
       "\n",
       "    .dataframe thead th {\n",
       "        text-align: right;\n",
       "    }\n",
       "</style>\n",
       "<table border=\"1\" class=\"dataframe\">\n",
       "  <thead>\n",
       "    <tr style=\"text-align: right;\">\n",
       "      <th></th>\n",
       "      <th>state</th>\n",
       "      <th>AU</th>\n",
       "      <th>CA</th>\n",
       "      <th>DE</th>\n",
       "      <th>FR</th>\n",
       "      <th>GB</th>\n",
       "      <th>IT</th>\n",
       "      <th>NL</th>\n",
       "      <th>US</th>\n",
       "      <th>goal_band</th>\n",
       "      <th>...</th>\n",
       "      <th>category_Dance</th>\n",
       "      <th>category_Food Trucks</th>\n",
       "      <th>category_Literary Spaces</th>\n",
       "      <th>category_Mobile Games</th>\n",
       "      <th>category_Residencies</th>\n",
       "      <th>category_Video</th>\n",
       "      <th>category_Web</th>\n",
       "      <th>period</th>\n",
       "      <th>name_!</th>\n",
       "      <th>name_?</th>\n",
       "    </tr>\n",
       "  </thead>\n",
       "  <tbody>\n",
       "    <tr>\n",
       "      <th>0</th>\n",
       "      <td>False</td>\n",
       "      <td>0</td>\n",
       "      <td>0</td>\n",
       "      <td>0</td>\n",
       "      <td>0</td>\n",
       "      <td>1</td>\n",
       "      <td>0</td>\n",
       "      <td>0</td>\n",
       "      <td>0</td>\n",
       "      <td>3</td>\n",
       "      <td>...</td>\n",
       "      <td>0</td>\n",
       "      <td>0</td>\n",
       "      <td>0</td>\n",
       "      <td>0</td>\n",
       "      <td>0</td>\n",
       "      <td>0</td>\n",
       "      <td>0</td>\n",
       "      <td>1.969999</td>\n",
       "      <td>False</td>\n",
       "      <td>False</td>\n",
       "    </tr>\n",
       "    <tr>\n",
       "      <th>1</th>\n",
       "      <td>False</td>\n",
       "      <td>0</td>\n",
       "      <td>0</td>\n",
       "      <td>0</td>\n",
       "      <td>0</td>\n",
       "      <td>0</td>\n",
       "      <td>0</td>\n",
       "      <td>0</td>\n",
       "      <td>1</td>\n",
       "      <td>4</td>\n",
       "      <td>...</td>\n",
       "      <td>0</td>\n",
       "      <td>0</td>\n",
       "      <td>0</td>\n",
       "      <td>0</td>\n",
       "      <td>0</td>\n",
       "      <td>0</td>\n",
       "      <td>0</td>\n",
       "      <td>2.048657</td>\n",
       "      <td>False</td>\n",
       "      <td>False</td>\n",
       "    </tr>\n",
       "    <tr>\n",
       "      <th>2</th>\n",
       "      <td>False</td>\n",
       "      <td>0</td>\n",
       "      <td>0</td>\n",
       "      <td>0</td>\n",
       "      <td>0</td>\n",
       "      <td>0</td>\n",
       "      <td>0</td>\n",
       "      <td>0</td>\n",
       "      <td>1</td>\n",
       "      <td>4</td>\n",
       "      <td>...</td>\n",
       "      <td>0</td>\n",
       "      <td>0</td>\n",
       "      <td>0</td>\n",
       "      <td>0</td>\n",
       "      <td>0</td>\n",
       "      <td>0</td>\n",
       "      <td>0</td>\n",
       "      <td>0.868787</td>\n",
       "      <td>False</td>\n",
       "      <td>True</td>\n",
       "    </tr>\n",
       "    <tr>\n",
       "      <th>3</th>\n",
       "      <td>False</td>\n",
       "      <td>0</td>\n",
       "      <td>0</td>\n",
       "      <td>0</td>\n",
       "      <td>0</td>\n",
       "      <td>0</td>\n",
       "      <td>0</td>\n",
       "      <td>0</td>\n",
       "      <td>1</td>\n",
       "      <td>3</td>\n",
       "      <td>...</td>\n",
       "      <td>0</td>\n",
       "      <td>0</td>\n",
       "      <td>0</td>\n",
       "      <td>0</td>\n",
       "      <td>0</td>\n",
       "      <td>0</td>\n",
       "      <td>0</td>\n",
       "      <td>-0.311084</td>\n",
       "      <td>False</td>\n",
       "      <td>False</td>\n",
       "    </tr>\n",
       "    <tr>\n",
       "      <th>5</th>\n",
       "      <td>True</td>\n",
       "      <td>0</td>\n",
       "      <td>0</td>\n",
       "      <td>0</td>\n",
       "      <td>0</td>\n",
       "      <td>0</td>\n",
       "      <td>0</td>\n",
       "      <td>0</td>\n",
       "      <td>1</td>\n",
       "      <td>4</td>\n",
       "      <td>...</td>\n",
       "      <td>0</td>\n",
       "      <td>0</td>\n",
       "      <td>0</td>\n",
       "      <td>0</td>\n",
       "      <td>0</td>\n",
       "      <td>0</td>\n",
       "      <td>0</td>\n",
       "      <td>0.082206</td>\n",
       "      <td>False</td>\n",
       "      <td>False</td>\n",
       "    </tr>\n",
       "    <tr>\n",
       "      <th>...</th>\n",
       "      <td>...</td>\n",
       "      <td>...</td>\n",
       "      <td>...</td>\n",
       "      <td>...</td>\n",
       "      <td>...</td>\n",
       "      <td>...</td>\n",
       "      <td>...</td>\n",
       "      <td>...</td>\n",
       "      <td>...</td>\n",
       "      <td>...</td>\n",
       "      <td>...</td>\n",
       "      <td>...</td>\n",
       "      <td>...</td>\n",
       "      <td>...</td>\n",
       "      <td>...</td>\n",
       "      <td>...</td>\n",
       "      <td>...</td>\n",
       "      <td>...</td>\n",
       "      <td>...</td>\n",
       "      <td>...</td>\n",
       "      <td>...</td>\n",
       "    </tr>\n",
       "    <tr>\n",
       "      <th>378654</th>\n",
       "      <td>False</td>\n",
       "      <td>0</td>\n",
       "      <td>0</td>\n",
       "      <td>0</td>\n",
       "      <td>0</td>\n",
       "      <td>0</td>\n",
       "      <td>0</td>\n",
       "      <td>0</td>\n",
       "      <td>1</td>\n",
       "      <td>3</td>\n",
       "      <td>...</td>\n",
       "      <td>0</td>\n",
       "      <td>0</td>\n",
       "      <td>0</td>\n",
       "      <td>0</td>\n",
       "      <td>0</td>\n",
       "      <td>0</td>\n",
       "      <td>0</td>\n",
       "      <td>-0.311084</td>\n",
       "      <td>False</td>\n",
       "      <td>False</td>\n",
       "    </tr>\n",
       "    <tr>\n",
       "      <th>378657</th>\n",
       "      <td>False</td>\n",
       "      <td>0</td>\n",
       "      <td>0</td>\n",
       "      <td>0</td>\n",
       "      <td>0</td>\n",
       "      <td>0</td>\n",
       "      <td>0</td>\n",
       "      <td>0</td>\n",
       "      <td>1</td>\n",
       "      <td>3</td>\n",
       "      <td>...</td>\n",
       "      <td>0</td>\n",
       "      <td>0</td>\n",
       "      <td>0</td>\n",
       "      <td>0</td>\n",
       "      <td>0</td>\n",
       "      <td>0</td>\n",
       "      <td>0</td>\n",
       "      <td>-0.547058</td>\n",
       "      <td>False</td>\n",
       "      <td>False</td>\n",
       "    </tr>\n",
       "    <tr>\n",
       "      <th>378658</th>\n",
       "      <td>False</td>\n",
       "      <td>0</td>\n",
       "      <td>0</td>\n",
       "      <td>0</td>\n",
       "      <td>0</td>\n",
       "      <td>0</td>\n",
       "      <td>0</td>\n",
       "      <td>0</td>\n",
       "      <td>1</td>\n",
       "      <td>4</td>\n",
       "      <td>...</td>\n",
       "      <td>0</td>\n",
       "      <td>0</td>\n",
       "      <td>0</td>\n",
       "      <td>0</td>\n",
       "      <td>0</td>\n",
       "      <td>0</td>\n",
       "      <td>0</td>\n",
       "      <td>0.947445</td>\n",
       "      <td>True</td>\n",
       "      <td>False</td>\n",
       "    </tr>\n",
       "    <tr>\n",
       "      <th>378659</th>\n",
       "      <td>False</td>\n",
       "      <td>0</td>\n",
       "      <td>0</td>\n",
       "      <td>0</td>\n",
       "      <td>0</td>\n",
       "      <td>0</td>\n",
       "      <td>0</td>\n",
       "      <td>0</td>\n",
       "      <td>1</td>\n",
       "      <td>4</td>\n",
       "      <td>...</td>\n",
       "      <td>0</td>\n",
       "      <td>0</td>\n",
       "      <td>0</td>\n",
       "      <td>0</td>\n",
       "      <td>0</td>\n",
       "      <td>0</td>\n",
       "      <td>0</td>\n",
       "      <td>-0.232426</td>\n",
       "      <td>False</td>\n",
       "      <td>False</td>\n",
       "    </tr>\n",
       "    <tr>\n",
       "      <th>378660</th>\n",
       "      <td>False</td>\n",
       "      <td>0</td>\n",
       "      <td>0</td>\n",
       "      <td>0</td>\n",
       "      <td>0</td>\n",
       "      <td>0</td>\n",
       "      <td>0</td>\n",
       "      <td>0</td>\n",
       "      <td>1</td>\n",
       "      <td>3</td>\n",
       "      <td>...</td>\n",
       "      <td>0</td>\n",
       "      <td>0</td>\n",
       "      <td>0</td>\n",
       "      <td>0</td>\n",
       "      <td>0</td>\n",
       "      <td>0</td>\n",
       "      <td>0</td>\n",
       "      <td>-0.468400</td>\n",
       "      <td>True</td>\n",
       "      <td>False</td>\n",
       "    </tr>\n",
       "  </tbody>\n",
       "</table>\n",
       "<p>331672 rows × 29 columns</p>\n",
       "</div>"
      ],
      "text/plain": [
       "        state  AU  CA  DE  FR  GB  IT  NL  US goal_band  ...  category_Dance  \\\n",
       "0       False   0   0   0   0   1   0   0   0         3  ...               0   \n",
       "1       False   0   0   0   0   0   0   0   1         4  ...               0   \n",
       "2       False   0   0   0   0   0   0   0   1         4  ...               0   \n",
       "3       False   0   0   0   0   0   0   0   1         3  ...               0   \n",
       "5        True   0   0   0   0   0   0   0   1         4  ...               0   \n",
       "...       ...  ..  ..  ..  ..  ..  ..  ..  ..       ...  ...             ...   \n",
       "378654  False   0   0   0   0   0   0   0   1         3  ...               0   \n",
       "378657  False   0   0   0   0   0   0   0   1         3  ...               0   \n",
       "378658  False   0   0   0   0   0   0   0   1         4  ...               0   \n",
       "378659  False   0   0   0   0   0   0   0   1         4  ...               0   \n",
       "378660  False   0   0   0   0   0   0   0   1         3  ...               0   \n",
       "\n",
       "        category_Food Trucks  category_Literary Spaces  category_Mobile Games  \\\n",
       "0                          0                         0                      0   \n",
       "1                          0                         0                      0   \n",
       "2                          0                         0                      0   \n",
       "3                          0                         0                      0   \n",
       "5                          0                         0                      0   \n",
       "...                      ...                       ...                    ...   \n",
       "378654                     0                         0                      0   \n",
       "378657                     0                         0                      0   \n",
       "378658                     0                         0                      0   \n",
       "378659                     0                         0                      0   \n",
       "378660                     0                         0                      0   \n",
       "\n",
       "        category_Residencies  category_Video  category_Web    period  name_!  \\\n",
       "0                          0               0             0  1.969999   False   \n",
       "1                          0               0             0  2.048657   False   \n",
       "2                          0               0             0  0.868787   False   \n",
       "3                          0               0             0 -0.311084   False   \n",
       "5                          0               0             0  0.082206   False   \n",
       "...                      ...             ...           ...       ...     ...   \n",
       "378654                     0               0             0 -0.311084   False   \n",
       "378657                     0               0             0 -0.547058   False   \n",
       "378658                     0               0             0  0.947445    True   \n",
       "378659                     0               0             0 -0.232426   False   \n",
       "378660                     0               0             0 -0.468400    True   \n",
       "\n",
       "        name_?  \n",
       "0        False  \n",
       "1        False  \n",
       "2         True  \n",
       "3        False  \n",
       "5        False  \n",
       "...        ...  \n",
       "378654   False  \n",
       "378657   False  \n",
       "378658   False  \n",
       "378659   False  \n",
       "378660   False  \n",
       "\n",
       "[331672 rows x 29 columns]"
      ]
     },
     "execution_count": 4,
     "metadata": {},
     "output_type": "execute_result"
    }
   ],
   "source": [
    "# 機械学習に適用したデータ\n",
    "df_ML"
   ]
  },
  {
   "cell_type": "markdown",
   "metadata": {},
   "source": [
    "# 1 特徴選択\n",
    "Day2でSVMが利用できなかったことからもわかるようにデータ数が多いので削減することを考える。\n",
    "## 1.1 埋め込み法"
   ]
  },
  {
   "cell_type": "code",
   "execution_count": 5,
   "metadata": {},
   "outputs": [],
   "source": [
    "from sklearn.feature_selection import RFECV\n",
    "from sklearn.linear_model import LinearRegression\n",
    "from sklearn.linear_model import SGDClassifier\n",
    "# estimatorにモデルをセット\n",
    "# 今回は回帰問題であるためLinearRegressionを使用\n",
    "estimator = SGDClassifier(fit_intercept=True)\n",
    "\n",
    "# RFECVは交差検証によってステップワイズ法による特徴選択を行う\n",
    "# cvにはFold（=グループ）の数，scoringには評価指標を指定する\n",
    "# 今回は回帰なのでneg_mean_absolute_errorを評価指標に指定（分類ならaccuracy）\n",
    "rfecv = RFECV(estimator, cv=10, scoring='accuracy')"
   ]
  },
  {
   "cell_type": "code",
   "execution_count": 6,
   "metadata": {},
   "outputs": [
    {
     "data": {
      "text/plain": [
       "'\\ntrain_label = df_ML[\"state\"]\\ntrain_data = df_ML.drop(\"state\", axis=1)\\n\\ny = train_label.values\\nX = train_data.values\\n\\n# fitで特徴選択を実行\\nrfecv.fit(X, y)\\n'"
      ]
     },
     "execution_count": 6,
     "metadata": {},
     "output_type": "execute_result"
    }
   ],
   "source": [
    "\"\"\"\n",
    "train_label = df_ML[\"state\"]\n",
    "train_data = df_ML.drop(\"state\", axis=1)\n",
    "\n",
    "y = train_label.values\n",
    "X = train_data.values\n",
    "\n",
    "# fitで特徴選択を実行\n",
    "rfecv.fit(X, y)\n",
    "\"\"\""
   ]
  },
  {
   "cell_type": "code",
   "execution_count": 7,
   "metadata": {},
   "outputs": [],
   "source": [
    "#print('Feature ranking: \\n{}'.format(rfecv.ranking_))"
   ]
  },
  {
   "cell_type": "code",
   "execution_count": null,
   "metadata": {},
   "outputs": [],
   "source": []
  },
  {
   "cell_type": "code",
   "execution_count": null,
   "metadata": {},
   "outputs": [],
   "source": []
  },
  {
   "cell_type": "code",
   "execution_count": null,
   "metadata": {},
   "outputs": [],
   "source": []
  },
  {
   "cell_type": "code",
   "execution_count": null,
   "metadata": {},
   "outputs": [],
   "source": []
  },
  {
   "cell_type": "code",
   "execution_count": null,
   "metadata": {},
   "outputs": [],
   "source": []
  },
  {
   "cell_type": "code",
   "execution_count": null,
   "metadata": {},
   "outputs": [],
   "source": []
  },
  {
   "cell_type": "markdown",
   "metadata": {},
   "source": [
    "# 2 木モデルの利用\n",
    "## 2.1 決定木"
   ]
  },
  {
   "cell_type": "code",
   "execution_count": 8,
   "metadata": {},
   "outputs": [
    {
     "name": "stdout",
     "output_type": "stream",
     "text": [
      "score= 0.6645346082611879\n"
     ]
    }
   ],
   "source": [
    "from sklearn.tree import DecisionTreeClassifier, export_graphviz\n",
    "# 分割\n",
    "from sklearn.model_selection import train_test_split\n",
    "df_train,df_test = train_test_split(df_ML, test_size=0.3, random_state=1234)\n",
    "\n",
    "# それぞれ説明変数、目的変数に分ける\n",
    "train_X = df_train[df_ML.columns[1:]]\n",
    "train_Y = df_train[df_ML.columns[0]]\n",
    "test_X  = df_test[df_ML.columns[1:]]\n",
    "test_Y  = df_test[df_ML.columns[0]]\n",
    "\n",
    "clf = DecisionTreeClassifier(criterion=\"entropy\", max_depth=100, min_samples_split=2, min_samples_leaf=1, random_state=1234)\n",
    "clf = clf.fit(train_X, train_Y)\n",
    "print(\"score=\", clf.score(train_X, train_Y))"
   ]
  },
  {
   "cell_type": "code",
   "execution_count": 9,
   "metadata": {},
   "outputs": [
    {
     "name": "stdout",
     "output_type": "stream",
     "text": [
      "正答率（Accuracy）  = 64.528%\n",
      "再現率（Recall）    = 81.627%\n",
      "適合率（Precision） = 66.489%\n",
      "F1値　（f1 score）  = 73.285%\n"
     ]
    }
   ],
   "source": [
    "# 予測\n",
    "y_pred = clf.predict(test_X)\n",
    "# 結果を確認する\n",
    "from sklearn.metrics import accuracy_score, precision_recall_fscore_support\n",
    "accuracy = accuracy_score(test_Y, y_pred)\n",
    "precision, recall, f1_score, _ = precision_recall_fscore_support(test_Y, y_pred)\n",
    "print('正答率（Accuracy）  = {:.3f}%'.format(100 * accuracy))\n",
    "print('再現率（Recall）    = {:.3f}%'.format(100 * recall[0]))\n",
    "print('適合率（Precision） = {:.3f}%'.format(100 * precision[0]))\n",
    "print('F1値　（f1 score）  = {:.3f}%'.format(100 * f1_score[0]))"
   ]
  },
  {
   "cell_type": "markdown",
   "metadata": {},
   "source": [
    "これまで使ってきたモデルと大差のない精度であった。"
   ]
  },
  {
   "cell_type": "code",
   "execution_count": 10,
   "metadata": {},
   "outputs": [
    {
     "data": {
      "image/png": "[encoded data removed]",
      "text/plain": [
       "<Figure size 504x144 with 1 Axes>"
      ]
     },
     "metadata": {
      "needs_background": "light"
     },
     "output_type": "display_data"
    }
   ],
   "source": [
    "# 説明変数の重要度を出力する\n",
    "# scikit-learnで算出される重要度は、ある説明変数による不純度の減少量合計である。\n",
    "pd.DataFrame(clf.feature_importances_, index=test_X.columns).plot.bar(figsize=(7,2))\n",
    "plt.ylabel(\"Importance\")\n",
    "plt.xlabel(\"Features\")\n",
    "plt.show()"
   ]
  },
  {
   "cell_type": "markdown",
   "metadata": {},
   "source": [
    "目標金額と期間のみでほとんど決まっている様子がうかがえる。"
   ]
  },
  {
   "cell_type": "markdown",
   "metadata": {},
   "source": [
    "## 2.2 ランダムフォレスト"
   ]
  },
  {
   "cell_type": "code",
   "execution_count": 11,
   "metadata": {},
   "outputs": [
    {
     "name": "stdout",
     "output_type": "stream",
     "text": [
      "score= 0.5961579876814403\n"
     ]
    }
   ],
   "source": [
    "from sklearn.ensemble import RandomForestClassifier\n",
    "clf = RandomForestClassifier(n_estimators=500, max_depth=1, criterion=\"entropy\", n_jobs=-1,\n",
    "                                                 min_samples_leaf=2, min_samples_split=2, random_state=1234)\n",
    "clf.fit(train_X, train_Y)\n",
    "print(\"score=\", clf.score(train_X, train_Y))"
   ]
  },
  {
   "cell_type": "code",
   "execution_count": 12,
   "metadata": {},
   "outputs": [
    {
     "name": "stdout",
     "output_type": "stream",
     "text": [
      "正答率（Accuracy）  = 59.603%\n",
      "再現率（Recall）    = 100.000%\n",
      "適合率（Precision） = 59.603%\n",
      "F1値　（f1 score）  = 74.689%\n"
     ]
    },
    {
     "name": "stderr",
     "output_type": "stream",
     "text": [
      "D:\\programs\\Anaconda3\\lib\\site-packages\\sklearn\\metrics\\_classification.py:1272: UndefinedMetricWarning: Precision and F-score are ill-defined and being set to 0.0 in labels with no predicted samples. Use `zero_division` parameter to control this behavior.\n",
      "  _warn_prf(average, modifier, msg_start, len(result))\n"
     ]
    }
   ],
   "source": [
    "# 予測\n",
    "y_pred = clf.predict(test_X)\n",
    "# 結果を確認する\n",
    "from sklearn.metrics import accuracy_score, precision_recall_fscore_support\n",
    "accuracy = accuracy_score(test_Y, y_pred)\n",
    "precision, recall, f1_score, _ = precision_recall_fscore_support(test_Y, y_pred)\n",
    "print('正答率（Accuracy）  = {:.3f}%'.format(100 * accuracy))\n",
    "print('再現率（Recall）    = {:.3f}%'.format(100 * recall[0]))\n",
    "print('適合率（Precision） = {:.3f}%'.format(100 * precision[0]))\n",
    "print('F1値　（f1 score）  = {:.3f}%'.format(100 * f1_score[0]))"
   ]
  },
  {
   "cell_type": "code",
   "execution_count": 13,
   "metadata": {
    "scrolled": true
   },
   "outputs": [
    {
     "data": {
      "image/png": "[encoded data removed]",
      "text/plain": [
       "<Figure size 504x144 with 1 Axes>"
      ]
     },
     "metadata": {
      "needs_background": "light"
     },
     "output_type": "display_data"
    }
   ],
   "source": [
    "pd.DataFrame(clf.feature_importances_, index=test_X.columns).plot.bar(figsize=(7,2))\n",
    "plt.ylabel(\"Importance\")\n",
    "plt.xlabel(\"Features\")\n",
    "plt.show()"
   ]
  },
  {
   "cell_type": "markdown",
   "metadata": {},
   "source": [
    "使われる変数が増えたものの、精度が上がらない。"
   ]
  },
  {
   "cell_type": "markdown",
   "metadata": {},
   "source": [
    "## 2.3 アダブースト"
   ]
  },
  {
   "cell_type": "code",
   "execution_count": 14,
   "metadata": {},
   "outputs": [
    {
     "name": "stdout",
     "output_type": "stream",
     "text": [
      "score= 0.6572468449842788\n"
     ]
    }
   ],
   "source": [
    "from sklearn.ensemble import AdaBoostClassifier\n",
    "clf = AdaBoostClassifier(DecisionTreeClassifier(max_depth=5, min_samples_leaf=2, min_samples_split=2,\n",
    "                                                random_state=1234, criterion=\"gini\"),\n",
    "                                                n_estimators=100, random_state=1234)\n",
    "clf.fit(train_X, train_Y)\n",
    "print(\"score=\", clf.score(train_X, train_Y))"
   ]
  },
  {
   "cell_type": "code",
   "execution_count": 15,
   "metadata": {},
   "outputs": [
    {
     "name": "stdout",
     "output_type": "stream",
     "text": [
      "正答率（Accuracy）  = 64.742%\n",
      "再現率（Recall）    = 81.665%\n",
      "適合率（Precision） = 66.674%\n",
      "F1値　（f1 score）  = 73.412%\n"
     ]
    }
   ],
   "source": [
    "# 予測\n",
    "y_pred = clf.predict(test_X)\n",
    "# 結果を確認する\n",
    "from sklearn.metrics import accuracy_score, precision_recall_fscore_support\n",
    "accuracy = accuracy_score(test_Y, y_pred)\n",
    "precision, recall, f1_score, _ = precision_recall_fscore_support(test_Y, y_pred)\n",
    "print('正答率（Accuracy）  = {:.3f}%'.format(100 * accuracy))\n",
    "print('再現率（Recall）    = {:.3f}%'.format(100 * recall[0]))\n",
    "print('適合率（Precision） = {:.3f}%'.format(100 * precision[0]))\n",
    "print('F1値　（f1 score）  = {:.3f}%'.format(100 * f1_score[0]))"
   ]
  },
  {
   "cell_type": "code",
   "execution_count": 16,
   "metadata": {},
   "outputs": [
    {
     "data": {
      "image/png": "[encoded data removed]",
      "text/plain": [
       "<Figure size 504x144 with 1 Axes>"
      ]
     },
     "metadata": {
      "needs_background": "light"
     },
     "output_type": "display_data"
    }
   ],
   "source": [
    "pd.DataFrame(clf.feature_importances_, index=test_X.columns).plot.bar(figsize=(7,2))\n",
    "plt.ylabel(\"Importance\")\n",
    "plt.xlabel(\"Features\")\n",
    "plt.show()"
   ]
  },
  {
   "cell_type": "markdown",
   "metadata": {},
   "source": [
    "F1値は決定木よりも良くなり、正答率はランダムフォレストよりも良くなった。"
   ]
  },
  {
   "cell_type": "markdown",
   "metadata": {},
   "source": [
    "## 2.4 Day1で加工したデータに戻して試す。\n",
    "Day2で大幅にデータを加工したので、加工前のデータに戻して同じことを試す。  \n",
    "!, ?ラベルの追加と期間の追加はうまくいったので採用する。\n",
    "ここで、**periodの大きな値が重みを引っ張っている**ことに気付いたので、削除する。"
   ]
  },
  {
   "cell_type": "code",
   "execution_count": 17,
   "metadata": {},
   "outputs": [],
   "source": [
    "#ここまでのデータを避難\n",
    "df_ML2 = df_ML # Day2で作成したものなので2"
   ]
  },
  {
   "cell_type": "code",
   "execution_count": 21,
   "metadata": {},
   "outputs": [
    {
     "name": "stderr",
     "output_type": "stream",
     "text": [
      "D:\\programs\\Anaconda3\\lib\\site-packages\\ipykernel_launcher.py:10: SettingWithCopyWarning: \n",
      "A value is trying to be set on a copy of a slice from a DataFrame.\n",
      "Try using .loc[row_indexer,col_indexer] = value instead\n",
      "\n",
      "See the caveats in the documentation: https://pandas.pydata.org/pandas-docs/stable/user_guide/indexing.html#returning-a-view-versus-a-copy\n",
      "  # Remove the CWD from sys.path while we load stuff.\n",
      "D:\\programs\\Anaconda3\\lib\\site-packages\\ipykernel_launcher.py:19: SettingWithCopyWarning: \n",
      "A value is trying to be set on a copy of a slice from a DataFrame.\n",
      "Try using .loc[row_indexer,col_indexer] = value instead\n",
      "\n",
      "See the caveats in the documentation: https://pandas.pydata.org/pandas-docs/stable/user_guide/indexing.html#returning-a-view-versus-a-copy\n",
      "D:\\programs\\Anaconda3\\lib\\site-packages\\ipykernel_launcher.py:41: SettingWithCopyWarning: \n",
      "A value is trying to be set on a copy of a slice from a DataFrame.\n",
      "Try using .loc[row_indexer,col_indexer] = value instead\n",
      "\n",
      "See the caveats in the documentation: https://pandas.pydata.org/pandas-docs/stable/user_guide/indexing.html#returning-a-view-versus-a-copy\n",
      "D:\\programs\\Anaconda3\\lib\\site-packages\\ipykernel_launcher.py:42: SettingWithCopyWarning: \n",
      "A value is trying to be set on a copy of a slice from a DataFrame.\n",
      "Try using .loc[row_indexer,col_indexer] = value instead\n",
      "\n",
      "See the caveats in the documentation: https://pandas.pydata.org/pandas-docs/stable/user_guide/indexing.html#returning-a-view-versus-a-copy\n",
      "D:\\programs\\Anaconda3\\lib\\site-packages\\ipykernel_launcher.py:54: SettingWithCopyWarning: \n",
      "A value is trying to be set on a copy of a slice from a DataFrame.\n",
      "Try using .loc[row_indexer,col_indexer] = value instead\n",
      "\n",
      "See the caveats in the documentation: https://pandas.pydata.org/pandas-docs/stable/user_guide/indexing.html#returning-a-view-versus-a-copy\n",
      "D:\\programs\\Anaconda3\\lib\\site-packages\\ipykernel_launcher.py:55: SettingWithCopyWarning: \n",
      "A value is trying to be set on a copy of a slice from a DataFrame.\n",
      "Try using .loc[row_indexer,col_indexer] = value instead\n",
      "\n",
      "See the caveats in the documentation: https://pandas.pydata.org/pandas-docs/stable/user_guide/indexing.html#returning-a-view-versus-a-copy\n",
      "D:\\programs\\Anaconda3\\lib\\site-packages\\ipykernel_launcher.py:57: SettingWithCopyWarning: \n",
      "A value is trying to be set on a copy of a slice from a DataFrame.\n",
      "Try using .loc[row_indexer,col_indexer] = value instead\n",
      "\n",
      "See the caveats in the documentation: https://pandas.pydata.org/pandas-docs/stable/user_guide/indexing.html#returning-a-view-versus-a-copy\n"
     ]
    }
   ],
   "source": [
    "\"\"\"\n",
    "全てDay1と同様の操作\n",
    "\"\"\"\n",
    "# 2100以上のデータがあるcountryのみ利用\n",
    "# データ数が2100以上のカテゴリを抜き出す\n",
    "df_country = pd.DataFrame() # 空のdataframe\n",
    "for index, value in df_ks['country'].value_counts().iteritems():\n",
    "    if value < 2100:\n",
    "        df_tmp = df_ks[(df_ks[\"country\"]==index)]\n",
    "        df_tmp[\"country\"] = \"others\"\n",
    "        df_country = pd.concat([df_country, df_tmp])\n",
    "        continue\n",
    "    df_country = pd.concat([df_country, df_ks[(df_ks[\"country\"]==index)]])\n",
    "# データ数が2100以上のカテゴリを抜き出す\n",
    "df_category = pd.DataFrame() # 空のdataframe\n",
    "for index, value in df_ks['category'].value_counts().iteritems():\n",
    "    if value < 2100:\n",
    "        df_tmp = df_ks[(df_ks[\"category\"]==index)]\n",
    "        df_tmp[\"category\"] = \"others\"\n",
    "        df_category = pd.concat([df_category, df_tmp])\n",
    "        continue\n",
    "    df_category = pd.concat([df_category, df_ks[(df_ks[\"category\"]==index)]])\n",
    "# usd_goal_realのオーダーと成功/失敗のみのデータフレームを作成する。\n",
    "df_ML = pd.DataFrame() # 煩雑になってきたので、使うものだけここに入れる。\n",
    "df_ML[\"state\"] = df_ks[\"state\"]\n",
    "# 地域\n",
    "df_ML = pd.concat([df_ML, pd.get_dummies(df_country[\"country\"], sparse=True)], axis=1)\n",
    "# sparse: メモリの削減\n",
    "df_ML = df_ML.drop(columns=\"others\") # 全て0ならothers\n",
    "# メインカテゴリ\n",
    "df_ML = pd.concat([df_ML, pd.get_dummies(df_ks[\"main_category\"], prefix=\"main_category\", sparse=True)], axis=1)\n",
    "df_ML = df_ML.drop(columns=\"main_category_Theater\") # 全て0ならTheater\n",
    "# カテゴリ\n",
    "df_ML = pd.concat([df_ML, pd.get_dummies(df_category[\"category\"], prefix=\"category\", sparse=True)], axis=1)\n",
    "df_ML = df_ML.drop(columns=\"category_others\") # 全て0ならothers\n",
    "df_ML[\"goal_band\"] = pd.cut(df_ks[\"usd_goal_real\"], [0, 1e2, 1e3, 1e4, 1e5, 1e6, 1e7, 1e9], labels=range(1,8))\n",
    "X = df_ML[df_ML.columns[1:]]\n",
    "y = df_ML[df_ML.columns[0]]\n",
    "\n",
    "# 名前(name)の追加\n",
    "df_ks[\"name_!\"] = df_ks[\"name\"].str[-1] == \"!\"\n",
    "df_ks[\"name_?\"] = df_ks[\"name\"].str[-1] == \"?\"\n",
    "df_ML[\"name_!\"] = df_ks[\"name_!\"]\n",
    "df_ML[\"name_?\"] = df_ks[\"name_?\"]\n",
    "\n",
    "# 期間(period)の追加\n",
    "import datetime\n",
    "# deadlineおよびlaunchedをdatetime形式に変換する。\n",
    "l_dt = pd.to_datetime(df_ks[\"launched\"])\n",
    "d_dt = pd.to_datetime(df_ks[\"deadline\"])\n",
    "period = d_dt - l_dt # timedelta64[ns]となる\n",
    "# timedelta64[ns]から日数を抜き出し\n",
    "days = period.values.astype('timedelta64[D]')\n",
    "df_ks[\"period\"] = days / np.timedelta64(1, 'D')\n",
    "df_ks[\"period\"] = df_ks[\"period\"].astype('int64')\n",
    "df_ks[\"period\"].describe()\n",
    "df_ks[\"period_week\"] = df_ks[\"period\"] / 7\n",
    "\n",
    "\"\"\"\n",
    "periodの異常値の削除　おおむね3ヵ月以上のものは削除（日数は適当）\n",
    "\"\"\"\n",
    "df_ks = df_ks[df_ks[\"period\"]<77]\n",
    "\n",
    "# 追加\n",
    "df_ML[\"period\"] = df_ks[\"period\"]\n",
    "# 期間(period)の標準化\n",
    "from sklearn.preprocessing import StandardScaler\n",
    "stdsc = StandardScaler()\n",
    "df_ML[\"period\"] = stdsc.fit_transform(df_ML[[\"period\"]].values)\n"
   ]
  },
  {
   "cell_type": "code",
   "execution_count": 22,
   "metadata": {},
   "outputs": [],
   "source": [
    "df_train,df_test = train_test_split(df_ML, test_size=0.3, random_state=1234)\n",
    "\n",
    "# それぞれ説明変数、目的変数に分ける\n",
    "train_X = df_train[df_ML.columns[1:]]\n",
    "train_Y = df_train[df_ML.columns[0]]\n",
    "test_X  = df_test[df_ML.columns[1:]]\n",
    "test_Y  = df_test[df_ML.columns[0]]"
   ]
  },
  {
   "cell_type": "markdown",
   "metadata": {},
   "source": [
    "### アダブースト"
   ]
  },
  {
   "cell_type": "code",
   "execution_count": 26,
   "metadata": {
    "scrolled": false
   },
   "outputs": [
    {
     "name": "stdout",
     "output_type": "stream",
     "text": [
      "score= 0.6883499320271544\n",
      "Wall time: 2min 39s\n"
     ]
    }
   ],
   "source": [
    "%%time\n",
    "from sklearn.ensemble import AdaBoostClassifier\n",
    "clf = AdaBoostClassifier(DecisionTreeClassifier(max_depth=5, min_samples_leaf=2, min_samples_split=2,\n",
    "                                                random_state=1234, criterion=\"gini\"),\n",
    "                                                n_estimators=100, random_state=1234)\n",
    "clf.fit(train_X, train_Y)\n",
    "print(\"score=\", clf.score(train_X, train_Y))"
   ]
  },
  {
   "cell_type": "code",
   "execution_count": 27,
   "metadata": {},
   "outputs": [
    {
     "name": "stdout",
     "output_type": "stream",
     "text": [
      "正答率（Accuracy）  = 67.729%\n",
      "再現率（Recall）    = 80.367%\n",
      "適合率（Precision） = 70.009%\n",
      "F1値　（f1 score）  = 74.831%\n"
     ]
    }
   ],
   "source": [
    "# 予測\n",
    "y_pred = clf.predict(test_X)\n",
    "# 結果を確認する\n",
    "from sklearn.metrics import accuracy_score, precision_recall_fscore_support\n",
    "accuracy = accuracy_score(test_Y, y_pred)\n",
    "precision, recall, f1_score, _ = precision_recall_fscore_support(test_Y, y_pred)\n",
    "print('正答率（Accuracy）  = {:.3f}%'.format(100 * accuracy))\n",
    "print('再現率（Recall）    = {:.3f}%'.format(100 * recall[0]))\n",
    "print('適合率（Precision） = {:.3f}%'.format(100 * precision[0]))\n",
    "print('F1値　（f1 score）  = {:.3f}%'.format(100 * f1_score[0]))"
   ]
  },
  {
   "cell_type": "code",
   "execution_count": 28,
   "metadata": {},
   "outputs": [
    {
     "data": {
      "image/png": "[encoded data removed]",
      "text/plain": [
       "<Figure size 504x144 with 1 Axes>"
      ]
     },
     "metadata": {
      "needs_background": "light"
     },
     "output_type": "display_data"
    }
   ],
   "source": [
    "pd.DataFrame(clf.feature_importances_, index=test_X.columns).plot.bar(figsize=(7,2))\n",
    "plt.ylabel(\"Importance\")\n",
    "plt.xlabel(\"Features\")\n",
    "plt.show()"
   ]
  },
  {
   "cell_type": "markdown",
   "metadata": {},
   "source": [
    "正答率がいくらか向上し、再現率と適合率がバランスしたように見える。  大きすぎる値を削除したものの、やはりperiodが大きく効いている。"
   ]
  },
  {
   "cell_type": "code",
   "execution_count": 30,
   "metadata": {},
   "outputs": [],
   "source": [
    "df_ML3 = df_ML"
   ]
  },
  {
   "cell_type": "markdown",
   "metadata": {},
   "source": [
    "# 3 ニューラルネットワークの利用"
   ]
  },
  {
   "cell_type": "code",
   "execution_count": 29,
   "metadata": {},
   "outputs": [
    {
     "name": "stderr",
     "output_type": "stream",
     "text": [
      "D:\\programs\\Anaconda3\\lib\\site-packages\\tensorflow\\python\\framework\\dtypes.py:516: FutureWarning: Passing (type, 1) or '1type' as a synonym of type is deprecated; in a future version of numpy, it will be understood as (type, (1,)) / '(1,)type'.\n",
      "  _np_qint8 = np.dtype([(\"qint8\", np.int8, 1)])\n",
      "D:\\programs\\Anaconda3\\lib\\site-packages\\tensorflow\\python\\framework\\dtypes.py:517: FutureWarning: Passing (type, 1) or '1type' as a synonym of type is deprecated; in a future version of numpy, it will be understood as (type, (1,)) / '(1,)type'.\n",
      "  _np_quint8 = np.dtype([(\"quint8\", np.uint8, 1)])\n",
      "D:\\programs\\Anaconda3\\lib\\site-packages\\tensorflow\\python\\framework\\dtypes.py:518: FutureWarning: Passing (type, 1) or '1type' as a synonym of type is deprecated; in a future version of numpy, it will be understood as (type, (1,)) / '(1,)type'.\n",
      "  _np_qint16 = np.dtype([(\"qint16\", np.int16, 1)])\n",
      "D:\\programs\\Anaconda3\\lib\\site-packages\\tensorflow\\python\\framework\\dtypes.py:519: FutureWarning: Passing (type, 1) or '1type' as a synonym of type is deprecated; in a future version of numpy, it will be understood as (type, (1,)) / '(1,)type'.\n",
      "  _np_quint16 = np.dtype([(\"quint16\", np.uint16, 1)])\n",
      "D:\\programs\\Anaconda3\\lib\\site-packages\\tensorflow\\python\\framework\\dtypes.py:520: FutureWarning: Passing (type, 1) or '1type' as a synonym of type is deprecated; in a future version of numpy, it will be understood as (type, (1,)) / '(1,)type'.\n",
      "  _np_qint32 = np.dtype([(\"qint32\", np.int32, 1)])\n",
      "D:\\programs\\Anaconda3\\lib\\site-packages\\tensorflow\\python\\framework\\dtypes.py:525: FutureWarning: Passing (type, 1) or '1type' as a synonym of type is deprecated; in a future version of numpy, it will be understood as (type, (1,)) / '(1,)type'.\n",
      "  np_resource = np.dtype([(\"resource\", np.ubyte, 1)])\n",
      "D:\\programs\\Anaconda3\\lib\\site-packages\\tensorboard\\compat\\tensorflow_stub\\dtypes.py:541: FutureWarning: Passing (type, 1) or '1type' as a synonym of type is deprecated; in a future version of numpy, it will be understood as (type, (1,)) / '(1,)type'.\n",
      "  _np_qint8 = np.dtype([(\"qint8\", np.int8, 1)])\n",
      "D:\\programs\\Anaconda3\\lib\\site-packages\\tensorboard\\compat\\tensorflow_stub\\dtypes.py:542: FutureWarning: Passing (type, 1) or '1type' as a synonym of type is deprecated; in a future version of numpy, it will be understood as (type, (1,)) / '(1,)type'.\n",
      "  _np_quint8 = np.dtype([(\"quint8\", np.uint8, 1)])\n",
      "D:\\programs\\Anaconda3\\lib\\site-packages\\tensorboard\\compat\\tensorflow_stub\\dtypes.py:543: FutureWarning: Passing (type, 1) or '1type' as a synonym of type is deprecated; in a future version of numpy, it will be understood as (type, (1,)) / '(1,)type'.\n",
      "  _np_qint16 = np.dtype([(\"qint16\", np.int16, 1)])\n",
      "D:\\programs\\Anaconda3\\lib\\site-packages\\tensorboard\\compat\\tensorflow_stub\\dtypes.py:544: FutureWarning: Passing (type, 1) or '1type' as a synonym of type is deprecated; in a future version of numpy, it will be understood as (type, (1,)) / '(1,)type'.\n",
      "  _np_quint16 = np.dtype([(\"quint16\", np.uint16, 1)])\n",
      "D:\\programs\\Anaconda3\\lib\\site-packages\\tensorboard\\compat\\tensorflow_stub\\dtypes.py:545: FutureWarning: Passing (type, 1) or '1type' as a synonym of type is deprecated; in a future version of numpy, it will be understood as (type, (1,)) / '(1,)type'.\n",
      "  _np_qint32 = np.dtype([(\"qint32\", np.int32, 1)])\n",
      "D:\\programs\\Anaconda3\\lib\\site-packages\\tensorboard\\compat\\tensorflow_stub\\dtypes.py:550: FutureWarning: Passing (type, 1) or '1type' as a synonym of type is deprecated; in a future version of numpy, it will be understood as (type, (1,)) / '(1,)type'.\n",
      "  np_resource = np.dtype([(\"resource\", np.ubyte, 1)])\n"
     ]
    }
   ],
   "source": [
    "# とりあえず一式インポート\n",
    "import numpy as np\n",
    "import pandas as pd\n",
    "import matplotlib.pyplot as plt\n",
    "%matplotlib inline\n",
    "from sklearn.model_selection import train_test_split, GridSearchCV\n",
    "from IPython.display import display\n",
    "import seaborn as sns\n",
    "from sklearn.metrics import accuracy_score,f1_score,recall_score,precision_score,classification_report\n",
    "from sklearn.metrics import confusion_matrix\n",
    "from tensorflow import keras  \n",
    "import tensorflow as tf"
   ]
  },
  {
   "cell_type": "code",
   "execution_count": 31,
   "metadata": {},
   "outputs": [
    {
     "name": "stdout",
     "output_type": "stream",
     "text": [
      "WARNING:tensorflow:From D:\\programs\\Anaconda3\\lib\\site-packages\\tensorflow\\python\\ops\\init_ops.py:1251: calling VarianceScaling.__init__ (from tensorflow.python.ops.init_ops) with dtype is deprecated and will be removed in a future version.\n",
      "Instructions for updating:\n",
      "Call initializer instance with the dtype argument instead of passing it to the constructor\n"
     ]
    }
   ],
   "source": [
    "from tensorflow.compat.v1.keras import Sequential\n",
    "from tensorflow.compat.v1.keras.layers import Dense, Dropout, Activation\n",
    "from tensorflow.compat.v1.keras.optimizers import SGD,RMSprop, Adagrad, Adadelta, Adam\n",
    "\n",
    "model = Sequential()\n",
    "model.add(Dense(6, activation='relu', input_dim=4))\n",
    "model.add(Dense(5, activation='relu', input_dim=6))\n",
    "model.add(Dense(3, activation='softmax'))#最終層のactivationは変更しないこと\n",
    "\n",
    "# ------ 最適化手法 ------\n",
    "sgd = SGD(lr=0.01, momentum=0.9, nesterov=False)\n",
    "# rms = RMSprop(lr=0.01)\n",
    "# adag = Adagrad(lr=0.01)\n",
    "# adad = Adadelta(lr=0.01)\n",
    "# adam = Adam(lr=0.01)\n",
    "# -----------------------------\n",
    "\n",
    "model.compile(loss='categorical_crossentropy',\n",
    "              optimizer=sgd,\n",
    "              metrics=['accuracy'])\n",
    "\n",
    "# WARNINGが出るが気にしなくて良い"
   ]
  },
  {
   "cell_type": "code",
   "execution_count": 33,
   "metadata": {},
   "outputs": [],
   "source": [
    "df_ML = df_ML2\n",
    "\n",
    "df_train,df_test = train_test_split(df_ML, test_size=0.3, random_state=1234)\n",
    "# それぞれ説明変数、目的変数に分ける\n",
    "train_X = df_train[df_ML.columns[1:]]\n",
    "train_Y = df_train[df_ML.columns[0]]\n",
    "test_X  = df_test[df_ML.columns[1:]]\n",
    "test_Y  = df_test[df_ML.columns[0]]"
   ]
  },
  {
   "cell_type": "code",
   "execution_count": 34,
   "metadata": {},
   "outputs": [
    {
     "ename": "ValueError",
     "evalue": "Error when checking input: expected dense_input to have shape (4,) but got array with shape (28,)",
     "output_type": "error",
     "traceback": [
      "\u001b[1;31m---------------------------------------------------------------------------\u001b[0m",
      "\u001b[1;31mValueError\u001b[0m                                Traceback (most recent call last)",
      "\u001b[1;32m<ipython-input-34-80d62ba28b22>\u001b[0m in \u001b[0;36m<module>\u001b[1;34m\u001b[0m\n\u001b[0;32m      2\u001b[0m fit = model.fit(train_X, train_Y,\n\u001b[0;32m      3\u001b[0m           \u001b[0mepochs\u001b[0m\u001b[1;33m=\u001b[0m\u001b[1;36m50\u001b[0m\u001b[1;33m,\u001b[0m\u001b[1;33m\u001b[0m\u001b[1;33m\u001b[0m\u001b[0m\n\u001b[1;32m----> 4\u001b[1;33m           batch_size=20,validation_data=(test_X, test_Y))\n\u001b[0m\u001b[0;32m      5\u001b[0m \u001b[1;33m\u001b[0m\u001b[0m\n\u001b[0;32m      6\u001b[0m \u001b[1;31m# 各epochにおける損失と精度をdfに入れる\u001b[0m\u001b[1;33m\u001b[0m\u001b[1;33m\u001b[0m\u001b[1;33m\u001b[0m\u001b[0m\n",
      "\u001b[1;32mD:\\programs\\Anaconda3\\lib\\site-packages\\tensorflow\\python\\keras\\engine\\training.py\u001b[0m in \u001b[0;36mfit\u001b[1;34m(self, x, y, batch_size, epochs, verbose, callbacks, validation_split, validation_data, shuffle, class_weight, sample_weight, initial_epoch, steps_per_epoch, validation_steps, validation_freq, max_queue_size, workers, use_multiprocessing, **kwargs)\u001b[0m\n\u001b[0;32m    707\u001b[0m         \u001b[0msteps\u001b[0m\u001b[1;33m=\u001b[0m\u001b[0msteps_per_epoch\u001b[0m\u001b[1;33m,\u001b[0m\u001b[1;33m\u001b[0m\u001b[1;33m\u001b[0m\u001b[0m\n\u001b[0;32m    708\u001b[0m         \u001b[0mvalidation_split\u001b[0m\u001b[1;33m=\u001b[0m\u001b[0mvalidation_split\u001b[0m\u001b[1;33m,\u001b[0m\u001b[1;33m\u001b[0m\u001b[1;33m\u001b[0m\u001b[0m\n\u001b[1;32m--> 709\u001b[1;33m         shuffle=shuffle)\n\u001b[0m\u001b[0;32m    710\u001b[0m \u001b[1;33m\u001b[0m\u001b[0m\n\u001b[0;32m    711\u001b[0m     \u001b[1;31m# Prepare validation data.\u001b[0m\u001b[1;33m\u001b[0m\u001b[1;33m\u001b[0m\u001b[1;33m\u001b[0m\u001b[0m\n",
      "\u001b[1;32mD:\\programs\\Anaconda3\\lib\\site-packages\\tensorflow\\python\\keras\\engine\\training.py\u001b[0m in \u001b[0;36m_standardize_user_data\u001b[1;34m(self, x, y, sample_weight, class_weight, batch_size, check_steps, steps_name, steps, validation_split, shuffle, extract_tensors_from_dataset)\u001b[0m\n\u001b[0;32m   2649\u001b[0m           \u001b[0mfeed_input_shapes\u001b[0m\u001b[1;33m,\u001b[0m\u001b[1;33m\u001b[0m\u001b[1;33m\u001b[0m\u001b[0m\n\u001b[0;32m   2650\u001b[0m           \u001b[0mcheck_batch_axis\u001b[0m\u001b[1;33m=\u001b[0m\u001b[1;32mFalse\u001b[0m\u001b[1;33m,\u001b[0m  \u001b[1;31m# Don't enforce the batch size.\u001b[0m\u001b[1;33m\u001b[0m\u001b[1;33m\u001b[0m\u001b[0m\n\u001b[1;32m-> 2651\u001b[1;33m           exception_prefix='input')\n\u001b[0m\u001b[0;32m   2652\u001b[0m \u001b[1;33m\u001b[0m\u001b[0m\n\u001b[0;32m   2653\u001b[0m     \u001b[1;32mif\u001b[0m \u001b[0my\u001b[0m \u001b[1;32mis\u001b[0m \u001b[1;32mnot\u001b[0m \u001b[1;32mNone\u001b[0m\u001b[1;33m:\u001b[0m\u001b[1;33m\u001b[0m\u001b[1;33m\u001b[0m\u001b[0m\n",
      "\u001b[1;32mD:\\programs\\Anaconda3\\lib\\site-packages\\tensorflow\\python\\keras\\engine\\training_utils.py\u001b[0m in \u001b[0;36mstandardize_input_data\u001b[1;34m(data, names, shapes, check_batch_axis, exception_prefix)\u001b[0m\n\u001b[0;32m    383\u001b[0m                              \u001b[1;34m': expected '\u001b[0m \u001b[1;33m+\u001b[0m \u001b[0mnames\u001b[0m\u001b[1;33m[\u001b[0m\u001b[0mi\u001b[0m\u001b[1;33m]\u001b[0m \u001b[1;33m+\u001b[0m \u001b[1;34m' to have shape '\u001b[0m \u001b[1;33m+\u001b[0m\u001b[1;33m\u001b[0m\u001b[1;33m\u001b[0m\u001b[0m\n\u001b[0;32m    384\u001b[0m                              \u001b[0mstr\u001b[0m\u001b[1;33m(\u001b[0m\u001b[0mshape\u001b[0m\u001b[1;33m)\u001b[0m \u001b[1;33m+\u001b[0m \u001b[1;34m' but got array with shape '\u001b[0m \u001b[1;33m+\u001b[0m\u001b[1;33m\u001b[0m\u001b[1;33m\u001b[0m\u001b[0m\n\u001b[1;32m--> 385\u001b[1;33m                              str(data_shape))\n\u001b[0m\u001b[0;32m    386\u001b[0m   \u001b[1;32mreturn\u001b[0m \u001b[0mdata\u001b[0m\u001b[1;33m\u001b[0m\u001b[1;33m\u001b[0m\u001b[0m\n\u001b[0;32m    387\u001b[0m \u001b[1;33m\u001b[0m\u001b[0m\n",
      "\u001b[1;31mValueError\u001b[0m: Error when checking input: expected dense_input to have shape (4,) but got array with shape (28,)"
     ]
    }
   ],
   "source": [
    "# 計算の実行\n",
    "fit = model.fit(train_X, train_Y,\n",
    "          epochs=50,\n",
    "          batch_size=20,validation_data=(test_X, test_Y))\n",
    "\n",
    "# 各epochにおける損失と精度をdfに入れる\n",
    "df = pd.DataFrame(fit.history)"
   ]
  },
  {
   "cell_type": "code",
   "execution_count": null,
   "metadata": {},
   "outputs": [],
   "source": []
  },
  {
   "cell_type": "code",
   "execution_count": null,
   "metadata": {},
   "outputs": [],
   "source": [
    "df_ML.columns"
   ]
  }
 ],
 "metadata": {
  "kernelspec": {
   "display_name": "Python 3",
   "language": "python",
   "name": "python3"
  },
  "language_info": {
   "codemirror_mode": {
    "name": "ipython",
    "version": 3
   },
   "file_extension": ".py",
   "mimetype": "text/x-python",
   "name": "python",
   "nbconvert_exporter": "python",
   "pygments_lexer": "ipython3",
   "version": "3.7.6"
  }
 },
 "nbformat": 4,
 "nbformat_minor": 4
}
