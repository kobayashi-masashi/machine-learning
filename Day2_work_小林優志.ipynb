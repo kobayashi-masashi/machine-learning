{
 "cells": [
  {
   "cell_type": "markdown",
   "metadata": {},
   "source": [
    "## Kickstarter Projects\n",
    "課題：クラウドファンディングが成功するかを**事前に**予測するモデルの構築を目指す。"
   ]
  },
  {
   "cell_type": "markdown",
   "metadata": {},
   "source": [
    "Day1では、データをインポートして加工し、ロジスティック回帰をによるモデルを構築して評価した結果、予測の正答率は65.864%となった。Day2では説明変数の追加、モデルの検証、正則化およびSVMの導入により予測精度の向上を目指す。"
   ]
  },
  {
   "cell_type": "markdown",
   "metadata": {},
   "source": [
    "Day1へのリンク：https://github.com/kobayashi-masashi/machine-learning/blob/master/Day1_work_小林優志.ipynb"
   ]
  },
  {
   "cell_type": "code",
   "execution_count": 1,
   "metadata": {},
   "outputs": [],
   "source": [
    "# データのインポートおよび加工など（Day1と同様）\n",
    "%matplotlib inline\n",
    "import pandas as pd\n",
    "import numpy as np\n",
    "import seaborn as sns\n",
    "import matplotlib.pyplot as plt\n",
    "\n",
    "df_ks = pd.read_csv(\"./ks-projects-201801.csv\")\n",
    "# 使えないデータの削除\n",
    "df_ks = df_ks.drop(columns=['goal', 'pledged', 'backers', 'usd pledged', 'usd_pledged_real'])\n",
    "df_ks = df_ks.query(\"state ==['failed', 'successful']\")\n",
    "# 二値化\n",
    "df_ks[\"state\"] = df_ks[\"state\"] == \"successful\" # successful=>True, failed=>False\n",
    "df_ks = df_ks.dropna()"
   ]
  },
  {
   "cell_type": "markdown",
   "metadata": {},
   "source": [
    "# Day2"
   ]
  },
  {
   "cell_type": "code",
   "execution_count": 2,
   "metadata": {},
   "outputs": [
    {
     "data": {
      "text/html": [
       "<div>\n",
       "<style scoped>\n",
       "    .dataframe tbody tr th:only-of-type {\n",
       "        vertical-align: middle;\n",
       "    }\n",
       "\n",
       "    .dataframe tbody tr th {\n",
       "        vertical-align: top;\n",
       "    }\n",
       "\n",
       "    .dataframe thead th {\n",
       "        text-align: right;\n",
       "    }\n",
       "</style>\n",
       "<table border=\"1\" class=\"dataframe\">\n",
       "  <thead>\n",
       "    <tr style=\"text-align: right;\">\n",
       "      <th></th>\n",
       "      <th>ID</th>\n",
       "      <th>name</th>\n",
       "      <th>category</th>\n",
       "      <th>main_category</th>\n",
       "      <th>currency</th>\n",
       "      <th>deadline</th>\n",
       "      <th>launched</th>\n",
       "      <th>state</th>\n",
       "      <th>country</th>\n",
       "      <th>usd_goal_real</th>\n",
       "    </tr>\n",
       "  </thead>\n",
       "  <tbody>\n",
       "    <tr>\n",
       "      <th>0</th>\n",
       "      <td>1000002330</td>\n",
       "      <td>The Songs of Adelaide &amp; Abullah</td>\n",
       "      <td>Poetry</td>\n",
       "      <td>Publishing</td>\n",
       "      <td>GBP</td>\n",
       "      <td>2015-10-09</td>\n",
       "      <td>2015-08-11 12:12:28</td>\n",
       "      <td>False</td>\n",
       "      <td>GB</td>\n",
       "      <td>1533.95</td>\n",
       "    </tr>\n",
       "    <tr>\n",
       "      <th>1</th>\n",
       "      <td>1000003930</td>\n",
       "      <td>Greeting From Earth: ZGAC Arts Capsule For ET</td>\n",
       "      <td>Narrative Film</td>\n",
       "      <td>Film &amp; Video</td>\n",
       "      <td>USD</td>\n",
       "      <td>2017-11-01</td>\n",
       "      <td>2017-09-02 04:43:57</td>\n",
       "      <td>False</td>\n",
       "      <td>US</td>\n",
       "      <td>30000.00</td>\n",
       "    </tr>\n",
       "    <tr>\n",
       "      <th>2</th>\n",
       "      <td>1000004038</td>\n",
       "      <td>Where is Hank?</td>\n",
       "      <td>Narrative Film</td>\n",
       "      <td>Film &amp; Video</td>\n",
       "      <td>USD</td>\n",
       "      <td>2013-02-26</td>\n",
       "      <td>2013-01-12 00:20:50</td>\n",
       "      <td>False</td>\n",
       "      <td>US</td>\n",
       "      <td>45000.00</td>\n",
       "    </tr>\n",
       "    <tr>\n",
       "      <th>3</th>\n",
       "      <td>1000007540</td>\n",
       "      <td>ToshiCapital Rekordz Needs Help to Complete Album</td>\n",
       "      <td>Music</td>\n",
       "      <td>Music</td>\n",
       "      <td>USD</td>\n",
       "      <td>2012-04-16</td>\n",
       "      <td>2012-03-17 03:24:11</td>\n",
       "      <td>False</td>\n",
       "      <td>US</td>\n",
       "      <td>5000.00</td>\n",
       "    </tr>\n",
       "    <tr>\n",
       "      <th>5</th>\n",
       "      <td>1000014025</td>\n",
       "      <td>Monarch Espresso Bar</td>\n",
       "      <td>Restaurants</td>\n",
       "      <td>Food</td>\n",
       "      <td>USD</td>\n",
       "      <td>2016-04-01</td>\n",
       "      <td>2016-02-26 13:38:27</td>\n",
       "      <td>True</td>\n",
       "      <td>US</td>\n",
       "      <td>50000.00</td>\n",
       "    </tr>\n",
       "    <tr>\n",
       "      <th>...</th>\n",
       "      <td>...</td>\n",
       "      <td>...</td>\n",
       "      <td>...</td>\n",
       "      <td>...</td>\n",
       "      <td>...</td>\n",
       "      <td>...</td>\n",
       "      <td>...</td>\n",
       "      <td>...</td>\n",
       "      <td>...</td>\n",
       "      <td>...</td>\n",
       "    </tr>\n",
       "    <tr>\n",
       "      <th>378654</th>\n",
       "      <td>999975836</td>\n",
       "      <td>Homemade fresh dog food, Cleveland OH</td>\n",
       "      <td>Small Batch</td>\n",
       "      <td>Food</td>\n",
       "      <td>USD</td>\n",
       "      <td>2017-04-19</td>\n",
       "      <td>2017-03-20 22:08:22</td>\n",
       "      <td>False</td>\n",
       "      <td>US</td>\n",
       "      <td>6500.00</td>\n",
       "    </tr>\n",
       "    <tr>\n",
       "      <th>378657</th>\n",
       "      <td>999977640</td>\n",
       "      <td>The Tribe</td>\n",
       "      <td>Narrative Film</td>\n",
       "      <td>Film &amp; Video</td>\n",
       "      <td>USD</td>\n",
       "      <td>2011-07-19</td>\n",
       "      <td>2011-06-22 03:35:14</td>\n",
       "      <td>False</td>\n",
       "      <td>US</td>\n",
       "      <td>1500.00</td>\n",
       "    </tr>\n",
       "    <tr>\n",
       "      <th>378658</th>\n",
       "      <td>999986353</td>\n",
       "      <td>Walls of Remedy- New lesbian Romantic Comedy f...</td>\n",
       "      <td>Narrative Film</td>\n",
       "      <td>Film &amp; Video</td>\n",
       "      <td>USD</td>\n",
       "      <td>2010-08-16</td>\n",
       "      <td>2010-07-01 19:40:30</td>\n",
       "      <td>False</td>\n",
       "      <td>US</td>\n",
       "      <td>15000.00</td>\n",
       "    </tr>\n",
       "    <tr>\n",
       "      <th>378659</th>\n",
       "      <td>999987933</td>\n",
       "      <td>BioDefense Education Kit</td>\n",
       "      <td>Technology</td>\n",
       "      <td>Technology</td>\n",
       "      <td>USD</td>\n",
       "      <td>2016-02-13</td>\n",
       "      <td>2016-01-13 18:13:53</td>\n",
       "      <td>False</td>\n",
       "      <td>US</td>\n",
       "      <td>15000.00</td>\n",
       "    </tr>\n",
       "    <tr>\n",
       "      <th>378660</th>\n",
       "      <td>999988282</td>\n",
       "      <td>Nou Renmen Ayiti!  We Love Haiti!</td>\n",
       "      <td>Performance Art</td>\n",
       "      <td>Art</td>\n",
       "      <td>USD</td>\n",
       "      <td>2011-08-16</td>\n",
       "      <td>2011-07-19 09:07:47</td>\n",
       "      <td>False</td>\n",
       "      <td>US</td>\n",
       "      <td>2000.00</td>\n",
       "    </tr>\n",
       "  </tbody>\n",
       "</table>\n",
       "<p>331672 rows × 10 columns</p>\n",
       "</div>"
      ],
      "text/plain": [
       "                ID                                               name  \\\n",
       "0       1000002330                    The Songs of Adelaide & Abullah   \n",
       "1       1000003930      Greeting From Earth: ZGAC Arts Capsule For ET   \n",
       "2       1000004038                                     Where is Hank?   \n",
       "3       1000007540  ToshiCapital Rekordz Needs Help to Complete Album   \n",
       "5       1000014025                               Monarch Espresso Bar   \n",
       "...            ...                                                ...   \n",
       "378654   999975836              Homemade fresh dog food, Cleveland OH   \n",
       "378657   999977640                                          The Tribe   \n",
       "378658   999986353  Walls of Remedy- New lesbian Romantic Comedy f...   \n",
       "378659   999987933                           BioDefense Education Kit   \n",
       "378660   999988282                  Nou Renmen Ayiti!  We Love Haiti!   \n",
       "\n",
       "               category main_category currency    deadline  \\\n",
       "0                Poetry    Publishing      GBP  2015-10-09   \n",
       "1        Narrative Film  Film & Video      USD  2017-11-01   \n",
       "2        Narrative Film  Film & Video      USD  2013-02-26   \n",
       "3                 Music         Music      USD  2012-04-16   \n",
       "5           Restaurants          Food      USD  2016-04-01   \n",
       "...                 ...           ...      ...         ...   \n",
       "378654      Small Batch          Food      USD  2017-04-19   \n",
       "378657   Narrative Film  Film & Video      USD  2011-07-19   \n",
       "378658   Narrative Film  Film & Video      USD  2010-08-16   \n",
       "378659       Technology    Technology      USD  2016-02-13   \n",
       "378660  Performance Art           Art      USD  2011-08-16   \n",
       "\n",
       "                   launched  state country  usd_goal_real  \n",
       "0       2015-08-11 12:12:28  False      GB        1533.95  \n",
       "1       2017-09-02 04:43:57  False      US       30000.00  \n",
       "2       2013-01-12 00:20:50  False      US       45000.00  \n",
       "3       2012-03-17 03:24:11  False      US        5000.00  \n",
       "5       2016-02-26 13:38:27   True      US       50000.00  \n",
       "...                     ...    ...     ...            ...  \n",
       "378654  2017-03-20 22:08:22  False      US        6500.00  \n",
       "378657  2011-06-22 03:35:14  False      US        1500.00  \n",
       "378658  2010-07-01 19:40:30  False      US       15000.00  \n",
       "378659  2016-01-13 18:13:53  False      US       15000.00  \n",
       "378660  2011-07-19 09:07:47  False      US        2000.00  \n",
       "\n",
       "[331672 rows x 10 columns]"
      ]
     },
     "execution_count": 2,
     "metadata": {},
     "output_type": "execute_result"
    }
   ],
   "source": [
    "# データの確認\n",
    "df_ks"
   ]
  },
  {
   "cell_type": "markdown",
   "metadata": {},
   "source": [
    "## 1 モデルの検証方法\n",
    "Day1ではホールドアウト法を用いて汎化性能を評価した。ここでは練習として、交差検証法を用いて汎化性能を算出する。"
   ]
  },
  {
   "cell_type": "code",
   "execution_count": 3,
   "metadata": {},
   "outputs": [
    {
     "name": "stderr",
     "output_type": "stream",
     "text": [
      "D:\\programs\\Anaconda3\\lib\\site-packages\\ipykernel_launcher.py:10: SettingWithCopyWarning: \n",
      "A value is trying to be set on a copy of a slice from a DataFrame.\n",
      "Try using .loc[row_indexer,col_indexer] = value instead\n",
      "\n",
      "See the caveats in the documentation: https://pandas.pydata.org/pandas-docs/stable/user_guide/indexing.html#returning-a-view-versus-a-copy\n",
      "  # Remove the CWD from sys.path while we load stuff.\n",
      "D:\\programs\\Anaconda3\\lib\\site-packages\\ipykernel_launcher.py:19: SettingWithCopyWarning: \n",
      "A value is trying to be set on a copy of a slice from a DataFrame.\n",
      "Try using .loc[row_indexer,col_indexer] = value instead\n",
      "\n",
      "See the caveats in the documentation: https://pandas.pydata.org/pandas-docs/stable/user_guide/indexing.html#returning-a-view-versus-a-copy\n"
     ]
    }
   ],
   "source": [
    "\"\"\"\n",
    "全てDay1と同様の操作\n",
    "\"\"\"\n",
    "# 2100以上のデータがあるcountryのみ利用\n",
    "# データ数が2100以上のカテゴリを抜き出す\n",
    "df_country = pd.DataFrame() # 空のdataframe\n",
    "for index, value in df_ks['country'].value_counts().iteritems():\n",
    "    if value < 2100:\n",
    "        df_tmp = df_ks[(df_ks[\"country\"]==index)]\n",
    "        df_tmp[\"country\"] = \"others\"\n",
    "        df_country = pd.concat([df_country, df_tmp])\n",
    "        continue\n",
    "    df_country = pd.concat([df_country, df_ks[(df_ks[\"country\"]==index)]])\n",
    "# データ数が2100以上のカテゴリを抜き出す\n",
    "df_category = pd.DataFrame() # 空のdataframe\n",
    "for index, value in df_ks['category'].value_counts().iteritems():\n",
    "    if value < 2100:\n",
    "        df_tmp = df_ks[(df_ks[\"category\"]==index)]\n",
    "        df_tmp[\"category\"] = \"others\"\n",
    "        df_category = pd.concat([df_category, df_tmp])\n",
    "        continue\n",
    "    df_category = pd.concat([df_category, df_ks[(df_ks[\"category\"]==index)]])\n",
    "# usd_goal_realのオーダーと成功/失敗のみのデータフレームを作成する。\n",
    "df_ML = pd.DataFrame() # 煩雑になってきたので、使うものだけここに入れる。\n",
    "df_ML[\"state\"] = df_ks[\"state\"]\n",
    "# 地域\n",
    "df_ML = pd.concat([df_ML, pd.get_dummies(df_country[\"country\"], sparse=True)], axis=1)\n",
    "# sparse: メモリの削減\n",
    "df_ML = df_ML.drop(columns=\"others\") # 全て0ならothers\n",
    "# メインカテゴリ\n",
    "df_ML = pd.concat([df_ML, pd.get_dummies(df_ks[\"main_category\"], prefix=\"main_category\", sparse=True)], axis=1)\n",
    "df_ML = df_ML.drop(columns=\"main_category_Theater\") # 全て0ならTheater\n",
    "# カテゴリ\n",
    "df_ML = pd.concat([df_ML, pd.get_dummies(df_category[\"category\"], prefix=\"category\", sparse=True)], axis=1)\n",
    "df_ML = df_ML.drop(columns=\"category_others\") # 全て0ならothers\n",
    "df_ML[\"goal_band\"] = pd.cut(df_ks[\"usd_goal_real\"], [0, 1e2, 1e3, 1e4, 1e5, 1e6, 1e7, 1e9], labels=range(1,8))\n",
    "X = df_ML[df_ML.columns[1:]]\n",
    "y = df_ML[df_ML.columns[0]]"
   ]
  },
  {
   "cell_type": "markdown",
   "metadata": {},
   "source": [
    "### 1.1 交差検証法（クロスバリデーション）\n",
    "学習し、クロスバリデーションにより汎化性能を評価する。  \n",
    "なお、数十万の学習データをそのまま用いて学習させるのはややナンセンスであるが、ロジスティック回帰は軽いモデルなためそのまま用いている。"
   ]
  },
  {
   "cell_type": "code",
   "execution_count": 4,
   "metadata": {},
   "outputs": [
    {
     "name": "stdout",
     "output_type": "stream",
     "text": [
      "Fold 1\n",
      "Accuracy = 64.927\n",
      "\n",
      "Fold 2\n",
      "Accuracy = 64.943\n",
      "\n",
      "Fold 3\n",
      "Accuracy = 65.166\n",
      "\n",
      "Fold 4\n",
      "Accuracy = 64.744\n",
      "\n",
      "Fold 5\n",
      "Accuracy = 65.03\n",
      "\n",
      "Cross Validation accuracy  = 64.962\n",
      "Cross Validation recall    = 81.992\n",
      "Cross Validation precision = 66.79\n",
      "Cross Validation f1 score  = 73.614\n",
      "Wall time: 20 s\n"
     ]
    }
   ],
   "source": [
    "%%time\n",
    "from sklearn.linear_model import SGDClassifier\n",
    "from sklearn.metrics import accuracy_score, precision_recall_fscore_support\n",
    "\n",
    "# 交差検証法（クロスバリデーション）\n",
    "from sklearn.model_selection import KFold # 交差検証法に関する関数\n",
    "\n",
    "n_split = 5 # グループ数を設定（今回は5分割）\n",
    "# 初期化\n",
    "split_num = 1\n",
    "accuracy_sum = 0.0\n",
    "precision_sum = 0.0\n",
    "recall_sum = 0.0\n",
    "f1_score_sum = 0.0\n",
    "\n",
    "for train_idx, test_idx in KFold(n_splits=n_split, shuffle=True, random_state=1234).split(X, y):\n",
    "    X_train, y_train = X.iloc[train_idx], y.iloc[train_idx] #学習用データ\n",
    "    X_test, y_test = X.iloc[test_idx], y.iloc[test_idx]     #テスト用データ\n",
    "    \n",
    "    # 学習用データを使ってロジスティック回帰を学習\n",
    "    clf = SGDClassifier(fit_intercept=True)\n",
    "    clf.fit(X_train, y_train)\n",
    "\n",
    "    # テストデータに対する予測を実行\n",
    "    y_pred_test = clf.predict(X_test)\n",
    "    \n",
    "    accuracy = accuracy_score(y_test, y_pred_test)\n",
    "    precision, recall, f1_score, _ = precision_recall_fscore_support(y_test, y_pred_test)\n",
    "    print(\"Fold %s\"%split_num)\n",
    "    print(\"Accuracy = %s\"%round(accuracy*100, 3))\n",
    "    print()\n",
    "    \n",
    "    accuracy_sum += accuracy #後で平均を取る\n",
    "    precision_sum += precision[0]\n",
    "    recall_sum += recall[0]\n",
    "    f1_score_sum += f1_score[0]\n",
    "    split_num += 1\n",
    "# 最終的な値を出力    \n",
    "print(\"Cross Validation accuracy  = %s\"%round(accuracy_sum/n_split*100, 3))\n",
    "print(\"Cross Validation recall    = %s\"%round(recall_sum/n_split*100, 3))\n",
    "print(\"Cross Validation precision = %s\"%round(precision_sum/n_split*100, 3))\n",
    "print(\"Cross Validation f1 score  = %s\"%round(f1_score_sum/n_split*100, 3))"
   ]
  },
  {
   "cell_type": "markdown",
   "metadata": {},
   "source": [
    "### 考察\n",
    "以下の表にモデルの検証方法ごとの汎化性能の一覧を示す。今回の結果では、検証方法によらず汎化性能にはほとんど差が無かった。これは、十分なデータ数があったため、またホールドアウト法を用いる際には統計的な検討から説明変数とするカテゴリを決定したため（Day1レポート参照）であると考えられる。"
   ]
  },
  {
   "cell_type": "markdown",
   "metadata": {},
   "source": [
    "|検証方法|accuracy|recall|precision|f1 score|\n",
    "|:-|:-:|:-|:-|:-|\n",
    "|ホールドアウト法|65.864%|78.002%|68.860%|73.146%|\n",
    "|交差検証法(n=5)|64.962%|81.992%|66.790%|73.614%|"
   ]
  },
  {
   "cell_type": "markdown",
   "metadata": {},
   "source": [
    "# 2 データの追加・加工"
   ]
  },
  {
   "cell_type": "code",
   "execution_count": 5,
   "metadata": {},
   "outputs": [
    {
     "data": {
      "text/plain": [
       "Index(['state', 'AU', 'CA', 'DE', 'FR', 'GB', 'IT', 'NL', 'US',\n",
       "       'main_category_Art', 'main_category_Comics', 'main_category_Crafts',\n",
       "       'main_category_Dance', 'main_category_Design', 'main_category_Fashion',\n",
       "       'main_category_Film & Video', 'main_category_Food',\n",
       "       'main_category_Games', 'main_category_Journalism',\n",
       "       'main_category_Music', 'main_category_Photography',\n",
       "       'main_category_Publishing', 'main_category_Technology',\n",
       "       'category_Accessories', 'category_Animation', 'category_Apparel',\n",
       "       'category_Apps', 'category_Art', 'category_Art Books',\n",
       "       'category_Children's Books', 'category_Classical Music',\n",
       "       'category_Comic Books', 'category_Comics', 'category_Country & Folk',\n",
       "       'category_Crafts', 'category_Dance', 'category_Design',\n",
       "       'category_Documentary', 'category_Drinks', 'category_Fashion',\n",
       "       'category_Fiction', 'category_Film & Video', 'category_Food',\n",
       "       'category_Gadgets', 'category_Games', 'category_Hardware',\n",
       "       'category_Hip-Hop', 'category_Illustration', 'category_Indie Rock',\n",
       "       'category_Mixed Media', 'category_Music', 'category_Narrative Film',\n",
       "       'category_Nonfiction', 'category_Painting', 'category_Photography',\n",
       "       'category_Pop', 'category_Product Design', 'category_Public Art',\n",
       "       'category_Publishing', 'category_Restaurants', 'category_Rock',\n",
       "       'category_Shorts', 'category_Software', 'category_Tabletop Games',\n",
       "       'category_Technology', 'category_Theater', 'category_Video Games',\n",
       "       'category_Web', 'category_Webseries', 'goal_band'],\n",
       "      dtype='object')"
      ]
     },
     "execution_count": 5,
     "metadata": {},
     "output_type": "execute_result"
    }
   ],
   "source": [
    "df_ML.columns"
   ]
  },
  {
   "cell_type": "markdown",
   "metadata": {},
   "source": [
    "### データの軽量化\n",
    "カテゴリに関する変数が多く重たいので、成功または失敗しやすいいくつかのカテゴリを残して削除することとする。"
   ]
  },
  {
   "cell_type": "code",
   "execution_count": 6,
   "metadata": {},
   "outputs": [
    {
     "name": "stdout",
     "output_type": "stream",
     "text": [
      "['category_Literary Spaces', 'category_Dance', 'category_Anthologies', 'category_Residencies', 'category_Chiptune', 'category_Apps', 'category_Web', 'category_Mobile Games', 'category_Video', 'category_Food Trucks']\n"
     ]
    }
   ],
   "source": [
    "# カテゴリ\n",
    "c_keys = []\n",
    "# 上位\n",
    "key = df_ks.groupby(\"category\").mean()[\"state\"].sort_values().tail(5).keys()\n",
    "c_keys = c_keys + list(key)\n",
    "# 下位\n",
    "key = df_ks.groupby(\"category\").mean()[\"state\"].sort_values().head(5).keys()\n",
    "c_keys = c_keys + list(key)\n",
    "c_keys = [\"category_\" + s for s in c_keys]\n",
    "print(c_keys)"
   ]
  },
  {
   "cell_type": "code",
   "execution_count": 7,
   "metadata": {},
   "outputs": [
    {
     "name": "stdout",
     "output_type": "stream",
     "text": [
      "['main_category_Comics', 'main_category_Theater', 'main_category_Dance', 'main_category_Technology', 'main_category_Journalism', 'main_category_Crafts']\n"
     ]
    }
   ],
   "source": [
    "# メインカテゴリ\n",
    "mc_keys = []\n",
    "# 上位\n",
    "key = df_ks.groupby(\"main_category\").mean()[\"state\"].sort_values().tail(3).keys()\n",
    "mc_keys = mc_keys + list(key)\n",
    "# 下位\n",
    "key = df_ks.groupby(\"main_category\").mean()[\"state\"].sort_values().head(3).keys()\n",
    "mc_keys = mc_keys + list(key)\n",
    "mc_keys = [\"main_category_\" + s for s in mc_keys]\n",
    "print(mc_keys)"
   ]
  },
  {
   "cell_type": "code",
   "execution_count": 8,
   "metadata": {},
   "outputs": [
    {
     "data": {
      "text/plain": [
       "Index(['state', 'AU', 'CA', 'DE', 'FR', 'GB', 'IT', 'NL', 'US', 'goal_band',\n",
       "       ...\n",
       "       'category_Wearables', 'category_Weaving', 'category_Web',\n",
       "       'category_Webcomics', 'category_Webseries', 'category_Woodworking',\n",
       "       'category_Workshops', 'category_World Music', 'category_Young Adult',\n",
       "       'category_Zines'],\n",
       "      dtype='object', length=184)"
      ]
     },
     "execution_count": 8,
     "metadata": {},
     "output_type": "execute_result"
    }
   ],
   "source": [
    "# カテゴリに関するものを削除\n",
    "df_ML_wo_category = df_ML # バグ防止に仮置き\n",
    "for column_name in df_ML:\n",
    "    if 'category_' in column_name:\n",
    "        df_ML_wo_category = df_ML_wo_category.drop(columns=column_name)\n",
    "df_ML = df_ML_wo_category\n",
    "# もう一度追加\n",
    "# メインカテゴリ\n",
    "df_ML = pd.concat([df_ML, pd.get_dummies(df_ks[\"main_category\"], prefix=\"main_category\", sparse=True)], axis=1)\n",
    "# カテゴリ\n",
    "df_ML = pd.concat([df_ML, pd.get_dummies(df_ks[\"category\"], prefix=\"category\", sparse=True)], axis=1)\n",
    "df_ML.columns"
   ]
  },
  {
   "cell_type": "code",
   "execution_count": 9,
   "metadata": {},
   "outputs": [],
   "source": [
    "# ピックアップしたもののみ残す\n",
    "keys = c_keys + mc_keys\n",
    "df_ML_edit = df_ML # バグ防止に仮置き\n",
    "for column_name in df_ML:\n",
    "    if \"category\" in column_name:\n",
    "        if column_name in keys:\n",
    "            continue\n",
    "        df_ML_edit = df_ML_edit.drop(columns=column_name)\n",
    "df_ML = df_ML_edit"
   ]
  },
  {
   "cell_type": "markdown",
   "metadata": {},
   "source": [
    "## 2.1 データの追加\n",
    "Day1では利用しなかったdeadline, launchedおよびname列を利用することを考える。"
   ]
  },
  {
   "cell_type": "markdown",
   "metadata": {},
   "source": [
    "### 期間(period)\n",
    "deadlineおよびlaunchedの差から期間(period)を生成する。単位は日(days)として整理、計算する。"
   ]
  },
  {
   "cell_type": "code",
   "execution_count": 10,
   "metadata": {},
   "outputs": [],
   "source": [
    "import datetime\n",
    "# deadlineおよびlaunchedをdatetime形式に変換する。\n",
    "l_dt = pd.to_datetime(df_ks[\"launched\"])\n",
    "d_dt = pd.to_datetime(df_ks[\"deadline\"])"
   ]
  },
  {
   "cell_type": "code",
   "execution_count": 11,
   "metadata": {},
   "outputs": [
    {
     "data": {
      "text/plain": [
       "count    331672.000000\n",
       "mean         32.954889\n",
       "std          12.713279\n",
       "min           0.000000\n",
       "25%          29.000000\n",
       "50%          29.000000\n",
       "75%          35.000000\n",
       "max          91.000000\n",
       "Name: period, dtype: float64"
      ]
     },
     "execution_count": 11,
     "metadata": {},
     "output_type": "execute_result"
    }
   ],
   "source": [
    "period = d_dt - l_dt # timedelta64[ns]となる\n",
    "# timedelta64[ns]から日数を抜き出し\n",
    "days = period.values.astype('timedelta64[D]')\n",
    "df_ks[\"period\"] = days / np.timedelta64(1, 'D')\n",
    "df_ks[\"period\"] = df_ks[\"period\"].astype('int64')\n",
    "df_ks[\"period\"].describe()"
   ]
  },
  {
   "cell_type": "code",
   "execution_count": 12,
   "metadata": {},
   "outputs": [
    {
     "data": {
      "image/png": "[encoded data removed]",
      "text/plain": [
       "<Figure size 432x288 with 1 Axes>"
      ]
     },
     "metadata": {
      "needs_background": "light"
     },
     "output_type": "display_data"
    }
   ],
   "source": [
    "# とりあえず可視化する\n",
    "sns.countplot(df_ks.period)\n",
    "plt.show()"
   ]
  },
  {
   "cell_type": "markdown",
   "metadata": {},
   "source": [
    "1ヵ月となる30日付近にデータが多く、次いで2ヵ月となる60日付近にデータが多い。データが多いので、週で分けることを考える。"
   ]
  },
  {
   "cell_type": "code",
   "execution_count": 13,
   "metadata": {},
   "outputs": [],
   "source": [
    "df_ks[\"period_week\"] = df_ks[\"period\"] / 7"
   ]
  },
  {
   "cell_type": "code",
   "execution_count": 14,
   "metadata": {},
   "outputs": [
    {
     "data": {
      "image/png": "[encoded data removed]",
      "text/plain": [
       "<Figure size 432x288 with 1 Axes>"
      ]
     },
     "metadata": {
      "needs_background": "light"
     },
     "output_type": "display_data"
    }
   ],
   "source": [
    "# とりあえず可視化する\n",
    "sns.countplot((df_ks[\"period\"] / 7).astype('int64'))\n",
    "plt.show()"
   ]
  },
  {
   "cell_type": "code",
   "execution_count": 15,
   "metadata": {},
   "outputs": [
    {
     "data": {
      "image/png": "[encoded data removed]",
      "text/plain": [
       "<Figure size 432x288 with 1 Axes>"
      ]
     },
     "metadata": {
      "needs_background": "light"
     },
     "output_type": "display_data"
    }
   ],
   "source": [
    "period_state = pd.crosstab((df_ks[\"period\"] / 7).astype('int64'), df_ks[\"state\"], normalize=\"index\")\n",
    "period_state.plot.bar(stacked=True)\n",
    "plt.show()"
   ]
  },
  {
   "cell_type": "markdown",
   "metadata": {},
   "source": [
    "期間と目的変数であるstateの間には相関が見られないと考える。しかし、募集金額と募集期間に相関があると考える。"
   ]
  },
  {
   "cell_type": "code",
   "execution_count": 16,
   "metadata": {},
   "outputs": [
    {
     "data": {
      "image/png": "[encoded data removed]",
      "text/plain": [
       "<Figure size 720x360 with 1 Axes>"
      ]
     },
     "metadata": {
      "needs_background": "light"
     },
     "output_type": "display_data"
    }
   ],
   "source": [
    "# 目標金額と募集期間ごとにstateをプロット\n",
    "df_ks[\"goal_band\"] = df_ML[\"goal_band\"]\n",
    "plt.figure(figsize=(10,5))\n",
    "sns.swarmplot(\"goal_band\", \"period\", data=df_ks[df_ks.index%250 == 0], hue=\"state\",dodge=1)\n",
    "plt.show() # 250個につき1つ"
   ]
  },
  {
   "cell_type": "markdown",
   "metadata": {},
   "source": [
    "goal_bandとperiodとで全て予想できるほどの強い相関はないものの、例えばgoal_bandが4および5となるデータに着目すると、募集期間periodが極端に短いものおよび極端に長いものは失敗する傾向が見られる。そのため、変数間の関係性も考慮できるモデルであれば有用であると考えられる。（？）"
   ]
  },
  {
   "cell_type": "code",
   "execution_count": 17,
   "metadata": {},
   "outputs": [],
   "source": [
    "# 追加\n",
    "df_ML[\"period\"] = df_ks[\"period\"]"
   ]
  },
  {
   "cell_type": "markdown",
   "metadata": {},
   "source": [
    "### 名前(name)\n",
    "クラウドファンディングする側にとって、タイトルは重要であると考える。\"?\"や\"!\"で終われば閲覧者の目を引くと考えられるし、タイトルで詳しく書く方が目を引くとも予想する。"
   ]
  },
  {
   "cell_type": "code",
   "execution_count": 18,
   "metadata": {},
   "outputs": [],
   "source": [
    "df_ks[\"name_!\"] = df_ks[\"name\"].str[-1] == \"!\"\n",
    "df_ks[\"name_?\"] = df_ks[\"name\"].str[-1] == \"?\""
   ]
  },
  {
   "cell_type": "code",
   "execution_count": 19,
   "metadata": {},
   "outputs": [
    {
     "data": {
      "image/png": "[encoded data removed]",
      "text/plain": [
       "<Figure size 432x288 with 1 Axes>"
      ]
     },
     "metadata": {
      "needs_background": "light"
     },
     "output_type": "display_data"
    }
   ],
   "source": [
    "exclamation_state = pd.crosstab(df_ks[\"name_!\"], df_ks[\"state\"], normalize=\"index\")\n",
    "exclamation_state.plot.bar(stacked=True)\n",
    "plt.show()"
   ]
  },
  {
   "cell_type": "code",
   "execution_count": 20,
   "metadata": {},
   "outputs": [
    {
     "data": {
      "image/png": "[encoded data removed]",
      "text/plain": [
       "<Figure size 432x288 with 1 Axes>"
      ]
     },
     "metadata": {
      "needs_background": "light"
     },
     "output_type": "display_data"
    }
   ],
   "source": [
    "question_state = pd.crosstab(df_ks[\"name_?\"], df_ks[\"state\"], normalize=\"index\")\n",
    "question_state.plot.bar(stacked=True)\n",
    "plt.show()"
   ]
  },
  {
   "cell_type": "markdown",
   "metadata": {},
   "source": [
    "!で終わればクラウドファンディングの成功率が上がり、?の疑問形で終わると成功率が低くなることがわかったため説明変数として有用であると考えられ、説明変数として採用することとする。"
   ]
  },
  {
   "cell_type": "code",
   "execution_count": 21,
   "metadata": {
    "scrolled": true
   },
   "outputs": [],
   "source": [
    "df_ML[\"name_!\"] = df_ks[\"name_!\"]\n",
    "df_ML[\"name_?\"] = df_ks[\"name_?\"]"
   ]
  },
  {
   "cell_type": "markdown",
   "metadata": {},
   "source": [
    "## 2.2 データの加工"
   ]
  },
  {
   "cell_type": "markdown",
   "metadata": {},
   "source": [
    "### 標準化\n",
    "先ほど作成した期間について、標準化を施す。"
   ]
  },
  {
   "cell_type": "code",
   "execution_count": 22,
   "metadata": {},
   "outputs": [],
   "source": [
    "from sklearn.preprocessing import StandardScaler\n",
    "stdsc = StandardScaler()\n",
    "df_ML[\"period\"] = stdsc.fit_transform(df_ML[[\"period\"]].values)"
   ]
  },
  {
   "cell_type": "code",
   "execution_count": 23,
   "metadata": {},
   "outputs": [
    {
     "name": "stdout",
     "output_type": "stream",
     "text": [
      "正答率（Accuracy）  = 63.221%\n",
      "再現率（Recall）    = 84.307%\n",
      "適合率（Precision） = 64.692%\n",
      "F1値　（f1 score）  = 73.208%\n"
     ]
    }
   ],
   "source": [
    "# トレーニングデータと、検証用データに分ける。\n",
    "from sklearn.model_selection import train_test_split\n",
    "df_train,df_test = train_test_split(df_ML, test_size=0.3, random_state=1234)\n",
    "# それぞれ説明変数、目的変数に分ける\n",
    "train_X = df_train[df_ML.columns[1:]]\n",
    "train_Y = df_train[df_ML.columns[0]]\n",
    "test_X  = df_test[df_ML.columns[1:]]\n",
    "test_Y  = df_test[df_ML.columns[0]]\n",
    "# ロジスティック回帰\n",
    "clf = SGDClassifier(loss=\"log\", penalty=\"none\", max_iter=1000, fit_intercept=True, random_state=1234, tol=1e-4)\n",
    "clf.fit(train_X, train_Y)\n",
    "# 予測\n",
    "y_pred = clf.predict(test_X)\n",
    "# 結果を確認する\n",
    "accuracy = accuracy_score(test_Y, y_pred)\n",
    "precision, recall, f1_score, _ = precision_recall_fscore_support(test_Y, y_pred)\n",
    "print('正答率（Accuracy）  = {:.3f}%'.format(100 * accuracy))\n",
    "print('再現率（Recall）    = {:.3f}%'.format(100 * recall[0]))\n",
    "print('適合率（Precision） = {:.3f}%'.format(100 * precision[0]))\n",
    "print('F1値　（f1 score）  = {:.3f}%'.format(100 * f1_score[0]))"
   ]
  },
  {
   "cell_type": "markdown",
   "metadata": {},
   "source": [
    "期間、name_!およびname_?の導入前はそれぞれ  \n",
    "正答率（Accuracy）  = 65.864%  \n",
    "再現率（Recall）    = 78.002%  \n",
    "適合率（Precision） = 68.860%  \n",
    "であったので、性能としては大差がなかった。しかしながら、利用している予測モデル次第であるはずであり、このまま追加する。\n",
    "先ほど**データの軽量化**を行ったが、予測精度に影響していないと言えることから**適切な軽量化を行えた**と考える。"
   ]
  },
  {
   "cell_type": "markdown",
   "metadata": {},
   "source": [
    "### 目標金額について\n",
    "目標金額の取り扱いについて、bandとしていたが標準化して用いることも検討する。"
   ]
  },
  {
   "cell_type": "code",
   "execution_count": 24,
   "metadata": {},
   "outputs": [],
   "source": [
    "# df_ML[\"goal_band\"] = pd.cut(df_ks[\"usd_goal_real\"], [0, 1e2, 1e3, 1e4, 1e5, 1e6, 1e7, 1e9], labels=range(1,8))"
   ]
  },
  {
   "cell_type": "markdown",
   "metadata": {},
   "source": [
    "上述の通り、  \n",
    "正答率（Accuracy）  = 63.221%  \n",
    "再現率（Recall）    = 84.307%  \n",
    "適合率（Precision） = 64.692%  \n",
    "F1値　（f1 score）  = 73.208%  \n",
    "である。"
   ]
  },
  {
   "cell_type": "markdown",
   "metadata": {},
   "source": [
    "#### 標準化して用いる場合"
   ]
  },
  {
   "cell_type": "code",
   "execution_count": 25,
   "metadata": {},
   "outputs": [],
   "source": [
    "df_ML = df_ML.drop(columns=['goal_band'])\n",
    "stdsc = StandardScaler()\n",
    "df_ML[\"goal\"] = stdsc.fit_transform(df_ks[[\"usd_goal_real\"]].values)"
   ]
  },
  {
   "cell_type": "code",
   "execution_count": 26,
   "metadata": {},
   "outputs": [
    {
     "name": "stdout",
     "output_type": "stream",
     "text": [
      "正答率（Accuracy）  = 63.110%\n",
      "再現率（Recall）    = 81.140%\n",
      "適合率（Precision） = 65.345%\n",
      "F1値　（f1 score）  = 72.391%\n"
     ]
    }
   ],
   "source": [
    "# トレーニングデータと、検証用データに分ける。\n",
    "from sklearn.model_selection import train_test_split\n",
    "df_train,df_test = train_test_split(df_ML, test_size=0.3, random_state=1234)\n",
    "# それぞれ説明変数、目的変数に分ける\n",
    "train_X = df_train[df_ML.columns[1:]]\n",
    "train_Y = df_train[df_ML.columns[0]]\n",
    "test_X  = df_test[df_ML.columns[1:]]\n",
    "test_Y  = df_test[df_ML.columns[0]]\n",
    "# ロジスティック回帰\n",
    "clf = SGDClassifier(loss=\"log\", penalty=\"none\", max_iter=1000, fit_intercept=True, random_state=1234, tol=1e-4)\n",
    "clf.fit(train_X, train_Y)\n",
    "# 予測\n",
    "y_pred = clf.predict(test_X)\n",
    "# 結果を確認する\n",
    "accuracy = accuracy_score(test_Y, y_pred)\n",
    "precision, recall, f1_score, _ = precision_recall_fscore_support(test_Y, y_pred)\n",
    "print('正答率（Accuracy）  = {:.3f}%'.format(100 * accuracy))\n",
    "print('再現率（Recall）    = {:.3f}%'.format(100 * recall[0]))\n",
    "print('適合率（Precision） = {:.3f}%'.format(100 * precision[0]))\n",
    "print('F1値　（f1 score）  = {:.3f}%'.format(100 * f1_score[0]))"
   ]
  },
  {
   "cell_type": "markdown",
   "metadata": {},
   "source": [
    "どちらでもほとんど変わらなかったが、バンド化したほうがF1値がわずかに良いのでバンド化して用いることにする。"
   ]
  },
  {
   "cell_type": "code",
   "execution_count": 27,
   "metadata": {},
   "outputs": [],
   "source": [
    "# 標準化したものを削除、バンド化したものを再び追加\n",
    "df_ML = df_ML.drop(columns=['goal'])\n",
    "df_ML[\"goal_band\"] = pd.cut(df_ks[\"usd_goal_real\"], [0, 1e2, 1e3, 1e4, 1e5, 1e6, 1e7, 1e9], labels=range(1,8))"
   ]
  },
  {
   "cell_type": "markdown",
   "metadata": {},
   "source": [
    "# 3 新たなモデルの利用\n",
    "## 3.1 L2正則化 (Ridge)\n",
    "係数の値が小さくなるように正則化する。"
   ]
  },
  {
   "cell_type": "code",
   "execution_count": 28,
   "metadata": {},
   "outputs": [],
   "source": [
    "from sklearn.linear_model import RidgeClassifier\n",
    "def ridge(DF, ALPHA):\n",
    "    # トレーニングデータと、検証用データに分ける。\n",
    "    df_train,df_test = train_test_split(DF, test_size=0.3, random_state=1234)\n",
    "    # それぞれ説明変数、目的変数に分ける\n",
    "    train_X = df_train[df_ML.columns[1:]]\n",
    "    train_Y = df_train[df_ML.columns[0]]\n",
    "    test_X  = df_test[df_ML.columns[1:]]\n",
    "    test_Y  = df_test[df_ML.columns[0]]\n",
    "    # ロジスティック回帰\n",
    "    clf = RidgeClassifier(alpha=ALPHA, max_iter=1e8)\n",
    "    clf.fit(train_X, train_Y)\n",
    "    # 予測\n",
    "    y_pred = clf.predict(test_X)\n",
    "    # 結果を確認する\n",
    "    accuracy = accuracy_score(test_Y, y_pred)\n",
    "    precision, recall, f1_score, _ = precision_recall_fscore_support(test_Y, y_pred)\n",
    "    print('正答率（Accuracy）  = {:.3f}%'.format(100 * accuracy))\n",
    "    print('再現率（Recall）    = {:.3f}%'.format(100 * recall[0]))\n",
    "    print('適合率（Precision） = {:.3f}%'.format(100 * precision[0]))\n",
    "    print('F1値　（f1 score）  = {:.3f}%'.format(100 * f1_score[0]))\n",
    "    print()"
   ]
  },
  {
   "cell_type": "code",
   "execution_count": 29,
   "metadata": {},
   "outputs": [
    {
     "name": "stdout",
     "output_type": "stream",
     "text": [
      "alpha = 1.0e-01\n",
      "正答率（Accuracy）  = 63.158%\n",
      "再現率（Recall）    = 85.317%\n",
      "適合率（Precision） = 64.416%\n",
      "F1値　（f1 score）  = 73.408%\n",
      "\n",
      "alpha = 1.0e+00\n",
      "正答率（Accuracy）  = 63.159%\n",
      "再現率（Recall）    = 85.319%\n",
      "適合率（Precision） = 64.416%\n",
      "F1値　（f1 score）  = 73.408%\n",
      "\n",
      "alpha = 1.0e+01\n",
      "正答率（Accuracy）  = 63.159%\n",
      "再現率（Recall）    = 85.325%\n",
      "適合率（Precision） = 64.415%\n",
      "F1値　（f1 score）  = 73.410%\n",
      "\n",
      "alpha = 1.0e+02\n",
      "正答率（Accuracy）  = 63.150%\n",
      "再現率（Recall）    = 85.347%\n",
      "適合率（Precision） = 64.404%\n",
      "F1値　（f1 score）  = 73.411%\n",
      "\n"
     ]
    }
   ],
   "source": [
    "alphas = [1e-1, 1e0, 1e1, 100.0]\n",
    "for alpha in alphas:\n",
    "    print('alpha = {:.1e}'.format(alpha))\n",
    "    ridge(df_ML, alpha)"
   ]
  },
  {
   "cell_type": "markdown",
   "metadata": {},
   "source": [
    "再現率が向上し、正答率と適合率が低下した。F1値は向上した。  \n",
    "αによって結果が全くと言っていいほど変わらないのが気になる。"
   ]
  },
  {
   "cell_type": "markdown",
   "metadata": {},
   "source": [
    "## 3.1 L1正則化 (Lasso)\n",
    "係数の値が小さくなるように正則化する。"
   ]
  },
  {
   "cell_type": "code",
   "execution_count": 30,
   "metadata": {},
   "outputs": [],
   "source": [
    "from sklearn.linear_model import Lasso\n",
    "def lasso(DF, ALPHA):\n",
    "    # トレーニングデータと、検証用データに分ける。\n",
    "    df_train,df_test = train_test_split(DF, test_size=0.3, random_state=1234)\n",
    "    # それぞれ説明変数、目的変数に分ける\n",
    "    train_X = df_train[df_ML.columns[1:]]\n",
    "    train_Y = df_train[df_ML.columns[0]]\n",
    "    test_X  = df_test[df_ML.columns[1:]]\n",
    "    test_Y  = df_test[df_ML.columns[0]]\n",
    "    # ロジスティック回帰\n",
    "    clf = Lasso(alpha=ALPHA, max_iter=1e8)\n",
    "    clf.fit(train_X, train_Y)\n",
    "    # 予測\n",
    "    y_pred = clf.predict(test_X)\n",
    "    y_pred =[p >= 0.5 for p in y_pred]\n",
    "    # 結果を確認する\n",
    "    accuracy = accuracy_score(test_Y, y_pred)\n",
    "    precision, recall, f1_score, _ = precision_recall_fscore_support(test_Y, y_pred)\n",
    "    print('正答率（Accuracy）  = {:.3f}%'.format(100 * accuracy))\n",
    "    print('再現率（Recall）    = {:.3f}%'.format(100 * recall[0]))\n",
    "    print('適合率（Precision） = {:.3f}%'.format(100 * precision[0]))\n",
    "    print('F1値　（f1 score）  = {:.3f}%'.format(100 * f1_score[0]))\n",
    "    plt.figure(figsize=(10,5))"
   ]
  },
  {
   "cell_type": "code",
   "execution_count": 31,
   "metadata": {},
   "outputs": [
    {
     "name": "stdout",
     "output_type": "stream",
     "text": [
      "alpha = 1.0e-05\n",
      "正答率（Accuracy）  = 63.154%\n",
      "再現率（Recall）    = 85.313%\n",
      "適合率（Precision） = 64.413%\n",
      "F1値　（f1 score）  = 73.405%\n"
     ]
    },
    {
     "data": {
      "image/png": "[encoded data removed]",
      "text/plain": [
       "<Figure size 720x360 with 1 Axes>"
      ]
     },
     "metadata": {
      "needs_background": "light"
     },
     "output_type": "display_data"
    },
    {
     "name": "stdout",
     "output_type": "stream",
     "text": [
      "\n",
      "alpha = 1.0e-04\n",
      "正答率（Accuracy）  = 63.159%\n",
      "再現率（Recall）    = 85.342%\n",
      "適合率（Precision） = 64.411%\n",
      "F1値　（f1 score）  = 73.414%\n"
     ]
    },
    {
     "data": {
      "image/png": "[encoded data removed]",
      "text/plain": [
       "<Figure size 720x360 with 1 Axes>"
      ]
     },
     "metadata": {
      "needs_background": "light"
     },
     "output_type": "display_data"
    },
    {
     "name": "stdout",
     "output_type": "stream",
     "text": [
      "\n",
      "alpha = 1.0e-03\n",
      "正答率（Accuracy）  = 62.940%\n",
      "再現率（Recall）    = 85.750%\n",
      "適合率（Precision） = 64.147%\n",
      "F1値　（f1 score）  = 73.392%\n"
     ]
    },
    {
     "data": {
      "image/png": "[encoded data removed]",
      "text/plain": [
       "<Figure size 720x360 with 1 Axes>"
      ]
     },
     "metadata": {
      "needs_background": "light"
     },
     "output_type": "display_data"
    },
    {
     "name": "stdout",
     "output_type": "stream",
     "text": [
      "\n",
      "alpha = 1.0e-02\n",
      "正答率（Accuracy）  = 60.954%\n",
      "再現率（Recall）    = 88.733%\n",
      "適合率（Precision） = 62.061%\n",
      "F1値　（f1 score）  = 73.038%\n"
     ]
    },
    {
     "data": {
      "image/png": "[encoded data removed]",
      "text/plain": [
       "<Figure size 720x360 with 1 Axes>"
      ]
     },
     "metadata": {
      "needs_background": "light"
     },
     "output_type": "display_data"
    },
    {
     "name": "stdout",
     "output_type": "stream",
     "text": [
      "\n"
     ]
    }
   ],
   "source": [
    "alphas = [1e-5, 1e-4, 1e-3, 1e-2]\n",
    "for alpha in alphas:\n",
    "    print('alpha = {:.1e}'.format(alpha))\n",
    "    lasso(df_ML, alpha)\n",
    "    plt.bar(range(len(clf.coef_[0])), clf.coef_[0], tick_label=df_ML.columns[1:])\n",
    "    plt.xticks(rotation=90)\n",
    "    plt.ylim([-5, 1])\n",
    "    plt.show()\n",
    "    print()"
   ]
  },
  {
   "cell_type": "markdown",
   "metadata": {},
   "source": [
    "やはりαによりほとんど変化しない。goal_bandは非常によく効いていた。(-15程度)"
   ]
  },
  {
   "cell_type": "markdown",
   "metadata": {},
   "source": [
    "## 3.3 SVMの利用\n",
    "二値分類問題で利用可能なアルゴリズムであるSVMを利用する。"
   ]
  },
  {
   "cell_type": "code",
   "execution_count": 32,
   "metadata": {},
   "outputs": [],
   "source": [
    "from sklearn.svm import SVC\n",
    "from sklearn.model_selection import train_test_split, GridSearchCV\n",
    "df_train,df_test = train_test_split(df_ML, test_size=0.9999, random_state=1234)"
   ]
  },
  {
   "cell_type": "markdown",
   "metadata": {},
   "source": [
    "データ数が多いため？計算が終わらなかった。"
   ]
  },
  {
   "cell_type": "markdown",
   "metadata": {},
   "source": [
    "## 4 まとめ\n",
    "正答率は低下したものの、データの削減を行いながらDay1と同程度の正答率を維持できたことが収穫であったと考える。  \n",
    "再現率は比較的簡単に上がり頭打ちになるため、Day1のまとめにも書いた通り失敗を予測するのが難しいと感じる。"
   ]
  }
 ],
 "metadata": {
  "kernelspec": {
   "display_name": "Python 3",
   "language": "python",
   "name": "python3"
  },
  "language_info": {
   "codemirror_mode": {
    "name": "ipython",
    "version": 3
   },
   "file_extension": ".py",
   "mimetype": "text/x-python",
   "name": "python",
   "nbconvert_exporter": "python",
   "pygments_lexer": "ipython3",
   "version": "3.7.6"
  }
 },
 "nbformat": 4,
 "nbformat_minor": 4
}
