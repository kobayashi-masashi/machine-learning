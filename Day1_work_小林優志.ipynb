{
 "cells": [
  {
   "cell_type": "markdown",
   "metadata": {},
   "source": [
    "## Kickstarter Projects\n",
    "課題：クラウドファンディングが成功するかを**事前に**予測するモデルの構築を目指す。\n",
    "# Day1"
   ]
  },
  {
   "cell_type": "markdown",
   "metadata": {},
   "source": [
    "## 1 準備\n",
    "### 1.1 ライブラリのインポート"
   ]
  },
  {
   "cell_type": "code",
   "execution_count": 1,
   "metadata": {},
   "outputs": [],
   "source": [
    "%matplotlib inline\n",
    "import pandas as pd\n",
    "import numpy as np\n",
    "import seaborn as sns\n",
    "import matplotlib.pyplot as plt"
   ]
  },
  {
   "cell_type": "markdown",
   "metadata": {},
   "source": [
    "### 1.2 データのインポート"
   ]
  },
  {
   "cell_type": "code",
   "execution_count": 2,
   "metadata": {},
   "outputs": [],
   "source": [
    "df_ks = pd.read_csv(\"./ks-projects-201801.csv\")"
   ]
  },
  {
   "cell_type": "markdown",
   "metadata": {},
   "source": [
    "#### データの中身の確認"
   ]
  },
  {
   "cell_type": "code",
   "execution_count": 3,
   "metadata": {
    "scrolled": false
   },
   "outputs": [
    {
     "name": "stdout",
     "output_type": "stream",
     "text": [
      "<class 'pandas.core.frame.DataFrame'>\n",
      "RangeIndex: 378661 entries, 0 to 378660\n",
      "Data columns (total 15 columns):\n",
      " #   Column            Non-Null Count   Dtype  \n",
      "---  ------            --------------   -----  \n",
      " 0   ID                378661 non-null  int64  \n",
      " 1   name              378657 non-null  object \n",
      " 2   category          378661 non-null  object \n",
      " 3   main_category     378661 non-null  object \n",
      " 4   currency          378661 non-null  object \n",
      " 5   deadline          378661 non-null  object \n",
      " 6   goal              378661 non-null  float64\n",
      " 7   launched          378661 non-null  object \n",
      " 8   pledged           378661 non-null  float64\n",
      " 9   state             378661 non-null  object \n",
      " 10  backers           378661 non-null  int64  \n",
      " 11  country           378661 non-null  object \n",
      " 12  usd pledged       374864 non-null  float64\n",
      " 13  usd_pledged_real  378661 non-null  float64\n",
      " 14  usd_goal_real     378661 non-null  float64\n",
      "dtypes: float64(5), int64(2), object(8)\n",
      "memory usage: 43.3+ MB\n"
     ]
    }
   ],
   "source": [
    "df_ks.info()"
   ]
  },
  {
   "cell_type": "markdown",
   "metadata": {},
   "source": [
    "いくつかは欠測値あり。"
   ]
  },
  {
   "cell_type": "code",
   "execution_count": 4,
   "metadata": {},
   "outputs": [
    {
     "data": {
      "text/html": [
       "<div>\n",
       "<style scoped>\n",
       "    .dataframe tbody tr th:only-of-type {\n",
       "        vertical-align: middle;\n",
       "    }\n",
       "\n",
       "    .dataframe tbody tr th {\n",
       "        vertical-align: top;\n",
       "    }\n",
       "\n",
       "    .dataframe thead th {\n",
       "        text-align: right;\n",
       "    }\n",
       "</style>\n",
       "<table border=\"1\" class=\"dataframe\">\n",
       "  <thead>\n",
       "    <tr style=\"text-align: right;\">\n",
       "      <th></th>\n",
       "      <th>ID</th>\n",
       "      <th>name</th>\n",
       "      <th>category</th>\n",
       "      <th>main_category</th>\n",
       "      <th>currency</th>\n",
       "      <th>deadline</th>\n",
       "      <th>goal</th>\n",
       "      <th>launched</th>\n",
       "      <th>pledged</th>\n",
       "      <th>state</th>\n",
       "      <th>backers</th>\n",
       "      <th>country</th>\n",
       "      <th>usd pledged</th>\n",
       "      <th>usd_pledged_real</th>\n",
       "      <th>usd_goal_real</th>\n",
       "    </tr>\n",
       "  </thead>\n",
       "  <tbody>\n",
       "    <tr>\n",
       "      <th>0</th>\n",
       "      <td>1000002330</td>\n",
       "      <td>The Songs of Adelaide &amp; Abullah</td>\n",
       "      <td>Poetry</td>\n",
       "      <td>Publishing</td>\n",
       "      <td>GBP</td>\n",
       "      <td>2015-10-09</td>\n",
       "      <td>1000.0</td>\n",
       "      <td>2015-08-11 12:12:28</td>\n",
       "      <td>0.0</td>\n",
       "      <td>failed</td>\n",
       "      <td>0</td>\n",
       "      <td>GB</td>\n",
       "      <td>0.0</td>\n",
       "      <td>0.0</td>\n",
       "      <td>1533.95</td>\n",
       "    </tr>\n",
       "    <tr>\n",
       "      <th>1</th>\n",
       "      <td>1000003930</td>\n",
       "      <td>Greeting From Earth: ZGAC Arts Capsule For ET</td>\n",
       "      <td>Narrative Film</td>\n",
       "      <td>Film &amp; Video</td>\n",
       "      <td>USD</td>\n",
       "      <td>2017-11-01</td>\n",
       "      <td>30000.0</td>\n",
       "      <td>2017-09-02 04:43:57</td>\n",
       "      <td>2421.0</td>\n",
       "      <td>failed</td>\n",
       "      <td>15</td>\n",
       "      <td>US</td>\n",
       "      <td>100.0</td>\n",
       "      <td>2421.0</td>\n",
       "      <td>30000.00</td>\n",
       "    </tr>\n",
       "    <tr>\n",
       "      <th>2</th>\n",
       "      <td>1000004038</td>\n",
       "      <td>Where is Hank?</td>\n",
       "      <td>Narrative Film</td>\n",
       "      <td>Film &amp; Video</td>\n",
       "      <td>USD</td>\n",
       "      <td>2013-02-26</td>\n",
       "      <td>45000.0</td>\n",
       "      <td>2013-01-12 00:20:50</td>\n",
       "      <td>220.0</td>\n",
       "      <td>failed</td>\n",
       "      <td>3</td>\n",
       "      <td>US</td>\n",
       "      <td>220.0</td>\n",
       "      <td>220.0</td>\n",
       "      <td>45000.00</td>\n",
       "    </tr>\n",
       "    <tr>\n",
       "      <th>3</th>\n",
       "      <td>1000007540</td>\n",
       "      <td>ToshiCapital Rekordz Needs Help to Complete Album</td>\n",
       "      <td>Music</td>\n",
       "      <td>Music</td>\n",
       "      <td>USD</td>\n",
       "      <td>2012-04-16</td>\n",
       "      <td>5000.0</td>\n",
       "      <td>2012-03-17 03:24:11</td>\n",
       "      <td>1.0</td>\n",
       "      <td>failed</td>\n",
       "      <td>1</td>\n",
       "      <td>US</td>\n",
       "      <td>1.0</td>\n",
       "      <td>1.0</td>\n",
       "      <td>5000.00</td>\n",
       "    </tr>\n",
       "    <tr>\n",
       "      <th>4</th>\n",
       "      <td>1000011046</td>\n",
       "      <td>Community Film Project: The Art of Neighborhoo...</td>\n",
       "      <td>Film &amp; Video</td>\n",
       "      <td>Film &amp; Video</td>\n",
       "      <td>USD</td>\n",
       "      <td>2015-08-29</td>\n",
       "      <td>19500.0</td>\n",
       "      <td>2015-07-04 08:35:03</td>\n",
       "      <td>1283.0</td>\n",
       "      <td>canceled</td>\n",
       "      <td>14</td>\n",
       "      <td>US</td>\n",
       "      <td>1283.0</td>\n",
       "      <td>1283.0</td>\n",
       "      <td>19500.00</td>\n",
       "    </tr>\n",
       "    <tr>\n",
       "      <th>...</th>\n",
       "      <td>...</td>\n",
       "      <td>...</td>\n",
       "      <td>...</td>\n",
       "      <td>...</td>\n",
       "      <td>...</td>\n",
       "      <td>...</td>\n",
       "      <td>...</td>\n",
       "      <td>...</td>\n",
       "      <td>...</td>\n",
       "      <td>...</td>\n",
       "      <td>...</td>\n",
       "      <td>...</td>\n",
       "      <td>...</td>\n",
       "      <td>...</td>\n",
       "      <td>...</td>\n",
       "    </tr>\n",
       "    <tr>\n",
       "      <th>378656</th>\n",
       "      <td>999976400</td>\n",
       "      <td>ChknTruk Nationwide Charity Drive 2014 (Canceled)</td>\n",
       "      <td>Documentary</td>\n",
       "      <td>Film &amp; Video</td>\n",
       "      <td>USD</td>\n",
       "      <td>2014-10-17</td>\n",
       "      <td>50000.0</td>\n",
       "      <td>2014-09-17 02:35:30</td>\n",
       "      <td>25.0</td>\n",
       "      <td>canceled</td>\n",
       "      <td>1</td>\n",
       "      <td>US</td>\n",
       "      <td>25.0</td>\n",
       "      <td>25.0</td>\n",
       "      <td>50000.00</td>\n",
       "    </tr>\n",
       "    <tr>\n",
       "      <th>378657</th>\n",
       "      <td>999977640</td>\n",
       "      <td>The Tribe</td>\n",
       "      <td>Narrative Film</td>\n",
       "      <td>Film &amp; Video</td>\n",
       "      <td>USD</td>\n",
       "      <td>2011-07-19</td>\n",
       "      <td>1500.0</td>\n",
       "      <td>2011-06-22 03:35:14</td>\n",
       "      <td>155.0</td>\n",
       "      <td>failed</td>\n",
       "      <td>5</td>\n",
       "      <td>US</td>\n",
       "      <td>155.0</td>\n",
       "      <td>155.0</td>\n",
       "      <td>1500.00</td>\n",
       "    </tr>\n",
       "    <tr>\n",
       "      <th>378658</th>\n",
       "      <td>999986353</td>\n",
       "      <td>Walls of Remedy- New lesbian Romantic Comedy f...</td>\n",
       "      <td>Narrative Film</td>\n",
       "      <td>Film &amp; Video</td>\n",
       "      <td>USD</td>\n",
       "      <td>2010-08-16</td>\n",
       "      <td>15000.0</td>\n",
       "      <td>2010-07-01 19:40:30</td>\n",
       "      <td>20.0</td>\n",
       "      <td>failed</td>\n",
       "      <td>1</td>\n",
       "      <td>US</td>\n",
       "      <td>20.0</td>\n",
       "      <td>20.0</td>\n",
       "      <td>15000.00</td>\n",
       "    </tr>\n",
       "    <tr>\n",
       "      <th>378659</th>\n",
       "      <td>999987933</td>\n",
       "      <td>BioDefense Education Kit</td>\n",
       "      <td>Technology</td>\n",
       "      <td>Technology</td>\n",
       "      <td>USD</td>\n",
       "      <td>2016-02-13</td>\n",
       "      <td>15000.0</td>\n",
       "      <td>2016-01-13 18:13:53</td>\n",
       "      <td>200.0</td>\n",
       "      <td>failed</td>\n",
       "      <td>6</td>\n",
       "      <td>US</td>\n",
       "      <td>200.0</td>\n",
       "      <td>200.0</td>\n",
       "      <td>15000.00</td>\n",
       "    </tr>\n",
       "    <tr>\n",
       "      <th>378660</th>\n",
       "      <td>999988282</td>\n",
       "      <td>Nou Renmen Ayiti!  We Love Haiti!</td>\n",
       "      <td>Performance Art</td>\n",
       "      <td>Art</td>\n",
       "      <td>USD</td>\n",
       "      <td>2011-08-16</td>\n",
       "      <td>2000.0</td>\n",
       "      <td>2011-07-19 09:07:47</td>\n",
       "      <td>524.0</td>\n",
       "      <td>failed</td>\n",
       "      <td>17</td>\n",
       "      <td>US</td>\n",
       "      <td>524.0</td>\n",
       "      <td>524.0</td>\n",
       "      <td>2000.00</td>\n",
       "    </tr>\n",
       "  </tbody>\n",
       "</table>\n",
       "<p>378661 rows × 15 columns</p>\n",
       "</div>"
      ],
      "text/plain": [
       "                ID                                               name  \\\n",
       "0       1000002330                    The Songs of Adelaide & Abullah   \n",
       "1       1000003930      Greeting From Earth: ZGAC Arts Capsule For ET   \n",
       "2       1000004038                                     Where is Hank?   \n",
       "3       1000007540  ToshiCapital Rekordz Needs Help to Complete Album   \n",
       "4       1000011046  Community Film Project: The Art of Neighborhoo...   \n",
       "...            ...                                                ...   \n",
       "378656   999976400  ChknTruk Nationwide Charity Drive 2014 (Canceled)   \n",
       "378657   999977640                                          The Tribe   \n",
       "378658   999986353  Walls of Remedy- New lesbian Romantic Comedy f...   \n",
       "378659   999987933                           BioDefense Education Kit   \n",
       "378660   999988282                  Nou Renmen Ayiti!  We Love Haiti!   \n",
       "\n",
       "               category main_category currency    deadline     goal  \\\n",
       "0                Poetry    Publishing      GBP  2015-10-09   1000.0   \n",
       "1        Narrative Film  Film & Video      USD  2017-11-01  30000.0   \n",
       "2        Narrative Film  Film & Video      USD  2013-02-26  45000.0   \n",
       "3                 Music         Music      USD  2012-04-16   5000.0   \n",
       "4          Film & Video  Film & Video      USD  2015-08-29  19500.0   \n",
       "...                 ...           ...      ...         ...      ...   \n",
       "378656      Documentary  Film & Video      USD  2014-10-17  50000.0   \n",
       "378657   Narrative Film  Film & Video      USD  2011-07-19   1500.0   \n",
       "378658   Narrative Film  Film & Video      USD  2010-08-16  15000.0   \n",
       "378659       Technology    Technology      USD  2016-02-13  15000.0   \n",
       "378660  Performance Art           Art      USD  2011-08-16   2000.0   \n",
       "\n",
       "                   launched  pledged     state  backers country  usd pledged  \\\n",
       "0       2015-08-11 12:12:28      0.0    failed        0      GB          0.0   \n",
       "1       2017-09-02 04:43:57   2421.0    failed       15      US        100.0   \n",
       "2       2013-01-12 00:20:50    220.0    failed        3      US        220.0   \n",
       "3       2012-03-17 03:24:11      1.0    failed        1      US          1.0   \n",
       "4       2015-07-04 08:35:03   1283.0  canceled       14      US       1283.0   \n",
       "...                     ...      ...       ...      ...     ...          ...   \n",
       "378656  2014-09-17 02:35:30     25.0  canceled        1      US         25.0   \n",
       "378657  2011-06-22 03:35:14    155.0    failed        5      US        155.0   \n",
       "378658  2010-07-01 19:40:30     20.0    failed        1      US         20.0   \n",
       "378659  2016-01-13 18:13:53    200.0    failed        6      US        200.0   \n",
       "378660  2011-07-19 09:07:47    524.0    failed       17      US        524.0   \n",
       "\n",
       "        usd_pledged_real  usd_goal_real  \n",
       "0                    0.0        1533.95  \n",
       "1                 2421.0       30000.00  \n",
       "2                  220.0       45000.00  \n",
       "3                    1.0        5000.00  \n",
       "4                 1283.0       19500.00  \n",
       "...                  ...            ...  \n",
       "378656              25.0       50000.00  \n",
       "378657             155.0        1500.00  \n",
       "378658              20.0       15000.00  \n",
       "378659             200.0       15000.00  \n",
       "378660             524.0        2000.00  \n",
       "\n",
       "[378661 rows x 15 columns]"
      ]
     },
     "execution_count": 4,
     "metadata": {},
     "output_type": "execute_result"
    }
   ],
   "source": [
    "# データを確認する。\n",
    "df_ks"
   ]
  },
  {
   "cell_type": "markdown",
   "metadata": {},
   "source": [
    "変数の意味について確認する。現時点での直感もメモしておく。\n",
    "\n",
    "|columns|型|説明|直感メモ|\n",
    "|:-|:-:|:-|:-|\n",
    "|ID|整数|ID|意味はなさそう。|\n",
    "|name|文字列|クラウドファンディング名|長短や特定のワードが使えるか？|\n",
    "|category|文字列|カテゴリ|集まりやすいもの、集まりにくいものがありそう。|\n",
    "|main_category|文字列|大分類|集まりやすいもの、集まりにくいものがありそう。|\n",
    "|currency|文字列|通貨|クラウドファンディングという文化が盛んか否かを説明できるのでは？|\n",
    "|deadline|文字列(日付)|締め切り日|開始日と合わせれば使える？|\n",
    "|goal|実数|目標金額|大きいほど大変であると想像ができる。**通貨単位が異なる**|\n",
    "|launched|文字列(日付)|開始日|締め切り日と合わせれば使える？|\n",
    "|pledged|実数|集まった額？|**結果なので使えない**|\n",
    "|state|文字列|結果|**目的変数**|\n",
    "|backers|整数|支援者数|**結果なので使えない**|\n",
    "|country|文字列|地域|クラウドファンディング文化が影響するのでは。|\n",
    "|usd pledged|実数|ドル換算の支援額(by KS)|**結果**|\n",
    "|usd_pledged_real|実数|ドル換算の支援額(by fixer.io api)|**結果**|\n",
    "|usd_goal_real|実数|ドル換算の目標(by fixer.io api)|**通貨単位**が揃ったので、説明変数としてはgoalではなくこちらを使う。|"
   ]
  },
  {
   "cell_type": "markdown",
   "metadata": {},
   "source": [
    "### 説明変数のサンプルサイズ\n",
    "カテゴリ変数は後にダミー変数として置き換えるが、本データはカテゴリ変数が多いため全てを置き換えるのは面倒である。また、少ない標本数からの不確かな標本比率を用いて学習されるのは望ましくない。  \n",
    "そこで、有意なカテゴリとして考慮してよい最低のサンプル数について確認する。\n",
    "これに満たないカテゴリに関しては考慮しないこととする。(othersとする。)"
   ]
  },
  {
   "cell_type": "code",
   "execution_count": 5,
   "metadata": {
    "scrolled": true
   },
   "outputs": [
    {
     "data": {
      "text/plain": [
       "0.3537623362321443"
      ]
     },
     "execution_count": 5,
     "metadata": {},
     "output_type": "execute_result"
    }
   ],
   "source": [
    "# 全データのsuccessfulの割合\n",
    "df_ks[\"state\"].value_counts()[1] / len(df_ks)"
   ]
  },
  {
   "cell_type": "markdown",
   "metadata": {},
   "source": [
    "信頼区間は5%、信頼係数は95%、推定値を上記で求めた40%として求まるサンプル数は1475となる。参考：https://bellcurve.jp/statistics/course/9129.html  \n",
    "後にトレーニングデータ：テストデータ=7:3に分割する予定なので、最低のサンプル数は**2100**とすることとする。(1475/0.7=2107)"
   ]
  },
  {
   "cell_type": "markdown",
   "metadata": {},
   "source": [
    "## 2 前処理\n",
    "### 2.1 使えないデータの削除\n",
    "クラウドファンディングの開始時点でわからない、すなわち結果に相当するデータは予測には使えないため、削除する。"
   ]
  },
  {
   "cell_type": "code",
   "execution_count": 6,
   "metadata": {},
   "outputs": [],
   "source": [
    "df_ks = df_ks.drop(columns=['goal', 'pledged', 'backers', 'usd pledged', 'usd_pledged_real'])"
   ]
  },
  {
   "cell_type": "markdown",
   "metadata": {},
   "source": [
    "### 2.2 目的変数の加工\n",
    "目的変数(state)を成功(1)、失敗(0)に二値化する。また、成功および失敗以外のstateの取り扱いについて考える。"
   ]
  },
  {
   "cell_type": "code",
   "execution_count": 7,
   "metadata": {
    "scrolled": true
   },
   "outputs": [
    {
     "data": {
      "text/plain": [
       "failed        197719\n",
       "successful    133956\n",
       "canceled       38779\n",
       "undefined       3562\n",
       "live            2799\n",
       "suspended       1846\n",
       "Name: state, dtype: int64"
      ]
     },
     "execution_count": 7,
     "metadata": {},
     "output_type": "execute_result"
    }
   ],
   "source": [
    "# stateの確認\n",
    "df_ks[\"state\"].value_counts()"
   ]
  },
  {
   "cell_type": "code",
   "execution_count": 8,
   "metadata": {},
   "outputs": [
    {
     "data": {
      "text/plain": [
       "0.12408460337874774"
      ]
     },
     "execution_count": 8,
     "metadata": {},
     "output_type": "execute_result"
    }
   ],
   "source": [
    "# failed, successful以外の割合を計算\n",
    "np.sum(df_ks[\"state\"].value_counts()[2:]) / df_ks.shape[0]"
   ]
  },
  {
   "cell_type": "markdown",
   "metadata": {},
   "source": [
    "failedおよびsuccessful以外のデータは全体の12.4 %であった。少々もったいないが、failedまたはsuccessfulのどちらに入れてよいかもわからないので、削除することとする。"
   ]
  },
  {
   "cell_type": "code",
   "execution_count": 9,
   "metadata": {
    "scrolled": true
   },
   "outputs": [],
   "source": [
    "# 削除\n",
    "df_ks = df_ks[df_ks['state'] != 'canceled']\n",
    "df_ks = df_ks[df_ks['state'] != 'undefined']\n",
    "df_ks = df_ks[df_ks['state'] != 'live']\n",
    "df_ks = df_ks[df_ks['state'] != 'suspended'] # スマートな書き方がありましたらご教授ください。"
   ]
  },
  {
   "cell_type": "code",
   "execution_count": 10,
   "metadata": {},
   "outputs": [
    {
     "name": "stdout",
     "output_type": "stream",
     "text": [
      "<class 'pandas.core.frame.DataFrame'>\n",
      "Int64Index: 331675 entries, 0 to 378660\n",
      "Data columns (total 10 columns):\n",
      " #   Column         Non-Null Count   Dtype  \n",
      "---  ------         --------------   -----  \n",
      " 0   ID             331675 non-null  int64  \n",
      " 1   name           331672 non-null  object \n",
      " 2   category       331675 non-null  object \n",
      " 3   main_category  331675 non-null  object \n",
      " 4   currency       331675 non-null  object \n",
      " 5   deadline       331675 non-null  object \n",
      " 6   launched       331675 non-null  object \n",
      " 7   state          331675 non-null  bool   \n",
      " 8   country        331675 non-null  object \n",
      " 9   usd_goal_real  331675 non-null  float64\n",
      "dtypes: bool(1), float64(1), int64(1), object(7)\n",
      "memory usage: 25.6+ MB\n"
     ]
    }
   ],
   "source": [
    "# 二値化\n",
    "df_ks[\"state\"] = df_ks[\"state\"] == \"successful\" # successful=>True, failed=>False\n",
    "df_ks.info()"
   ]
  },
  {
   "cell_type": "code",
   "execution_count": 11,
   "metadata": {},
   "outputs": [
    {
     "data": {
      "text/html": [
       "<div>\n",
       "<style scoped>\n",
       "    .dataframe tbody tr th:only-of-type {\n",
       "        vertical-align: middle;\n",
       "    }\n",
       "\n",
       "    .dataframe tbody tr th {\n",
       "        vertical-align: top;\n",
       "    }\n",
       "\n",
       "    .dataframe thead th {\n",
       "        text-align: right;\n",
       "    }\n",
       "</style>\n",
       "<table border=\"1\" class=\"dataframe\">\n",
       "  <thead>\n",
       "    <tr style=\"text-align: right;\">\n",
       "      <th></th>\n",
       "      <th>ID</th>\n",
       "      <th>name</th>\n",
       "      <th>category</th>\n",
       "      <th>main_category</th>\n",
       "      <th>currency</th>\n",
       "      <th>deadline</th>\n",
       "      <th>launched</th>\n",
       "      <th>state</th>\n",
       "      <th>country</th>\n",
       "      <th>usd_goal_real</th>\n",
       "    </tr>\n",
       "  </thead>\n",
       "  <tbody>\n",
       "    <tr>\n",
       "      <th>0</th>\n",
       "      <td>1000002330</td>\n",
       "      <td>The Songs of Adelaide &amp; Abullah</td>\n",
       "      <td>Poetry</td>\n",
       "      <td>Publishing</td>\n",
       "      <td>GBP</td>\n",
       "      <td>2015-10-09</td>\n",
       "      <td>2015-08-11 12:12:28</td>\n",
       "      <td>False</td>\n",
       "      <td>GB</td>\n",
       "      <td>1533.95</td>\n",
       "    </tr>\n",
       "    <tr>\n",
       "      <th>1</th>\n",
       "      <td>1000003930</td>\n",
       "      <td>Greeting From Earth: ZGAC Arts Capsule For ET</td>\n",
       "      <td>Narrative Film</td>\n",
       "      <td>Film &amp; Video</td>\n",
       "      <td>USD</td>\n",
       "      <td>2017-11-01</td>\n",
       "      <td>2017-09-02 04:43:57</td>\n",
       "      <td>False</td>\n",
       "      <td>US</td>\n",
       "      <td>30000.00</td>\n",
       "    </tr>\n",
       "    <tr>\n",
       "      <th>2</th>\n",
       "      <td>1000004038</td>\n",
       "      <td>Where is Hank?</td>\n",
       "      <td>Narrative Film</td>\n",
       "      <td>Film &amp; Video</td>\n",
       "      <td>USD</td>\n",
       "      <td>2013-02-26</td>\n",
       "      <td>2013-01-12 00:20:50</td>\n",
       "      <td>False</td>\n",
       "      <td>US</td>\n",
       "      <td>45000.00</td>\n",
       "    </tr>\n",
       "    <tr>\n",
       "      <th>3</th>\n",
       "      <td>1000007540</td>\n",
       "      <td>ToshiCapital Rekordz Needs Help to Complete Album</td>\n",
       "      <td>Music</td>\n",
       "      <td>Music</td>\n",
       "      <td>USD</td>\n",
       "      <td>2012-04-16</td>\n",
       "      <td>2012-03-17 03:24:11</td>\n",
       "      <td>False</td>\n",
       "      <td>US</td>\n",
       "      <td>5000.00</td>\n",
       "    </tr>\n",
       "    <tr>\n",
       "      <th>5</th>\n",
       "      <td>1000014025</td>\n",
       "      <td>Monarch Espresso Bar</td>\n",
       "      <td>Restaurants</td>\n",
       "      <td>Food</td>\n",
       "      <td>USD</td>\n",
       "      <td>2016-04-01</td>\n",
       "      <td>2016-02-26 13:38:27</td>\n",
       "      <td>True</td>\n",
       "      <td>US</td>\n",
       "      <td>50000.00</td>\n",
       "    </tr>\n",
       "    <tr>\n",
       "      <th>...</th>\n",
       "      <td>...</td>\n",
       "      <td>...</td>\n",
       "      <td>...</td>\n",
       "      <td>...</td>\n",
       "      <td>...</td>\n",
       "      <td>...</td>\n",
       "      <td>...</td>\n",
       "      <td>...</td>\n",
       "      <td>...</td>\n",
       "      <td>...</td>\n",
       "    </tr>\n",
       "    <tr>\n",
       "      <th>378654</th>\n",
       "      <td>999975836</td>\n",
       "      <td>Homemade fresh dog food, Cleveland OH</td>\n",
       "      <td>Small Batch</td>\n",
       "      <td>Food</td>\n",
       "      <td>USD</td>\n",
       "      <td>2017-04-19</td>\n",
       "      <td>2017-03-20 22:08:22</td>\n",
       "      <td>False</td>\n",
       "      <td>US</td>\n",
       "      <td>6500.00</td>\n",
       "    </tr>\n",
       "    <tr>\n",
       "      <th>378657</th>\n",
       "      <td>999977640</td>\n",
       "      <td>The Tribe</td>\n",
       "      <td>Narrative Film</td>\n",
       "      <td>Film &amp; Video</td>\n",
       "      <td>USD</td>\n",
       "      <td>2011-07-19</td>\n",
       "      <td>2011-06-22 03:35:14</td>\n",
       "      <td>False</td>\n",
       "      <td>US</td>\n",
       "      <td>1500.00</td>\n",
       "    </tr>\n",
       "    <tr>\n",
       "      <th>378658</th>\n",
       "      <td>999986353</td>\n",
       "      <td>Walls of Remedy- New lesbian Romantic Comedy f...</td>\n",
       "      <td>Narrative Film</td>\n",
       "      <td>Film &amp; Video</td>\n",
       "      <td>USD</td>\n",
       "      <td>2010-08-16</td>\n",
       "      <td>2010-07-01 19:40:30</td>\n",
       "      <td>False</td>\n",
       "      <td>US</td>\n",
       "      <td>15000.00</td>\n",
       "    </tr>\n",
       "    <tr>\n",
       "      <th>378659</th>\n",
       "      <td>999987933</td>\n",
       "      <td>BioDefense Education Kit</td>\n",
       "      <td>Technology</td>\n",
       "      <td>Technology</td>\n",
       "      <td>USD</td>\n",
       "      <td>2016-02-13</td>\n",
       "      <td>2016-01-13 18:13:53</td>\n",
       "      <td>False</td>\n",
       "      <td>US</td>\n",
       "      <td>15000.00</td>\n",
       "    </tr>\n",
       "    <tr>\n",
       "      <th>378660</th>\n",
       "      <td>999988282</td>\n",
       "      <td>Nou Renmen Ayiti!  We Love Haiti!</td>\n",
       "      <td>Performance Art</td>\n",
       "      <td>Art</td>\n",
       "      <td>USD</td>\n",
       "      <td>2011-08-16</td>\n",
       "      <td>2011-07-19 09:07:47</td>\n",
       "      <td>False</td>\n",
       "      <td>US</td>\n",
       "      <td>2000.00</td>\n",
       "    </tr>\n",
       "  </tbody>\n",
       "</table>\n",
       "<p>331675 rows × 10 columns</p>\n",
       "</div>"
      ],
      "text/plain": [
       "                ID                                               name  \\\n",
       "0       1000002330                    The Songs of Adelaide & Abullah   \n",
       "1       1000003930      Greeting From Earth: ZGAC Arts Capsule For ET   \n",
       "2       1000004038                                     Where is Hank?   \n",
       "3       1000007540  ToshiCapital Rekordz Needs Help to Complete Album   \n",
       "5       1000014025                               Monarch Espresso Bar   \n",
       "...            ...                                                ...   \n",
       "378654   999975836              Homemade fresh dog food, Cleveland OH   \n",
       "378657   999977640                                          The Tribe   \n",
       "378658   999986353  Walls of Remedy- New lesbian Romantic Comedy f...   \n",
       "378659   999987933                           BioDefense Education Kit   \n",
       "378660   999988282                  Nou Renmen Ayiti!  We Love Haiti!   \n",
       "\n",
       "               category main_category currency    deadline  \\\n",
       "0                Poetry    Publishing      GBP  2015-10-09   \n",
       "1        Narrative Film  Film & Video      USD  2017-11-01   \n",
       "2        Narrative Film  Film & Video      USD  2013-02-26   \n",
       "3                 Music         Music      USD  2012-04-16   \n",
       "5           Restaurants          Food      USD  2016-04-01   \n",
       "...                 ...           ...      ...         ...   \n",
       "378654      Small Batch          Food      USD  2017-04-19   \n",
       "378657   Narrative Film  Film & Video      USD  2011-07-19   \n",
       "378658   Narrative Film  Film & Video      USD  2010-08-16   \n",
       "378659       Technology    Technology      USD  2016-02-13   \n",
       "378660  Performance Art           Art      USD  2011-08-16   \n",
       "\n",
       "                   launched  state country  usd_goal_real  \n",
       "0       2015-08-11 12:12:28  False      GB        1533.95  \n",
       "1       2017-09-02 04:43:57  False      US       30000.00  \n",
       "2       2013-01-12 00:20:50  False      US       45000.00  \n",
       "3       2012-03-17 03:24:11  False      US        5000.00  \n",
       "5       2016-02-26 13:38:27   True      US       50000.00  \n",
       "...                     ...    ...     ...            ...  \n",
       "378654  2017-03-20 22:08:22  False      US        6500.00  \n",
       "378657  2011-06-22 03:35:14  False      US        1500.00  \n",
       "378658  2010-07-01 19:40:30  False      US       15000.00  \n",
       "378659  2016-01-13 18:13:53  False      US       15000.00  \n",
       "378660  2011-07-19 09:07:47  False      US        2000.00  \n",
       "\n",
       "[331675 rows x 10 columns]"
      ]
     },
     "execution_count": 11,
     "metadata": {},
     "output_type": "execute_result"
    }
   ],
   "source": [
    "df_ks"
   ]
  },
  {
   "cell_type": "markdown",
   "metadata": {},
   "source": [
    "### 2.3 欠損値の確認"
   ]
  },
  {
   "cell_type": "code",
   "execution_count": 12,
   "metadata": {
    "scrolled": false
   },
   "outputs": [
    {
     "data": {
      "text/plain": [
       "ID               0\n",
       "name             3\n",
       "category         0\n",
       "main_category    0\n",
       "currency         0\n",
       "deadline         0\n",
       "launched         0\n",
       "state            0\n",
       "country          0\n",
       "usd_goal_real    0\n",
       "dtype: int64"
      ]
     },
     "execution_count": 12,
     "metadata": {},
     "output_type": "execute_result"
    }
   ],
   "source": [
    "df_ks.isnull().sum()"
   ]
  },
  {
   "cell_type": "markdown",
   "metadata": {},
   "source": [
    "欠損値は3つのみであるから、名無しのデータは削除することにした。"
   ]
  },
  {
   "cell_type": "code",
   "execution_count": 13,
   "metadata": {},
   "outputs": [],
   "source": [
    "df_ks = df_ks.dropna()"
   ]
  },
  {
   "cell_type": "markdown",
   "metadata": {},
   "source": [
    "## 3 可視化\n",
    "データを可視化し、説明変数と目的変数の関係について考察する。"
   ]
  },
  {
   "cell_type": "markdown",
   "metadata": {},
   "source": [
    "## 3.1 地域\n",
    "地域ごとに違いがあるか検討する。"
   ]
  },
  {
   "cell_type": "code",
   "execution_count": 14,
   "metadata": {
    "scrolled": true
   },
   "outputs": [
    {
     "data": {
      "text/html": [
       "<div>\n",
       "<style scoped>\n",
       "    .dataframe tbody tr th:only-of-type {\n",
       "        vertical-align: middle;\n",
       "    }\n",
       "\n",
       "    .dataframe tbody tr th {\n",
       "        vertical-align: top;\n",
       "    }\n",
       "\n",
       "    .dataframe thead th {\n",
       "        text-align: right;\n",
       "    }\n",
       "</style>\n",
       "<table border=\"1\" class=\"dataframe\">\n",
       "  <thead>\n",
       "    <tr style=\"text-align: right;\">\n",
       "      <th></th>\n",
       "      <th>ID</th>\n",
       "      <th>name</th>\n",
       "      <th>category</th>\n",
       "      <th>main_category</th>\n",
       "      <th>currency</th>\n",
       "      <th>deadline</th>\n",
       "      <th>launched</th>\n",
       "      <th>state</th>\n",
       "      <th>country</th>\n",
       "      <th>usd_goal_real</th>\n",
       "    </tr>\n",
       "  </thead>\n",
       "  <tbody>\n",
       "    <tr>\n",
       "      <th>0</th>\n",
       "      <td>1000002330</td>\n",
       "      <td>The Songs of Adelaide &amp; Abullah</td>\n",
       "      <td>Poetry</td>\n",
       "      <td>Publishing</td>\n",
       "      <td>GBP</td>\n",
       "      <td>2015-10-09</td>\n",
       "      <td>2015-08-11 12:12:28</td>\n",
       "      <td>False</td>\n",
       "      <td>GB</td>\n",
       "      <td>1533.95</td>\n",
       "    </tr>\n",
       "    <tr>\n",
       "      <th>1</th>\n",
       "      <td>1000003930</td>\n",
       "      <td>Greeting From Earth: ZGAC Arts Capsule For ET</td>\n",
       "      <td>Narrative Film</td>\n",
       "      <td>Film &amp; Video</td>\n",
       "      <td>USD</td>\n",
       "      <td>2017-11-01</td>\n",
       "      <td>2017-09-02 04:43:57</td>\n",
       "      <td>False</td>\n",
       "      <td>US</td>\n",
       "      <td>30000.00</td>\n",
       "    </tr>\n",
       "    <tr>\n",
       "      <th>2</th>\n",
       "      <td>1000004038</td>\n",
       "      <td>Where is Hank?</td>\n",
       "      <td>Narrative Film</td>\n",
       "      <td>Film &amp; Video</td>\n",
       "      <td>USD</td>\n",
       "      <td>2013-02-26</td>\n",
       "      <td>2013-01-12 00:20:50</td>\n",
       "      <td>False</td>\n",
       "      <td>US</td>\n",
       "      <td>45000.00</td>\n",
       "    </tr>\n",
       "    <tr>\n",
       "      <th>3</th>\n",
       "      <td>1000007540</td>\n",
       "      <td>ToshiCapital Rekordz Needs Help to Complete Album</td>\n",
       "      <td>Music</td>\n",
       "      <td>Music</td>\n",
       "      <td>USD</td>\n",
       "      <td>2012-04-16</td>\n",
       "      <td>2012-03-17 03:24:11</td>\n",
       "      <td>False</td>\n",
       "      <td>US</td>\n",
       "      <td>5000.00</td>\n",
       "    </tr>\n",
       "    <tr>\n",
       "      <th>5</th>\n",
       "      <td>1000014025</td>\n",
       "      <td>Monarch Espresso Bar</td>\n",
       "      <td>Restaurants</td>\n",
       "      <td>Food</td>\n",
       "      <td>USD</td>\n",
       "      <td>2016-04-01</td>\n",
       "      <td>2016-02-26 13:38:27</td>\n",
       "      <td>True</td>\n",
       "      <td>US</td>\n",
       "      <td>50000.00</td>\n",
       "    </tr>\n",
       "    <tr>\n",
       "      <th>...</th>\n",
       "      <td>...</td>\n",
       "      <td>...</td>\n",
       "      <td>...</td>\n",
       "      <td>...</td>\n",
       "      <td>...</td>\n",
       "      <td>...</td>\n",
       "      <td>...</td>\n",
       "      <td>...</td>\n",
       "      <td>...</td>\n",
       "      <td>...</td>\n",
       "    </tr>\n",
       "    <tr>\n",
       "      <th>378654</th>\n",
       "      <td>999975836</td>\n",
       "      <td>Homemade fresh dog food, Cleveland OH</td>\n",
       "      <td>Small Batch</td>\n",
       "      <td>Food</td>\n",
       "      <td>USD</td>\n",
       "      <td>2017-04-19</td>\n",
       "      <td>2017-03-20 22:08:22</td>\n",
       "      <td>False</td>\n",
       "      <td>US</td>\n",
       "      <td>6500.00</td>\n",
       "    </tr>\n",
       "    <tr>\n",
       "      <th>378657</th>\n",
       "      <td>999977640</td>\n",
       "      <td>The Tribe</td>\n",
       "      <td>Narrative Film</td>\n",
       "      <td>Film &amp; Video</td>\n",
       "      <td>USD</td>\n",
       "      <td>2011-07-19</td>\n",
       "      <td>2011-06-22 03:35:14</td>\n",
       "      <td>False</td>\n",
       "      <td>US</td>\n",
       "      <td>1500.00</td>\n",
       "    </tr>\n",
       "    <tr>\n",
       "      <th>378658</th>\n",
       "      <td>999986353</td>\n",
       "      <td>Walls of Remedy- New lesbian Romantic Comedy f...</td>\n",
       "      <td>Narrative Film</td>\n",
       "      <td>Film &amp; Video</td>\n",
       "      <td>USD</td>\n",
       "      <td>2010-08-16</td>\n",
       "      <td>2010-07-01 19:40:30</td>\n",
       "      <td>False</td>\n",
       "      <td>US</td>\n",
       "      <td>15000.00</td>\n",
       "    </tr>\n",
       "    <tr>\n",
       "      <th>378659</th>\n",
       "      <td>999987933</td>\n",
       "      <td>BioDefense Education Kit</td>\n",
       "      <td>Technology</td>\n",
       "      <td>Technology</td>\n",
       "      <td>USD</td>\n",
       "      <td>2016-02-13</td>\n",
       "      <td>2016-01-13 18:13:53</td>\n",
       "      <td>False</td>\n",
       "      <td>US</td>\n",
       "      <td>15000.00</td>\n",
       "    </tr>\n",
       "    <tr>\n",
       "      <th>378660</th>\n",
       "      <td>999988282</td>\n",
       "      <td>Nou Renmen Ayiti!  We Love Haiti!</td>\n",
       "      <td>Performance Art</td>\n",
       "      <td>Art</td>\n",
       "      <td>USD</td>\n",
       "      <td>2011-08-16</td>\n",
       "      <td>2011-07-19 09:07:47</td>\n",
       "      <td>False</td>\n",
       "      <td>US</td>\n",
       "      <td>2000.00</td>\n",
       "    </tr>\n",
       "  </tbody>\n",
       "</table>\n",
       "<p>331672 rows × 10 columns</p>\n",
       "</div>"
      ],
      "text/plain": [
       "                ID                                               name  \\\n",
       "0       1000002330                    The Songs of Adelaide & Abullah   \n",
       "1       1000003930      Greeting From Earth: ZGAC Arts Capsule For ET   \n",
       "2       1000004038                                     Where is Hank?   \n",
       "3       1000007540  ToshiCapital Rekordz Needs Help to Complete Album   \n",
       "5       1000014025                               Monarch Espresso Bar   \n",
       "...            ...                                                ...   \n",
       "378654   999975836              Homemade fresh dog food, Cleveland OH   \n",
       "378657   999977640                                          The Tribe   \n",
       "378658   999986353  Walls of Remedy- New lesbian Romantic Comedy f...   \n",
       "378659   999987933                           BioDefense Education Kit   \n",
       "378660   999988282                  Nou Renmen Ayiti!  We Love Haiti!   \n",
       "\n",
       "               category main_category currency    deadline  \\\n",
       "0                Poetry    Publishing      GBP  2015-10-09   \n",
       "1        Narrative Film  Film & Video      USD  2017-11-01   \n",
       "2        Narrative Film  Film & Video      USD  2013-02-26   \n",
       "3                 Music         Music      USD  2012-04-16   \n",
       "5           Restaurants          Food      USD  2016-04-01   \n",
       "...                 ...           ...      ...         ...   \n",
       "378654      Small Batch          Food      USD  2017-04-19   \n",
       "378657   Narrative Film  Film & Video      USD  2011-07-19   \n",
       "378658   Narrative Film  Film & Video      USD  2010-08-16   \n",
       "378659       Technology    Technology      USD  2016-02-13   \n",
       "378660  Performance Art           Art      USD  2011-08-16   \n",
       "\n",
       "                   launched  state country  usd_goal_real  \n",
       "0       2015-08-11 12:12:28  False      GB        1533.95  \n",
       "1       2017-09-02 04:43:57  False      US       30000.00  \n",
       "2       2013-01-12 00:20:50  False      US       45000.00  \n",
       "3       2012-03-17 03:24:11  False      US        5000.00  \n",
       "5       2016-02-26 13:38:27   True      US       50000.00  \n",
       "...                     ...    ...     ...            ...  \n",
       "378654  2017-03-20 22:08:22  False      US        6500.00  \n",
       "378657  2011-06-22 03:35:14  False      US        1500.00  \n",
       "378658  2010-07-01 19:40:30  False      US       15000.00  \n",
       "378659  2016-01-13 18:13:53  False      US       15000.00  \n",
       "378660  2011-07-19 09:07:47  False      US        2000.00  \n",
       "\n",
       "[331672 rows x 10 columns]"
      ]
     },
     "execution_count": 14,
     "metadata": {},
     "output_type": "execute_result"
    }
   ],
   "source": [
    "df_ks"
   ]
  },
  {
   "cell_type": "code",
   "execution_count": 15,
   "metadata": {
    "scrolled": false
   },
   "outputs": [
    {
     "data": {
      "text/plain": [
       "US      261358\n",
       "GB       29453\n",
       "CA       12370\n",
       "AU        6616\n",
       "DE        3436\n",
       "FR        2520\n",
       "NL        2411\n",
       "IT        2369\n",
       "ES        1873\n",
       "SE        1509\n",
       "MX        1411\n",
       "NZ        1274\n",
       "DK         926\n",
       "IE         683\n",
       "CH         652\n",
       "NO         582\n",
       "BE         523\n",
       "AT         485\n",
       "HK         477\n",
       "SG         454\n",
       "N,0\"       210\n",
       "LU          57\n",
       "JP          23\n",
       "Name: country, dtype: int64"
      ]
     },
     "execution_count": 15,
     "metadata": {},
     "output_type": "execute_result"
    }
   ],
   "source": [
    "df_ks[\"country\"].value_counts()"
   ]
  },
  {
   "cell_type": "code",
   "execution_count": 16,
   "metadata": {
    "scrolled": false
   },
   "outputs": [
    {
     "name": "stderr",
     "output_type": "stream",
     "text": [
      "D:\\programs\\Anaconda3\\lib\\site-packages\\ipykernel_launcher.py:7: SettingWithCopyWarning: \n",
      "A value is trying to be set on a copy of a slice from a DataFrame.\n",
      "Try using .loc[row_indexer,col_indexer] = value instead\n",
      "\n",
      "See the caveats in the documentation: https://pandas.pydata.org/pandas-docs/stable/user_guide/indexing.html#returning-a-view-versus-a-copy\n",
      "  import sys\n"
     ]
    }
   ],
   "source": [
    "# 2100以上のデータがあるcountryのみ利用\n",
    "# データ数が2100以上のカテゴリを抜き出す\n",
    "df_country = pd.DataFrame() # 空のdataframe\n",
    "for index, value in df_ks['country'].value_counts().iteritems():\n",
    "    if value < 2100:\n",
    "        df_tmp = df_ks[(df_ks[\"country\"]==index)]\n",
    "        df_tmp[\"country\"] = \"others\"\n",
    "        df_country = pd.concat([df_country, df_tmp])\n",
    "        continue\n",
    "    df_country = pd.concat([df_country, df_ks[(df_ks[\"country\"]==index)]])"
   ]
  },
  {
   "cell_type": "code",
   "execution_count": 17,
   "metadata": {},
   "outputs": [
    {
     "data": {
      "image/png": "[encoded data removed]",
      "text/plain": [
       "<Figure size 432x288 with 1 Axes>"
      ]
     },
     "metadata": {
      "needs_background": "light"
     },
     "output_type": "display_data"
    }
   ],
   "source": [
    "country_state = pd.crosstab(df_country[\"country\"], df_country[\"state\"], normalize=\"index\")\n",
    "country_state.plot.bar(stacked=True)\n",
    "plt.show()"
   ]
  },
  {
   "cell_type": "markdown",
   "metadata": {},
   "source": [
    "地域ごとに違いが見られたため、説明変数として使えると考えられる。  \n",
    "成功率の高かった上位2か国であるアメリカおよびイギリスはデータ数も多い。"
   ]
  },
  {
   "cell_type": "markdown",
   "metadata": {},
   "source": [
    "### 通貨\n",
    "最初に通貨を「クラウドファンディング文化が盛んか否かを説明する変数として使えそう」と予想したが、地域とどちらかでも良い気がするので確認する。"
   ]
  },
  {
   "cell_type": "code",
   "execution_count": 18,
   "metadata": {},
   "outputs": [
    {
     "data": {
      "image/png": "[encoded data removed]",
      "text/plain": [
       "<Figure size 432x288 with 1 Axes>"
      ]
     },
     "metadata": {
      "needs_background": "light"
     },
     "output_type": "display_data"
    }
   ],
   "source": [
    "country_currency = pd.crosstab(df_country.loc[df_country[\"country\"]!=\"others\", \"country\"], df_country[\"currency\"], normalize=\"index\")\n",
    "country_currency.plot.bar(stacked=True)\n",
    "plt.show()"
   ]
  },
  {
   "cell_type": "markdown",
   "metadata": {},
   "source": [
    "国ごとの通貨がほぼ100%であり、予想通りであった。  \n",
    "地域と通貨のどちらか1方で良いと考えられるが、情報量の多い**地域(country)を採用**することとする。"
   ]
  },
  {
   "cell_type": "markdown",
   "metadata": {},
   "source": [
    "**メモ**  \n",
    "このcountryとcurrencyのように説明変数間で相関係数が高い場合「多重共線性」が引き起こされる可能性が高いと考えられる。"
   ]
  },
  {
   "cell_type": "markdown",
   "metadata": {},
   "source": [
    "## 3.2 カテゴリ\n",
    "### メインカテゴリ\n",
    "集まりやすいカテゴリ、集まりにくいカテゴリが存在すると予想されるので可視化する。"
   ]
  },
  {
   "cell_type": "code",
   "execution_count": 19,
   "metadata": {},
   "outputs": [
    {
     "data": {
      "text/plain": [
       "Film & Video    56526\n",
       "Music           45949\n",
       "Publishing      35445\n",
       "Games           28520\n",
       "Technology      27050\n",
       "Art             25640\n",
       "Design          25364\n",
       "Food            22054\n",
       "Fashion         19775\n",
       "Theater         10242\n",
       "Comics           9878\n",
       "Photography      9689\n",
       "Crafts           7818\n",
       "Journalism       4149\n",
       "Dance            3573\n",
       "Name: main_category, dtype: int64"
      ]
     },
     "execution_count": 19,
     "metadata": {},
     "output_type": "execute_result"
    }
   ],
   "source": [
    "df_ks[\"main_category\"].value_counts()"
   ]
  },
  {
   "cell_type": "code",
   "execution_count": 20,
   "metadata": {},
   "outputs": [
    {
     "data": {
      "image/png": "[encoded data removed]",
      "text/plain": [
       "<Figure size 432x288 with 1 Axes>"
      ]
     },
     "metadata": {
      "needs_background": "light"
     },
     "output_type": "display_data"
    }
   ],
   "source": [
    "# 全カテゴリで2100以上だったのでそのまま使う\n",
    "maincategory_state = pd.crosstab(df_ks[\"main_category\"], df_ks[\"state\"], normalize=\"index\")\n",
    "maincategory_state.plot.bar(stacked=True)\n",
    "plt.show()"
   ]
  },
  {
   "cell_type": "markdown",
   "metadata": {},
   "source": [
    "メインカテゴリごとに成功率が大きく異なることから、説明変数として有用であると予想される。"
   ]
  },
  {
   "cell_type": "markdown",
   "metadata": {},
   "source": [
    "### カテゴリ\n",
    "同様に集まりやすいカテゴリ、集まりにくいカテゴリが存在すると考えられる。"
   ]
  },
  {
   "cell_type": "code",
   "execution_count": 21,
   "metadata": {
    "scrolled": true
   },
   "outputs": [
    {
     "data": {
      "text/plain": [
       "Product Design     18680\n",
       "Documentary        14523\n",
       "Music              12633\n",
       "Tabletop Games     11744\n",
       "Shorts             11394\n",
       "                   ...  \n",
       "Residencies           68\n",
       "Letterpress           46\n",
       "Chiptune              33\n",
       "Literary Spaces       19\n",
       "Taxidermy             10\n",
       "Name: category, Length: 159, dtype: int64"
      ]
     },
     "execution_count": 21,
     "metadata": {},
     "output_type": "execute_result"
    }
   ],
   "source": [
    "df_ks[\"category\"].value_counts()"
   ]
  },
  {
   "cell_type": "code",
   "execution_count": 22,
   "metadata": {},
   "outputs": [
    {
     "name": "stderr",
     "output_type": "stream",
     "text": [
      "D:\\programs\\Anaconda3\\lib\\site-packages\\ipykernel_launcher.py:6: SettingWithCopyWarning: \n",
      "A value is trying to be set on a copy of a slice from a DataFrame.\n",
      "Try using .loc[row_indexer,col_indexer] = value instead\n",
      "\n",
      "See the caveats in the documentation: https://pandas.pydata.org/pandas-docs/stable/user_guide/indexing.html#returning-a-view-versus-a-copy\n",
      "  \n"
     ]
    }
   ],
   "source": [
    "# データ数が2100以上のカテゴリを抜き出す\n",
    "df_category = pd.DataFrame() # 空のdataframe\n",
    "for index, value in df_ks['category'].value_counts().iteritems():\n",
    "    if value < 2100:\n",
    "        df_tmp = df_ks[(df_ks[\"category\"]==index)]\n",
    "        df_tmp[\"category\"] = \"others\"\n",
    "        df_category = pd.concat([df_category, df_tmp])\n",
    "        continue\n",
    "    df_category = pd.concat([df_category, df_ks[(df_ks[\"category\"]==index)]])"
   ]
  },
  {
   "cell_type": "code",
   "execution_count": 23,
   "metadata": {},
   "outputs": [
    {
     "data": {
      "image/png": "[encoded data removed]",
      "text/plain": [
       "<Figure size 432x288 with 1 Axes>"
      ]
     },
     "metadata": {
      "needs_background": "light"
     },
     "output_type": "display_data"
    }
   ],
   "source": [
    "category_state = pd.crosstab(df_category[\"category\"], df_category[\"state\"], normalize=\"index\")\n",
    "category_state.plot.bar(stacked=True)\n",
    "plt.show()"
   ]
  },
  {
   "cell_type": "markdown",
   "metadata": {},
   "source": [
    "極端に成功率が高いカテゴリまたは低いカテゴリが存在することから、説明変数として有用であると予想する。"
   ]
  },
  {
   "cell_type": "markdown",
   "metadata": {},
   "source": [
    "## 3.3 目標金額\n",
    "通貨単位がバラバラな\"goal\"ではなく、ドル換算された\"usd_goal_real\"を使用する。"
   ]
  },
  {
   "cell_type": "code",
   "execution_count": 24,
   "metadata": {},
   "outputs": [
    {
     "data": {
      "image/png": "[encoded data removed]",
      "text/plain": [
       "<Figure size 432x288 with 1 Axes>"
      ]
     },
     "metadata": {
      "needs_background": "light"
     },
     "output_type": "display_data"
    }
   ],
   "source": [
    "# 箱ひげ図\n",
    "plt.boxplot(df_ks[\"usd_goal_real\"])\n",
    "plt.show()"
   ]
  },
  {
   "cell_type": "markdown",
   "metadata": {},
   "source": [
    "数オーダー大きい値がいくつかあるため、箱が見えなくなっている。"
   ]
  },
  {
   "cell_type": "code",
   "execution_count": 25,
   "metadata": {
    "scrolled": true
   },
   "outputs": [
    {
     "data": {
      "text/plain": [
       "count    3.316720e+05\n",
       "mean     4.150966e+04\n",
       "std      1.108935e+06\n",
       "min      1.000000e-02\n",
       "25%      2.000000e+03\n",
       "50%      5.000000e+03\n",
       "75%      1.500000e+04\n",
       "max      1.663614e+08\n",
       "Name: usd_goal_real, dtype: float64"
      ]
     },
     "execution_count": 25,
     "metadata": {},
     "output_type": "execute_result"
    }
   ],
   "source": [
    "df_ks.loc[:,\"usd_goal_real\"].describe()"
   ]
  },
  {
   "cell_type": "markdown",
   "metadata": {},
   "source": [
    "オーダーごとにカテゴライズすることを考える。"
   ]
  },
  {
   "cell_type": "code",
   "execution_count": 26,
   "metadata": {
    "scrolled": true
   },
   "outputs": [
    {
     "data": {
      "image/png": "[encoded data removed]",
      "text/plain": [
       "<Figure size 432x288 with 1 Axes>"
      ]
     },
     "metadata": {
      "needs_background": "light"
     },
     "output_type": "display_data"
    }
   ],
   "source": [
    "plt.hist(df_ks[\"usd_goal_real\"], bins=np.logspace(1, 8, 8))\n",
    "plt.gca().set_xscale(\"log\")\n",
    "plt.show()"
   ]
  },
  {
   "cell_type": "markdown",
   "metadata": {},
   "source": [
    "100ドル以下と1000,000ドル以上は値が少ないので、まとめてカテゴライズする。"
   ]
  },
  {
   "cell_type": "code",
   "execution_count": 27,
   "metadata": {},
   "outputs": [],
   "source": [
    "# usd_goal_realのオーダーと成功/失敗のみのデータフレームを作成する。\n",
    "df_goal_band = pd.DataFrame() # 空のdataframe\n",
    "df_goal_band[\"state\"] = df_ks[\"state\"]\n",
    "df_goal_band[\"goal_band\"] = pd.cut(df_ks[\"usd_goal_real\"], [0, 1e2, 1e3, 1e4, 1e5, 1e6, 1e7, 1e9],\\\n",
    "    labels=[\"~10^2\", \"10^2-\", \"10^3-\", \"10^4-\", \"10^5-\", \"10^6-\", \"10^7~\"])"
   ]
  },
  {
   "cell_type": "code",
   "execution_count": 28,
   "metadata": {
    "scrolled": true
   },
   "outputs": [
    {
     "data": {
      "image/png": "[encoded data removed]",
      "text/plain": [
       "<Figure size 432x288 with 1 Axes>"
      ]
     },
     "metadata": {
      "needs_background": "light"
     },
     "output_type": "display_data"
    }
   ],
   "source": [
    "# 可視化\n",
    "goalband_state = pd.crosstab(df_goal_band[\"goal_band\"], df_ks[\"state\"], normalize=\"index\")\n",
    "goalband_state.plot.bar(stacked=True)\n",
    "plt.show()"
   ]
  },
  {
   "cell_type": "markdown",
   "metadata": {},
   "source": [
    "目標金額のオーダーごとに特徴が見出せたと考えられる。"
   ]
  },
  {
   "cell_type": "markdown",
   "metadata": {},
   "source": [
    "## 4 機械学習モデルの構築\n",
    "ここまでの検討を踏まえ、ロジスティック回帰を用いて説明変数を地域(country)、メインカテゴリ(main_category)、カテゴリ(category)および目標金額(usd_goal_real)とし、説明変数を結果(state)とするモデルを構築する。"
   ]
  },
  {
   "cell_type": "markdown",
   "metadata": {},
   "source": [
    "## 4.1 データの準備"
   ]
  },
  {
   "cell_type": "code",
   "execution_count": 29,
   "metadata": {},
   "outputs": [],
   "source": [
    "df_ML = pd.DataFrame() # 煩雑になってきたので、使うものだけここに入れる。\n",
    "df_ML[\"state\"] = df_ks[\"state\"]"
   ]
  },
  {
   "cell_type": "markdown",
   "metadata": {},
   "source": [
    "### ダミー変数への変換\n",
    "地域、メインカテゴリおよびカテゴリは質的変数であるから、ダミー変数への変換を行う。"
   ]
  },
  {
   "cell_type": "code",
   "execution_count": 30,
   "metadata": {},
   "outputs": [],
   "source": [
    "# 地域\n",
    "df_ML = pd.concat([df_ML, pd.get_dummies(df_country[\"country\"], sparse=True)], axis=1)\n",
    "# sparse: メモリの削減\n",
    "df_ML = df_ML.drop(columns=\"others\") # 全て0ならothers"
   ]
  },
  {
   "cell_type": "code",
   "execution_count": 31,
   "metadata": {
    "scrolled": false
   },
   "outputs": [
    {
     "name": "stdout",
     "output_type": "stream",
     "text": [
      "        state  AU  CA  DE  FR  GB  IT  NL  US\n",
      "0       False   0   0   0   0   1   0   0   0\n",
      "1       False   0   0   0   0   0   0   0   1\n",
      "2       False   0   0   0   0   0   0   0   1\n",
      "3       False   0   0   0   0   0   0   0   1\n",
      "5        True   0   0   0   0   0   0   0   1\n",
      "...       ...  ..  ..  ..  ..  ..  ..  ..  ..\n",
      "378654  False   0   0   0   0   0   0   0   1\n",
      "378657  False   0   0   0   0   0   0   0   1\n",
      "378658  False   0   0   0   0   0   0   0   1\n",
      "378659  False   0   0   0   0   0   0   0   1\n",
      "378660  False   0   0   0   0   0   0   0   1\n",
      "\n",
      "[331672 rows x 9 columns]\n"
     ]
    }
   ],
   "source": [
    "print(df_ML) # 全て0ならothers"
   ]
  },
  {
   "cell_type": "code",
   "execution_count": 32,
   "metadata": {},
   "outputs": [],
   "source": [
    "# メインカテゴリ\n",
    "df_ML = pd.concat([df_ML, pd.get_dummies(df_ks[\"main_category\"], prefix=\"main_category\", sparse=True)], axis=1)\n",
    "df_ML = df_ML.drop(columns=\"main_category_Theater\") # 全て0ならTheater"
   ]
  },
  {
   "cell_type": "code",
   "execution_count": 33,
   "metadata": {},
   "outputs": [],
   "source": [
    "# カテゴリ\n",
    "df_ML = pd.concat([df_ML, pd.get_dummies(df_category[\"category\"], prefix=\"category\", sparse=True)], axis=1)\n",
    "df_ML = df_ML.drop(columns=\"category_others\") # 全て0ならothers"
   ]
  },
  {
   "cell_type": "markdown",
   "metadata": {},
   "source": [
    "### 数値データのカテゴライズ\n",
    "目標金額(usd_goal_real)をカテゴライズする。  "
   ]
  },
  {
   "cell_type": "markdown",
   "metadata": {},
   "source": [
    "|金額|～10^2|10^2-|10^3-|10^4-|10^5-|10^6-|10^7～|\n",
    "|---|---|---|---|---|---|---|---|\n",
    "|goal_band|1|2|3|4|5|6|7|"
   ]
  },
  {
   "cell_type": "code",
   "execution_count": 34,
   "metadata": {},
   "outputs": [],
   "source": [
    "df_ML[\"goal_band\"] = pd.cut(df_ks[\"usd_goal_real\"], [0, 1e2, 1e3, 1e4, 1e5, 1e6, 1e7, 1e9], labels=range(1,8))"
   ]
  },
  {
   "cell_type": "code",
   "execution_count": 35,
   "metadata": {
    "scrolled": true
   },
   "outputs": [
    {
     "name": "stdout",
     "output_type": "stream",
     "text": [
      "<class 'pandas.core.frame.DataFrame'>\n",
      "Int64Index: 331672 entries, 0 to 378660\n",
      "Data columns (total 70 columns):\n",
      " #   Column                      Non-Null Count   Dtype           \n",
      "---  ------                      --------------   -----           \n",
      " 0   state                       331672 non-null  bool            \n",
      " 1   AU                          331672 non-null  Sparse[int32, 0]\n",
      " 2   CA                          331672 non-null  Sparse[int32, 0]\n",
      " 3   DE                          331672 non-null  Sparse[int32, 0]\n",
      " 4   FR                          331672 non-null  Sparse[int32, 0]\n",
      " 5   GB                          331672 non-null  Sparse[int32, 0]\n",
      " 6   IT                          331672 non-null  Sparse[int32, 0]\n",
      " 7   NL                          331672 non-null  Sparse[int32, 0]\n",
      " 8   US                          331672 non-null  Sparse[int32, 0]\n",
      " 9   main_category_Art           331672 non-null  Sparse[uint8, 0]\n",
      " 10  main_category_Comics        331672 non-null  Sparse[uint8, 0]\n",
      " 11  main_category_Crafts        331672 non-null  Sparse[uint8, 0]\n",
      " 12  main_category_Dance         331672 non-null  Sparse[uint8, 0]\n",
      " 13  main_category_Design        331672 non-null  Sparse[uint8, 0]\n",
      " 14  main_category_Fashion       331672 non-null  Sparse[uint8, 0]\n",
      " 15  main_category_Film & Video  331672 non-null  Sparse[uint8, 0]\n",
      " 16  main_category_Food          331672 non-null  Sparse[uint8, 0]\n",
      " 17  main_category_Games         331672 non-null  Sparse[uint8, 0]\n",
      " 18  main_category_Journalism    331672 non-null  Sparse[uint8, 0]\n",
      " 19  main_category_Music         331672 non-null  Sparse[uint8, 0]\n",
      " 20  main_category_Photography   331672 non-null  Sparse[uint8, 0]\n",
      " 21  main_category_Publishing    331672 non-null  Sparse[uint8, 0]\n",
      " 22  main_category_Technology    331672 non-null  Sparse[uint8, 0]\n",
      " 23  category_Accessories        331672 non-null  Sparse[int32, 0]\n",
      " 24  category_Animation          331672 non-null  Sparse[int32, 0]\n",
      " 25  category_Apparel            331672 non-null  Sparse[int32, 0]\n",
      " 26  category_Apps               331672 non-null  Sparse[int32, 0]\n",
      " 27  category_Art                331672 non-null  Sparse[int32, 0]\n",
      " 28  category_Art Books          331672 non-null  Sparse[int32, 0]\n",
      " 29  category_Children's Books   331672 non-null  Sparse[int32, 0]\n",
      " 30  category_Classical Music    331672 non-null  Sparse[int32, 0]\n",
      " 31  category_Comic Books        331672 non-null  Sparse[int32, 0]\n",
      " 32  category_Comics             331672 non-null  Sparse[int32, 0]\n",
      " 33  category_Country & Folk     331672 non-null  Sparse[int32, 0]\n",
      " 34  category_Crafts             331672 non-null  Sparse[int32, 0]\n",
      " 35  category_Dance              331672 non-null  Sparse[int32, 0]\n",
      " 36  category_Design             331672 non-null  Sparse[int32, 0]\n",
      " 37  category_Documentary        331672 non-null  Sparse[int32, 0]\n",
      " 38  category_Drinks             331672 non-null  Sparse[int32, 0]\n",
      " 39  category_Fashion            331672 non-null  Sparse[int32, 0]\n",
      " 40  category_Fiction            331672 non-null  Sparse[int32, 0]\n",
      " 41  category_Film & Video       331672 non-null  Sparse[int32, 0]\n",
      " 42  category_Food               331672 non-null  Sparse[int32, 0]\n",
      " 43  category_Gadgets            331672 non-null  Sparse[int32, 0]\n",
      " 44  category_Games              331672 non-null  Sparse[int32, 0]\n",
      " 45  category_Hardware           331672 non-null  Sparse[int32, 0]\n",
      " 46  category_Hip-Hop            331672 non-null  Sparse[int32, 0]\n",
      " 47  category_Illustration       331672 non-null  Sparse[int32, 0]\n",
      " 48  category_Indie Rock         331672 non-null  Sparse[int32, 0]\n",
      " 49  category_Mixed Media        331672 non-null  Sparse[int32, 0]\n",
      " 50  category_Music              331672 non-null  Sparse[int32, 0]\n",
      " 51  category_Narrative Film     331672 non-null  Sparse[int32, 0]\n",
      " 52  category_Nonfiction         331672 non-null  Sparse[int32, 0]\n",
      " 53  category_Painting           331672 non-null  Sparse[int32, 0]\n",
      " 54  category_Photography        331672 non-null  Sparse[int32, 0]\n",
      " 55  category_Pop                331672 non-null  Sparse[int32, 0]\n",
      " 56  category_Product Design     331672 non-null  Sparse[int32, 0]\n",
      " 57  category_Public Art         331672 non-null  Sparse[int32, 0]\n",
      " 58  category_Publishing         331672 non-null  Sparse[int32, 0]\n",
      " 59  category_Restaurants        331672 non-null  Sparse[int32, 0]\n",
      " 60  category_Rock               331672 non-null  Sparse[int32, 0]\n",
      " 61  category_Shorts             331672 non-null  Sparse[int32, 0]\n",
      " 62  category_Software           331672 non-null  Sparse[int32, 0]\n",
      " 63  category_Tabletop Games     331672 non-null  Sparse[int32, 0]\n",
      " 64  category_Technology         331672 non-null  Sparse[int32, 0]\n",
      " 65  category_Theater            331672 non-null  Sparse[int32, 0]\n",
      " 66  category_Video Games        331672 non-null  Sparse[int32, 0]\n",
      " 67  category_Web                331672 non-null  Sparse[int32, 0]\n",
      " 68  category_Webseries          331672 non-null  Sparse[int32, 0]\n",
      " 69  goal_band                   331672 non-null  category        \n",
      "dtypes: Sparse[int32, 0](54), Sparse[uint8, 0](14), bool(1), category(1)\n",
      "memory usage: 9.1 MB\n"
     ]
    }
   ],
   "source": [
    "df_ML.info() # 確認"
   ]
  },
  {
   "cell_type": "markdown",
   "metadata": {},
   "source": [
    "## 4.2 学習と識別\n",
    "### 学習\n",
    "ここまでで用意したデータを使って、学習させる。"
   ]
  },
  {
   "cell_type": "code",
   "execution_count": 36,
   "metadata": {},
   "outputs": [],
   "source": [
    "from sklearn.linear_model import SGDClassifier\n",
    "from sklearn.metrics import log_loss, accuracy_score, confusion_matrix, precision_recall_fscore_support"
   ]
  },
  {
   "cell_type": "code",
   "execution_count": 37,
   "metadata": {},
   "outputs": [],
   "source": [
    "# トレーニングデータと、検証用データに分ける。\n",
    "from sklearn.model_selection import train_test_split\n",
    "df_train,df_test = train_test_split(df_ML, test_size=0.3, random_state=1234)"
   ]
  },
  {
   "cell_type": "code",
   "execution_count": 38,
   "metadata": {},
   "outputs": [],
   "source": [
    "# それぞれ説明変数、目的変数に分ける\n",
    "train_X = df_train[df_ML.columns[1:]]\n",
    "train_Y = df_train[df_ML.columns[0]]\n",
    "test_X  = df_test[df_ML.columns[1:]]\n",
    "test_Y  = df_test[df_ML.columns[0]]"
   ]
  },
  {
   "cell_type": "code",
   "execution_count": 39,
   "metadata": {},
   "outputs": [
    {
     "data": {
      "text/plain": [
       "SGDClassifier(alpha=0.0001, average=False, class_weight=None,\n",
       "              early_stopping=False, epsilon=0.1, eta0=0.0, fit_intercept=True,\n",
       "              l1_ratio=0.15, learning_rate='optimal', loss='log', max_iter=1000,\n",
       "              n_iter_no_change=5, n_jobs=None, penalty='none', power_t=0.5,\n",
       "              random_state=1234, shuffle=True, tol=0.0001,\n",
       "              validation_fraction=0.1, verbose=0, warm_start=False)"
      ]
     },
     "execution_count": 39,
     "metadata": {},
     "output_type": "execute_result"
    }
   ],
   "source": [
    "# ロジスティック回帰\n",
    "clf = SGDClassifier(loss=\"log\", penalty=\"none\", max_iter=1000, fit_intercept=True, random_state=1234, tol=1e-4)\n",
    "clf.fit(train_X, train_Y)"
   ]
  },
  {
   "cell_type": "markdown",
   "metadata": {},
   "source": [
    "### 識別\n",
    "テストデータを用いて作成したモデルを評価する。"
   ]
  },
  {
   "cell_type": "code",
   "execution_count": 40,
   "metadata": {},
   "outputs": [],
   "source": [
    "# 予測\n",
    "y_pred = clf.predict(test_X)"
   ]
  },
  {
   "cell_type": "code",
   "execution_count": 41,
   "metadata": {},
   "outputs": [
    {
     "name": "stdout",
     "output_type": "stream",
     "text": [
      "正答率（Accuracy）  = 65.864%\n",
      "再現率（Recall）    = 78.002%\n",
      "適合率（Precision） = 68.860%\n"
     ]
    }
   ],
   "source": [
    "# 結果を確認する\n",
    "accuracy = accuracy_score(test_Y, y_pred)\n",
    "precision, recall, f1_score, _ = precision_recall_fscore_support(test_Y, y_pred)\n",
    "print('正答率（Accuracy）  = {:.3f}%'.format(100 * accuracy))\n",
    "print('再現率（Recall）    = {:.3f}%'.format(100 * recall[0]))\n",
    "print('適合率（Precision） = {:.3f}%'.format(100 * precision[0]))"
   ]
  },
  {
   "cell_type": "code",
   "execution_count": 42,
   "metadata": {},
   "outputs": [
    {
     "data": {
      "text/html": [
       "<div>\n",
       "<style scoped>\n",
       "    .dataframe tbody tr th:only-of-type {\n",
       "        vertical-align: middle;\n",
       "    }\n",
       "\n",
       "    .dataframe tbody tr th {\n",
       "        vertical-align: top;\n",
       "    }\n",
       "\n",
       "    .dataframe thead th {\n",
       "        text-align: right;\n",
       "    }\n",
       "</style>\n",
       "<table border=\"1\" class=\"dataframe\">\n",
       "  <thead>\n",
       "    <tr style=\"text-align: right;\">\n",
       "      <th></th>\n",
       "      <th>予測 = 失敗</th>\n",
       "      <th>予測 = 成功</th>\n",
       "    </tr>\n",
       "  </thead>\n",
       "  <tbody>\n",
       "    <tr>\n",
       "      <th>正解 = 失敗</th>\n",
       "      <td>46260</td>\n",
       "      <td>13046</td>\n",
       "    </tr>\n",
       "    <tr>\n",
       "      <th>正解 = 成功</th>\n",
       "      <td>20920</td>\n",
       "      <td>19276</td>\n",
       "    </tr>\n",
       "  </tbody>\n",
       "</table>\n",
       "</div>"
      ],
      "text/plain": [
       "         予測 = 失敗  予測 = 成功\n",
       "正解 = 失敗    46260    13046\n",
       "正解 = 成功    20920    19276"
      ]
     },
     "execution_count": 42,
     "metadata": {},
     "output_type": "execute_result"
    }
   ],
   "source": [
    "# クロス集計\n",
    "conf_mat = confusion_matrix(test_Y, y_pred)\n",
    "conf_mat = pd.DataFrame(conf_mat, \n",
    "                        index=['正解 = 失敗', '正解 = 成功'], \n",
    "                        columns=['予測 = 失敗', '予測 = 成功'])\n",
    "conf_mat"
   ]
  },
  {
   "cell_type": "markdown",
   "metadata": {},
   "source": [
    "## 5 まとめ"
   ]
  },
  {
   "cell_type": "markdown",
   "metadata": {},
   "source": [
    "データを処理、変換してモデルに渡し、予測することはできたが思ったように精度が出なかった。  \n",
    "目標金額が非常に大きかったり、成功率が低いジャンルが存在するため失敗を特徴づける変数は比較的多いように思えた。そのため、現時点では失敗よりも成功を予測するのが難しいと感じている。"
   ]
  }
 ],
 "metadata": {
  "kernelspec": {
   "display_name": "Python 3",
   "language": "python",
   "name": "python3"
  },
  "language_info": {
   "codemirror_mode": {
    "name": "ipython",
    "version": 3
   },
   "file_extension": ".py",
   "mimetype": "text/x-python",
   "name": "python",
   "nbconvert_exporter": "python",
   "pygments_lexer": "ipython3",
   "version": "3.7.6"
  }
 },
 "nbformat": 4,
 "nbformat_minor": 4
}
